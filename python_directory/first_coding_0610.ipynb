{
 "cells": [
  {
   "cell_type": "markdown",
   "id": "c062c66d",
   "metadata": {},
   "source": [
    "### 리스트 2025.06.10"
   ]
  },
  {
   "cell_type": "code",
   "execution_count": 37,
   "id": "0b0dbb37",
   "metadata": {},
   "outputs": [],
   "source": [
    "# 리스트: [] => 순서를 가지는 데이터 묶음\n",
    "# index 값으로 요소들을 참조 => 0 ~ N(요소의 개수)-1\n",
    "list_a = [1,2,3]\n",
    "# index   0,1,2\n",
    "# 요소의 개수: 3"
   ]
  },
  {
   "cell_type": "code",
   "execution_count": 38,
   "id": "717f190d",
   "metadata": {},
   "outputs": [
    {
     "name": "stdout",
     "output_type": "stream",
     "text": [
      "[1, 2, 3] <class 'list'>\n"
     ]
    }
   ],
   "source": [
    "print(list_a, type(list_a))"
   ]
  },
  {
   "cell_type": "code",
   "execution_count": 39,
   "id": "1b99ece2",
   "metadata": {},
   "outputs": [],
   "source": [
    "# bool(), int(), float(), str(), list()"
   ]
  },
  {
   "cell_type": "code",
   "execution_count": 40,
   "id": "400620ac",
   "metadata": {},
   "outputs": [
    {
     "data": {
      "text/plain": [
       "3"
      ]
     },
     "execution_count": 40,
     "metadata": {},
     "output_type": "execute_result"
    }
   ],
   "source": [
    "# 요소의 참조\n",
    "list_a[2]"
   ]
  },
  {
   "cell_type": "code",
   "execution_count": 41,
   "id": "8d984a7e",
   "metadata": {},
   "outputs": [],
   "source": [
    "# 리스트 값 변경\n",
    "list_a[2] = 4"
   ]
  },
  {
   "cell_type": "code",
   "execution_count": 42,
   "id": "83c83337",
   "metadata": {},
   "outputs": [
    {
     "data": {
      "text/plain": [
       "[1, 2, 4]"
      ]
     },
     "execution_count": 42,
     "metadata": {},
     "output_type": "execute_result"
    }
   ],
   "source": [
    "list_a"
   ]
  },
  {
   "cell_type": "code",
   "execution_count": 43,
   "id": "eb1c2298",
   "metadata": {},
   "outputs": [
    {
     "data": {
      "text/plain": [
       "3"
      ]
     },
     "execution_count": 43,
     "metadata": {},
     "output_type": "execute_result"
    }
   ],
   "source": [
    "list_a[0] + list_a[1]"
   ]
  },
  {
   "cell_type": "code",
   "execution_count": 44,
   "id": "40c8e0a5",
   "metadata": {},
   "outputs": [
    {
     "data": {
      "text/plain": [
       "4"
      ]
     },
     "execution_count": 44,
     "metadata": {},
     "output_type": "execute_result"
    }
   ],
   "source": [
    "list_a[-1] # 문자열 마지막부터"
   ]
  },
  {
   "cell_type": "code",
   "execution_count": 45,
   "id": "bdd90e9d",
   "metadata": {},
   "outputs": [
    {
     "data": {
      "text/plain": [
       "2"
      ]
     },
     "execution_count": 45,
     "metadata": {},
     "output_type": "execute_result"
    }
   ],
   "source": [
    "len(list_a)-1 # N-1"
   ]
  },
  {
   "cell_type": "code",
   "execution_count": 46,
   "id": "e557ee2a",
   "metadata": {},
   "outputs": [
    {
     "data": {
      "text/plain": [
       "4"
      ]
     },
     "execution_count": 46,
     "metadata": {},
     "output_type": "execute_result"
    }
   ],
   "source": [
    "list_a[len(list_a)-1] # 마지막 인덱스를 찾아주는 수식"
   ]
  },
  {
   "cell_type": "code",
   "execution_count": 47,
   "id": "a1cd6a3f",
   "metadata": {},
   "outputs": [],
   "source": [
    "list_b = [1, 2, 3, ['a', 'b', 'c']]\n",
    "#         0  1  2         3\n",
    "#       int int int    list"
   ]
  },
  {
   "cell_type": "code",
   "execution_count": 48,
   "id": "47341bf1",
   "metadata": {},
   "outputs": [
    {
     "data": {
      "text/plain": [
       "4"
      ]
     },
     "execution_count": 48,
     "metadata": {},
     "output_type": "execute_result"
    }
   ],
   "source": [
    "len(list_b)"
   ]
  },
  {
   "cell_type": "code",
   "execution_count": 49,
   "id": "911c6b5a",
   "metadata": {},
   "outputs": [
    {
     "name": "stdout",
     "output_type": "stream",
     "text": [
      "1\n",
      "2\n",
      "3\n",
      "['a', 'b', 'c']\n",
      "a\n",
      "b\n",
      "c\n"
     ]
    }
   ],
   "source": [
    "print(list_b[0])\n",
    "print(list_b[1])\n",
    "print(list_b[2])\n",
    "print(list_b[3])  # list\n",
    "print(list_b[3][0]) # list 안에 list => list의 중첩\n",
    "print(list_b[3][1])\n",
    "print(list_b[3][2])\n",
    "#   list를 가지는 주소값[index]"
   ]
  },
  {
   "cell_type": "code",
   "execution_count": 50,
   "id": "c4d99a8f",
   "metadata": {},
   "outputs": [],
   "source": [
    "# 슬라이싱\n",
    "list_c = [1, 2, 3, 4, 5]"
   ]
  },
  {
   "cell_type": "code",
   "execution_count": 51,
   "id": "cf9abeac",
   "metadata": {},
   "outputs": [
    {
     "name": "stdout",
     "output_type": "stream",
     "text": [
      "[1, 2, 3, 4]\n",
      "[1, 2, 3, 4, 5]\n",
      "[1, 2, 3, 4, 5]\n"
     ]
    }
   ],
   "source": [
    "print(list_c[0:4])\n",
    "print(list_c[:])\n",
    "print(list_c)"
   ]
  },
  {
   "cell_type": "code",
   "execution_count": 52,
   "id": "37e2cb8f",
   "metadata": {},
   "outputs": [],
   "source": [
    "# list의 연산: +, *\n",
    "list_d = [100, 200, 300]"
   ]
  },
  {
   "cell_type": "code",
   "execution_count": 53,
   "id": "7cf0f45e",
   "metadata": {},
   "outputs": [
    {
     "name": "stdout",
     "output_type": "stream",
     "text": [
      "[1, 2, 3, 4, 5, 100, 200, 300]\n",
      "[100, 200, 300, 1, 2, 3, 4, 5]\n"
     ]
    }
   ],
   "source": [
    "list_c\n",
    "list_d\n",
    "print(list_c + list_d)\n",
    "print(list_d + list_c)"
   ]
  },
  {
   "cell_type": "code",
   "execution_count": 54,
   "id": "13bfd344",
   "metadata": {},
   "outputs": [
    {
     "name": "stdout",
     "output_type": "stream",
     "text": [
      "[100, 200, 300, 100, 200, 300, 100, 200, 300]\n",
      "[1, 2, 3, 4, 5, 1, 2, 3, 4, 5]\n"
     ]
    }
   ],
   "source": [
    "# *: 리스트의 요소를 n번 반복\n",
    "print(list_d * 3)\n",
    "print(list_c * 2)"
   ]
  },
  {
   "cell_type": "code",
   "execution_count": 55,
   "id": "b412f9fb",
   "metadata": {},
   "outputs": [],
   "source": [
    "# 리스트에 요소(데이터) 추가: 순서 => 마지막 인덱스 다음 데이터 추가\n",
    "# append(): 메서드 => 리스트의 마지막에 데이터 추가\n",
    "list_a = [1, 2, 3, 7, 4, 8]"
   ]
  },
  {
   "cell_type": "code",
   "execution_count": 56,
   "id": "219e35a3",
   "metadata": {},
   "outputs": [],
   "source": [
    "list_a.append(500)\n",
    "# 객체(list) ()안에 요소를 맨 뒤에 추가함"
   ]
  },
  {
   "cell_type": "code",
   "execution_count": 57,
   "id": "25178aab",
   "metadata": {},
   "outputs": [
    {
     "data": {
      "text/plain": [
       "1"
      ]
     },
     "execution_count": 57,
     "metadata": {},
     "output_type": "execute_result"
    }
   ],
   "source": [
    "# pop: 마지막 요소 축출 -> 삭제, 값을 반환\n",
    "# 기본값은 -1\n",
    "list_a.pop(0)"
   ]
  },
  {
   "cell_type": "code",
   "execution_count": 58,
   "id": "f838eef8",
   "metadata": {},
   "outputs": [
    {
     "data": {
      "text/plain": [
       "[2, 3, 7, 4, 8, 500]"
      ]
     },
     "execution_count": 58,
     "metadata": {},
     "output_type": "execute_result"
    }
   ],
   "source": [
    "list_a"
   ]
  },
  {
   "cell_type": "code",
   "execution_count": 59,
   "id": "b1414997",
   "metadata": {},
   "outputs": [
    {
     "data": {
      "text/plain": [
       "[1, 2, 3, 4, 7, 8]"
      ]
     },
     "execution_count": 59,
     "metadata": {},
     "output_type": "execute_result"
    }
   ],
   "source": [
    "# 정렬\n",
    "list_a = [1, 2, 3, 7, 4, 8]\n",
    "list_a.sort()\n",
    "list_a"
   ]
  },
  {
   "cell_type": "code",
   "execution_count": 60,
   "id": "503da8a3",
   "metadata": {},
   "outputs": [
    {
     "data": {
      "text/plain": [
       "[8, 7, 4, 3, 2, 1]"
      ]
     },
     "execution_count": 60,
     "metadata": {},
     "output_type": "execute_result"
    }
   ],
   "source": [
    "# 반대 정렬\n",
    "list_a.reverse()\n",
    "list_a"
   ]
  },
  {
   "cell_type": "code",
   "execution_count": 61,
   "id": "a3797cca",
   "metadata": {},
   "outputs": [
    {
     "data": {
      "text/plain": [
       "4"
      ]
     },
     "execution_count": 61,
     "metadata": {},
     "output_type": "execute_result"
    }
   ],
   "source": [
    "# index(): 특정 데이터 위치 찾아줌\n",
    "list_a.index(2) # 2라는 숫자가 4안댁스에 위치함"
   ]
  },
  {
   "cell_type": "code",
   "execution_count": 62,
   "id": "3243bd19",
   "metadata": {},
   "outputs": [],
   "source": [
    "# extend(): 확장하는 것, '+' 와의 차이 = > extend는 원본 데이터도 변경\n",
    "# 원본 데이터는 유지하고 싶으면 '+' 활용\n",
    "list_a.extend(list_d)"
   ]
  },
  {
   "cell_type": "code",
   "execution_count": 63,
   "id": "395a8687",
   "metadata": {},
   "outputs": [
    {
     "data": {
      "text/plain": [
       "[8, 7, 4, 3, 2, 1, 100, 200, 300]"
      ]
     },
     "execution_count": 63,
     "metadata": {},
     "output_type": "execute_result"
    }
   ],
   "source": [
    "list_a"
   ]
  },
  {
   "cell_type": "code",
   "execution_count": 64,
   "id": "5bedd202",
   "metadata": {},
   "outputs": [
    {
     "name": "stdout",
     "output_type": "stream",
     "text": [
      "<class 'tuple'>\n"
     ]
    }
   ],
   "source": [
    "# tuple: list와 동일\n",
    "# 단 요소(데이터) 변경은 불가능 -> 데이터 안전하게 유지\n",
    "t_1 = ()\n",
    "print(type(t_1))"
   ]
  },
  {
   "cell_type": "code",
   "execution_count": 65,
   "id": "7d3910cf",
   "metadata": {},
   "outputs": [],
   "source": [
    "t_2 = (1, 2, 3, 4)\n",
    "t_3 = 10, 20, 30, 40\n",
    "# 괄호 생략 가능 !"
   ]
  },
  {
   "cell_type": "code",
   "execution_count": 66,
   "id": "70f93e43",
   "metadata": {},
   "outputs": [
    {
     "data": {
      "text/plain": [
       "tuple"
      ]
     },
     "execution_count": 66,
     "metadata": {},
     "output_type": "execute_result"
    }
   ],
   "source": [
    "type(t_3)"
   ]
  },
  {
   "cell_type": "code",
   "execution_count": 67,
   "id": "bba03d3a",
   "metadata": {},
   "outputs": [
    {
     "data": {
      "text/plain": [
       "1"
      ]
     },
     "execution_count": 67,
     "metadata": {},
     "output_type": "execute_result"
    }
   ],
   "source": [
    "t_2[0]"
   ]
  },
  {
   "cell_type": "code",
   "execution_count": 68,
   "id": "d0aadd73",
   "metadata": {},
   "outputs": [
    {
     "ename": "TypeError",
     "evalue": "'tuple' object does not support item assignment",
     "output_type": "error",
     "traceback": [
      "\u001b[31m---------------------------------------------------------------------------\u001b[39m",
      "\u001b[31mTypeError\u001b[39m                                 Traceback (most recent call last)",
      "\u001b[36mCell\u001b[39m\u001b[36m \u001b[39m\u001b[32mIn[68]\u001b[39m\u001b[32m, line 1\u001b[39m\n\u001b[32m----> \u001b[39m\u001b[32m1\u001b[39m \u001b[43mt_2\u001b[49m\u001b[43m[\u001b[49m\u001b[32;43m0\u001b[39;49m\u001b[43m]\u001b[49m = \u001b[32m100\u001b[39m\n\u001b[32m      2\u001b[39m \u001b[38;5;66;03m# 에러 발생 <튜플은 할당되지 않음(변경)>\u001b[39;00m\n",
      "\u001b[31mTypeError\u001b[39m: 'tuple' object does not support item assignment"
     ]
    }
   ],
   "source": [
    "t_2[0] = 100\n",
    "# 에러 발생 <튜플은 할당되지 않음(변경)>"
   ]
  },
  {
   "cell_type": "code",
   "execution_count": null,
   "id": "dc221815",
   "metadata": {},
   "outputs": [
    {
     "data": {
      "text/plain": [
       "(20, 30)"
      ]
     },
     "execution_count": 268,
     "metadata": {},
     "output_type": "execute_result"
    }
   ],
   "source": [
    "# 튜플 슬라이싱\n",
    "t_3[1:3]"
   ]
  },
  {
   "cell_type": "code",
   "execution_count": null,
   "id": "dd2d6f3f",
   "metadata": {},
   "outputs": [],
   "source": [
    "a, b, c = 1000, 2000, 3000 # 특정함수에서 반환 데이터 tuple 타입"
   ]
  },
  {
   "cell_type": "code",
   "execution_count": null,
   "id": "633474b9",
   "metadata": {},
   "outputs": [
    {
     "name": "stdout",
     "output_type": "stream",
     "text": [
      "1000 2000 3000\n"
     ]
    }
   ],
   "source": [
    "print(a, b, c)"
   ]
  },
  {
   "cell_type": "code",
   "execution_count": null,
   "id": "27ae859c",
   "metadata": {},
   "outputs": [
    {
     "name": "stdout",
     "output_type": "stream",
     "text": [
      "<class 'dict'>\n"
     ]
    },
    {
     "data": {
      "text/plain": [
       "{}"
      ]
     },
     "execution_count": 275,
     "metadata": {},
     "output_type": "execute_result"
    }
   ],
   "source": [
    "# 딕셔너리: key : value => key 값으로 데이터를 참조\n",
    "# {key1 : value1, key2 : value2, ...}\n",
    "\n",
    "dict_1 = {}\n",
    "print(type(dict_1))\n",
    "dict_1"
   ]
  },
  {
   "cell_type": "code",
   "execution_count": null,
   "id": "27648e0b",
   "metadata": {},
   "outputs": [
    {
     "name": "stdout",
     "output_type": "stream",
     "text": [
      "{1: 'a'}\n",
      "<class 'dict'>\n"
     ]
    }
   ],
   "source": [
    "dict_2 = {1: 'a'}\n",
    "print(dict_2)\n",
    "print(type(dict_2))"
   ]
  },
  {
   "cell_type": "code",
   "execution_count": null,
   "id": "a9623ede",
   "metadata": {},
   "outputs": [
    {
     "data": {
      "text/plain": [
       "{1: 'a', 2: 'b'}"
      ]
     },
     "execution_count": 280,
     "metadata": {},
     "output_type": "execute_result"
    }
   ],
   "source": [
    "# 요소 값 추가 => key 정의, 값 정의\n",
    "dict_2[2] = 'b'\n",
    "dict_2"
   ]
  },
  {
   "cell_type": "code",
   "execution_count": null,
   "id": "f1560534",
   "metadata": {},
   "outputs": [
    {
     "data": {
      "text/plain": [
       "{1: 'a', 2: 'b', 3: (1, 2, 3)}"
      ]
     },
     "execution_count": 290,
     "metadata": {},
     "output_type": "execute_result"
    }
   ],
   "source": [
    "dict_2[3] = (1, 2, 3)\n",
    "dict_2"
   ]
  },
  {
   "cell_type": "code",
   "execution_count": null,
   "id": "9ab3b056",
   "metadata": {},
   "outputs": [
    {
     "data": {
      "text/plain": [
       "{1: 'a', 2: 'b'}"
      ]
     },
     "execution_count": 291,
     "metadata": {},
     "output_type": "execute_result"
    }
   ],
   "source": [
    "# 값 삭제\n",
    "del dict_2[3]\n",
    "dict_2"
   ]
  },
  {
   "cell_type": "code",
   "execution_count": null,
   "id": "533eb8a6",
   "metadata": {},
   "outputs": [],
   "source": [
    "# 학생: 학번, 이름, 학년, 학과 => 데이터의 구조화\n",
    "\n",
    "student_1 = {\n",
    "    's_no' : 1111,\n",
    "    's_name' : 'KING',\n",
    "    'grade' : 4,\n",
    "    'major' : 'COM'\n",
    "}"
   ]
  },
  {
   "cell_type": "code",
   "execution_count": null,
   "id": "a4725855",
   "metadata": {},
   "outputs": [
    {
     "data": {
      "text/plain": [
       "'KING'"
      ]
     },
     "execution_count": 302,
     "metadata": {},
     "output_type": "execute_result"
    }
   ],
   "source": [
    "student_1['s_name']"
   ]
  },
  {
   "cell_type": "code",
   "execution_count": null,
   "id": "b4fe93eb",
   "metadata": {},
   "outputs": [],
   "source": [
    "player = {\n",
    "    'team' : 'TOT',\n",
    "    'name' : 'SON',\n",
    "    'number' : 7\n",
    "}"
   ]
  },
  {
   "cell_type": "code",
   "execution_count": null,
   "id": "042276b7",
   "metadata": {},
   "outputs": [
    {
     "data": {
      "text/plain": [
       "dict_keys(['team', 'name', 'number'])"
      ]
     },
     "execution_count": 308,
     "metadata": {},
     "output_type": "execute_result"
    }
   ],
   "source": [
    "# key 형식 반환\n",
    "player.keys()"
   ]
  },
  {
   "cell_type": "code",
   "execution_count": null,
   "id": "b51e59e6",
   "metadata": {},
   "outputs": [
    {
     "data": {
      "text/plain": [
       "['team', 'name', 'number']"
      ]
     },
     "execution_count": 309,
     "metadata": {},
     "output_type": "execute_result"
    }
   ],
   "source": [
    "list(player.keys())"
   ]
  },
  {
   "cell_type": "code",
   "execution_count": null,
   "id": "4d45b757",
   "metadata": {},
   "outputs": [
    {
     "data": {
      "text/plain": [
       "dict_values(['TOT', 'SON', 7])"
      ]
     },
     "execution_count": 311,
     "metadata": {},
     "output_type": "execute_result"
    }
   ],
   "source": [
    "# value 값 반환\n",
    "player.values()"
   ]
  },
  {
   "cell_type": "code",
   "execution_count": null,
   "id": "4f50063a",
   "metadata": {},
   "outputs": [
    {
     "data": {
      "text/plain": [
       "['TOT', 'SON', 7]"
      ]
     },
     "execution_count": 312,
     "metadata": {},
     "output_type": "execute_result"
    }
   ],
   "source": [
    "list(player.values())"
   ]
  },
  {
   "cell_type": "code",
   "execution_count": null,
   "id": "234d6d6d",
   "metadata": {},
   "outputs": [
    {
     "name": "stdout",
     "output_type": "stream",
     "text": [
      "True\n",
      "False\n"
     ]
    }
   ],
   "source": [
    "# player 안에 'name' key 존재 여부\"\n",
    "print('name' in player)\n",
    "print('names' in player)"
   ]
  },
  {
   "cell_type": "code",
   "execution_count": null,
   "id": "855ca659",
   "metadata": {},
   "outputs": [
    {
     "data": {
      "text/plain": [
       "dict_items([('team', 'TOT'), ('name', 'SON'), ('number', 7)])"
      ]
     },
     "execution_count": 316,
     "metadata": {},
     "output_type": "execute_result"
    }
   ],
   "source": [
    "# 각 각의 요소가 튜플형식으로 반환\n",
    "player.items()"
   ]
  },
  {
   "cell_type": "code",
   "execution_count": null,
   "id": "e11daeae",
   "metadata": {},
   "outputs": [],
   "source": [
    "list_temp = list(player.items())"
   ]
  },
  {
   "cell_type": "code",
   "execution_count": null,
   "id": "726b657a",
   "metadata": {},
   "outputs": [
    {
     "data": {
      "text/plain": [
       "[('team', 'TOT'), ('name', 'SON'), ('number', 7)]"
      ]
     },
     "execution_count": 318,
     "metadata": {},
     "output_type": "execute_result"
    }
   ],
   "source": [
    "list_temp"
   ]
  },
  {
   "cell_type": "code",
   "execution_count": null,
   "id": "5eb85ed8",
   "metadata": {},
   "outputs": [
    {
     "data": {
      "text/plain": [
       "7"
      ]
     },
     "execution_count": 319,
     "metadata": {},
     "output_type": "execute_result"
    }
   ],
   "source": [
    "player['number']"
   ]
  },
  {
   "cell_type": "code",
   "execution_count": null,
   "id": "2adb2f46",
   "metadata": {},
   "outputs": [
    {
     "data": {
      "text/plain": [
       "'SON'"
      ]
     },
     "execution_count": 321,
     "metadata": {},
     "output_type": "execute_result"
    }
   ],
   "source": [
    "player.get('name')"
   ]
  },
  {
   "cell_type": "code",
   "execution_count": null,
   "id": "7e6f19ee",
   "metadata": {},
   "outputs": [],
   "source": [
    "player.get('pos')\n",
    "# 값이 없다면 반환하지 않음"
   ]
  },
  {
   "cell_type": "code",
   "execution_count": null,
   "id": "b3f03988",
   "metadata": {},
   "outputs": [
    {
     "name": "stdout",
     "output_type": "stream",
     "text": [
      "None\n"
     ]
    }
   ],
   "source": [
    "pos = player.get('pos')\n",
    "print(pos)"
   ]
  },
  {
   "cell_type": "code",
   "execution_count": null,
   "id": "1c30dac3",
   "metadata": {},
   "outputs": [],
   "source": [
    "pos1 = player.get('pos', 'no pos')"
   ]
  },
  {
   "cell_type": "code",
   "execution_count": null,
   "id": "925acbb0",
   "metadata": {},
   "outputs": [
    {
     "name": "stdout",
     "output_type": "stream",
     "text": [
      "no pos\n"
     ]
    }
   ],
   "source": [
    "print(pos1)"
   ]
  },
  {
   "cell_type": "code",
   "execution_count": null,
   "id": "48e7da6f",
   "metadata": {},
   "outputs": [
    {
     "data": {
      "text/plain": [
       "{1, 2, 3, 4, 5}"
      ]
     },
     "execution_count": 329,
     "metadata": {},
     "output_type": "execute_result"
    }
   ],
   "source": [
    "# set: 집합 => 중복x, 순서x, 집합 연산 사용\n",
    "\n",
    "s_1 = set([1, 2, 3, 4, 1, 2, 5])\n",
    "s_1"
   ]
  },
  {
   "cell_type": "code",
   "execution_count": null,
   "id": "94869cdb",
   "metadata": {},
   "outputs": [
    {
     "data": {
      "text/plain": [
       "{'e', 'h', 'l', 'o'}"
      ]
     },
     "execution_count": 330,
     "metadata": {},
     "output_type": "execute_result"
    }
   ],
   "source": [
    "set_2 = set('hello')\n",
    "set_2"
   ]
  },
  {
   "cell_type": "code",
   "execution_count": null,
   "id": "9e7cf123",
   "metadata": {},
   "outputs": [
    {
     "data": {
      "text/plain": [
       "[1, 2, 3, 4, 5]"
      ]
     },
     "execution_count": 332,
     "metadata": {},
     "output_type": "execute_result"
    }
   ],
   "source": [
    "# 중복되는거 제외하고 리스트로 반환\n",
    "list_1 = list(s_1)\n",
    "list_1"
   ]
  },
  {
   "cell_type": "code",
   "execution_count": null,
   "id": "658e0605",
   "metadata": {},
   "outputs": [],
   "source": [
    "set_2 = set([1,2,3,4,5,6])\n",
    "set_3 = set([4,5,6,7,8,9])"
   ]
  },
  {
   "cell_type": "code",
   "execution_count": null,
   "id": "98de376a",
   "metadata": {},
   "outputs": [
    {
     "name": "stdout",
     "output_type": "stream",
     "text": [
      "{4, 5, 6}\n",
      "{1, 2, 3, 4, 5, 6, 7, 8, 9}\n",
      "{1, 2, 3}\n",
      "{8, 9, 7}\n"
     ]
    }
   ],
   "source": [
    "print(set_2 & set_3)\n",
    "print(set_2 | set_3)\n",
    "print(set_2 - set_3)\n",
    "print(set_3 - set_2)"
   ]
  },
  {
   "cell_type": "code",
   "execution_count": null,
   "id": "05f594b9",
   "metadata": {},
   "outputs": [
    {
     "data": {
      "text/plain": [
       "{1, 2, 3, 4, 5, 6}"
      ]
     },
     "execution_count": 339,
     "metadata": {},
     "output_type": "execute_result"
    }
   ],
   "source": [
    "# set 에서 데이터 추가(중복 데이터 입력 X) 삭제\n",
    "set_2.add(3)\n",
    "set_2   # 3을 이미 가지고 있었기 때문에 입력되지 않음"
   ]
  },
  {
   "cell_type": "code",
   "execution_count": null,
   "id": "49e634a1",
   "metadata": {},
   "outputs": [],
   "source": [
    "set_2.remove(6)"
   ]
  },
  {
   "cell_type": "code",
   "execution_count": null,
   "id": "b8799796",
   "metadata": {},
   "outputs": [
    {
     "data": {
      "text/plain": [
       "{1, 2, 3, 4, 5, 7, 8}"
      ]
     },
     "execution_count": 342,
     "metadata": {},
     "output_type": "execute_result"
    }
   ],
   "source": [
    "set_2.update([1,1,3,4,7,8])\n",
    "set_2"
   ]
  },
  {
   "cell_type": "code",
   "execution_count": null,
   "id": "8baaeaa5",
   "metadata": {},
   "outputs": [
    {
     "name": "stdout",
     "output_type": "stream",
     "text": [
      "환영합니다~~!\n",
      "게임을 시작하세요!\n"
     ]
    }
   ],
   "source": [
    "# if: 분기 => ~라면, 아니라면\n",
    "# 성인이라면, 성인이 아니라면\n",
    "\n",
    "age = 15\n",
    "\n",
    "# 성인이라면 -> 환영 메시지, 미성년 -> 킥\n",
    "if age >=15:\n",
    "    print('환영합니다~~!')\n",
    "    print('게임을 시작하세요!')\n",
    "else:\n",
    "    print('킥~~')"
   ]
  },
  {
   "cell_type": "code",
   "execution_count": null,
   "id": "4875778e",
   "metadata": {},
   "outputs": [
    {
     "name": "stdout",
     "output_type": "stream",
     "text": [
      "짝수\n"
     ]
    }
   ],
   "source": [
    "# 홀수, 짝수 판단 => 숫자 % 2: 1-> 홀수, 0-> 짝수\n",
    "\n",
    "num = 10\n",
    "if num % 2 == 0:\n",
    "    print('짝수')\n",
    "else:\n",
    "    print('홀수')"
   ]
  },
  {
   "cell_type": "code",
   "execution_count": null,
   "id": "246f9e52",
   "metadata": {},
   "outputs": [
    {
     "name": "stdout",
     "output_type": "stream",
     "text": [
      "음수\n"
     ]
    }
   ],
   "source": [
    "# 양수 +, => num1 > 0\n",
    "# 음수 -,  => num1 < 0\n",
    "# 0 => num == 0 => num1이 0보다 작지도 크지도 않다\n",
    "\n",
    "num1 = -10\n",
    "\n",
    "if num1 > 0:\n",
    "    print('양수')\n",
    "elif num1 < 0:\n",
    "    print('음수')\n",
    "else:\n",
    "    print('0')"
   ]
  },
  {
   "cell_type": "code",
   "execution_count": null,
   "id": "453b3b08",
   "metadata": {},
   "outputs": [
    {
     "name": "stdout",
     "output_type": "stream",
     "text": [
      "음수\n"
     ]
    }
   ],
   "source": [
    "print('양수' if num1 > 0 else '음수' if num1 < 0 else '0')"
   ]
  },
  {
   "cell_type": "code",
   "execution_count": null,
   "id": "bbbf24a6",
   "metadata": {},
   "outputs": [
    {
     "name": "stdout",
     "output_type": "stream",
     "text": [
      "FAIL\n"
     ]
    }
   ],
   "source": [
    "# 운전면허 시험\n",
    "score = 70\n",
    "\n",
    "check_msg = 'PASS' if score >=80 else 'FAIL'\n",
    "print(check_msg)"
   ]
  },
  {
   "cell_type": "code",
   "execution_count": null,
   "id": "4707f168",
   "metadata": {},
   "outputs": [
    {
     "name": "stdout",
     "output_type": "stream",
     "text": [
      "FAIL\n"
     ]
    }
   ],
   "source": [
    "# 기본값을 만들고, 바뀌는 형식\n",
    "check_msg = 'PASS'\n",
    "if score < 80:\n",
    "    check_msg = 'FAIL'\n",
    "\n",
    "print(check_msg)"
   ]
  },
  {
   "cell_type": "code",
   "execution_count": null,
   "id": "2c3133df",
   "metadata": {},
   "outputs": [
    {
     "name": "stdout",
     "output_type": "stream",
     "text": [
      "ㅇ <class 'str'>\n"
     ]
    }
   ],
   "source": [
    "# 표준 출력 함수 => print()\n",
    "# 표준 입력 함수 => input()\n",
    "\n",
    "user_name = input('이름을 입력하세요!')\n",
    "print(user_name, type(user_name))"
   ]
  },
  {
   "cell_type": "code",
   "execution_count": null,
   "id": "470785ee",
   "metadata": {},
   "outputs": [
    {
     "name": "stdout",
     "output_type": "stream",
     "text": [
      "33 <class 'int'> 1992\n"
     ]
    }
   ],
   "source": [
    "# 정수형식으로 변환 int\n",
    "user_age = int(input('나이를 입력하세요!'))\n",
    "print(user_age, type(user_age), 2025-user_age)"
   ]
  },
  {
   "cell_type": "code",
   "execution_count": null,
   "id": "3976a334",
   "metadata": {},
   "outputs": [
    {
     "name": "stdout",
     "output_type": "stream",
     "text": [
      "무료 접종 대상이 아닙니다.\n"
     ]
    }
   ],
   "source": [
    "age = 43\n",
    "\n",
    "if age < 15 or age >=65:\n",
    "    print('무료 예방접종 가능!')\n",
    "else:\n",
    "    print('무료 접종 대상이 아닙니다.')"
   ]
  },
  {
   "cell_type": "code",
   "execution_count": null,
   "id": "3d5a289b",
   "metadata": {},
   "outputs": [
    {
     "name": "stdout",
     "output_type": "stream",
     "text": [
      "무료접종 불가\n"
     ]
    }
   ],
   "source": [
    "print('무료접종 가능' if age < 15 or age >= 65 else '무료접종 불가')"
   ]
  },
  {
   "cell_type": "code",
   "execution_count": null,
   "id": "8561b89e",
   "metadata": {},
   "outputs": [
    {
     "name": "stdout",
     "output_type": "stream",
     "text": [
      "1\n",
      "2\n",
      "3\n",
      "4\n",
      "5\n"
     ]
    }
   ],
   "source": [
    "# 반복문: while condition(True/False): \n",
    "# 조건식을 통해서 반복 -> 탈출이 가능해야한다.!\n",
    "\n",
    "cnt = 0\n",
    "\n",
    "while cnt < 5:\n",
    "    cnt += 1\n",
    "    print(cnt)\n",
    "    \n"
   ]
  },
  {
   "cell_type": "code",
   "execution_count": null,
   "id": "fa8bd5ca",
   "metadata": {},
   "outputs": [
    {
     "name": "stdout",
     "output_type": "stream",
     "text": [
      "1\n",
      "3\n",
      "5\n",
      "7\n",
      "9\n"
     ]
    }
   ],
   "source": [
    "# 1 ~ 10까지 출력, 홀수만 출력\n",
    "\n",
    "cnt = 0\n",
    "while cnt < 10 :\n",
    "    cnt += 1\n",
    "    if cnt % 2 == 1:\n",
    "        print(cnt)\n"
   ]
  },
  {
   "cell_type": "code",
   "execution_count": null,
   "id": "2aa48384",
   "metadata": {},
   "outputs": [
    {
     "name": "stdout",
     "output_type": "stream",
     "text": [
      "1\n",
      "3\n",
      "5\n",
      "7\n",
      "9\n"
     ]
    }
   ],
   "source": [
    "cnt = 0\n",
    "while cnt < 10 :\n",
    "    cnt += 1\n",
    "    \n",
    "    if cnt % 2 == 0:\n",
    "        continue\n",
    "    print(cnt)"
   ]
  },
  {
   "cell_type": "code",
   "execution_count": null,
   "id": "a1b52a13",
   "metadata": {},
   "outputs": [
    {
     "name": "stdout",
     "output_type": "stream",
     "text": [
      "1\n",
      "2\n",
      "3\n",
      "4\n",
      "5\n",
      "100\n",
      "200\n",
      "300\n"
     ]
    }
   ],
   "source": [
    "# for문\n",
    "\n",
    "list_a = [1,2,3,4,5,100,200,300]\n",
    "\n",
    "for i in list_a:\n",
    "    print(i)"
   ]
  },
  {
   "cell_type": "code",
   "execution_count": null,
   "id": "5bca15d3",
   "metadata": {},
   "outputs": [
    {
     "name": "stdout",
     "output_type": "stream",
     "text": [
      "1 2\n",
      "3 4\n",
      "5 6\n"
     ]
    }
   ],
   "source": [
    "list_b = [(1,2), (3,4), (5,6)]\n",
    "\n",
    "for n1, n2 in list_b:\n",
    "    print(n1, n2)"
   ]
  },
  {
   "cell_type": "code",
   "execution_count": null,
   "id": "e4bb4722",
   "metadata": {},
   "outputs": [
    {
     "name": "stdout",
     "output_type": "stream",
     "text": [
      "1 80 PASS\n",
      "2 50 Fail\n",
      "3 70 PASS\n",
      "4 100 PASS\n",
      "5 55 Fail\n",
      "총점: 355\n",
      "평균: 71.0\n"
     ]
    }
   ],
   "source": [
    "# 5명의 학생이 영어 시험 => 60점 이상은 pass 출력\n",
    "# 5명의 영어점수 총점, 평균\n",
    "\n",
    "scores = [80, 50, 70, 100, 55]\n",
    "num = 0     # 학생 리스트의 일련번호\n",
    "sum = 0     # 총점\n",
    "\n",
    "for score in scores:\n",
    "    # 학생의 점수를 비교해서: pass, fail\n",
    "    # 리스트의 일련번호 출력: num = num + 1\n",
    "    num += 1\n",
    "    sum += score\n",
    "    if score >= 60:\n",
    "        print(num, score, 'PASS')\n",
    "    else:\n",
    "        print(num, score, 'Fail')\n",
    "\n",
    "print('총점:', sum)\n",
    "print('평균:', sum/len(scores))"
   ]
  },
  {
   "cell_type": "code",
   "execution_count": null,
   "id": "d7d2ffa3",
   "metadata": {},
   "outputs": [
    {
     "name": "stdout",
     "output_type": "stream",
     "text": [
      "34567"
     ]
    }
   ],
   "source": [
    "for num in range(3, 8):\n",
    "    print(num, end='')"
   ]
  },
  {
   "cell_type": "code",
   "execution_count": null,
   "id": "af43333b",
   "metadata": {},
   "outputs": [
    {
     "name": "stdout",
     "output_type": "stream",
     "text": [
      "2단\n",
      "2X1=2\n",
      "2X2=4\n",
      "2X3=6\n",
      "2X4=8\n",
      "2X5=10\n",
      "2X6=12\n",
      "2X7=14\n",
      "2X8=16\n",
      "2X9=18\n",
      "\n",
      "3단\n",
      "3X1=3\n",
      "3X2=6\n",
      "3X3=9\n",
      "3X4=12\n",
      "3X5=15\n",
      "3X6=18\n",
      "3X7=21\n",
      "3X8=24\n",
      "3X9=27\n",
      "\n",
      "4단\n",
      "4X1=4\n",
      "4X2=8\n",
      "4X3=12\n",
      "4X4=16\n",
      "4X5=20\n",
      "4X6=24\n",
      "4X7=28\n",
      "4X8=32\n",
      "4X9=36\n",
      "\n",
      "5단\n",
      "5X1=5\n",
      "5X2=10\n",
      "5X3=15\n",
      "5X4=20\n",
      "5X5=25\n",
      "5X6=30\n",
      "5X7=35\n",
      "5X8=40\n",
      "5X9=45\n",
      "\n",
      "6단\n",
      "6X1=6\n",
      "6X2=12\n",
      "6X3=18\n",
      "6X4=24\n",
      "6X5=30\n",
      "6X6=36\n",
      "6X7=42\n",
      "6X8=48\n",
      "6X9=54\n",
      "\n",
      "7단\n",
      "7X1=7\n",
      "7X2=14\n",
      "7X3=21\n",
      "7X4=28\n",
      "7X5=35\n",
      "7X6=42\n",
      "7X7=49\n",
      "7X8=56\n",
      "7X9=63\n",
      "\n",
      "8단\n",
      "8X1=8\n",
      "8X2=16\n",
      "8X3=24\n",
      "8X4=32\n",
      "8X5=40\n",
      "8X6=48\n",
      "8X7=56\n",
      "8X8=64\n",
      "8X9=72\n",
      "\n",
      "9단\n",
      "9X1=9\n",
      "9X2=18\n",
      "9X3=27\n",
      "9X4=36\n",
      "9X5=45\n",
      "9X6=54\n",
      "9X7=63\n",
      "9X8=72\n",
      "9X9=81\n",
      "\n"
     ]
    }
   ],
   "source": [
    "# 구구단: 2 ~ 9단 => 2 ~ 9\n",
    "# 각 단: X1 ~ X9 => 1 ~ 9\n",
    "\n",
    "for dan in range(2, 10):\n",
    "    print(f'{dan}단')\n",
    "    for i in range(1, 10):\n",
    "        print(f'{dan}X{i}={dan*i}', end='\\n')\n",
    "    print()\n"
   ]
  },
  {
   "cell_type": "code",
   "execution_count": null,
   "id": "0270ca05",
   "metadata": {},
   "outputs": [
    {
     "name": "stdout",
     "output_type": "stream",
     "text": [
      "[3, 6, 9, 12]\n"
     ]
    }
   ],
   "source": [
    "# 리스트 컴프리헨션\n",
    "# [표현식 for 변수 in list if 조건식]\n",
    "\n",
    "list_2 = [1,2,3,4]\n",
    "\n",
    "# 결과 리스트\n",
    "list_result = []\n",
    "for num in list_2:\n",
    "    \n",
    "    print(list_result)"
   ]
  },
  {
   "cell_type": "code",
   "execution_count": 70,
   "id": "cf613010",
   "metadata": {},
   "outputs": [
    {
     "data": {
      "text/plain": [
       "[3, 6, 9, 12]"
      ]
     },
     "execution_count": 70,
     "metadata": {},
     "output_type": "execute_result"
    }
   ],
   "source": [
    "list_result_1 = [num*3 for num in list_2]\n",
    "list_result_1"
   ]
  },
  {
   "cell_type": "markdown",
   "id": "22eb7025",
   "metadata": {},
   "source": [
    "#### 문제1"
   ]
  },
  {
   "cell_type": "code",
   "execution_count": 79,
   "id": "35b21de9",
   "metadata": {},
   "outputs": [
    {
     "name": "stdout",
     "output_type": "stream",
     "text": [
      "5050\n"
     ]
    }
   ],
   "source": [
    "total = 0\n",
    "\n",
    "for i in range(1,101):\n",
    "    total += i\n",
    "print(total)"
   ]
  },
  {
   "cell_type": "markdown",
   "id": "012284a5",
   "metadata": {},
   "source": [
    "#### 문제2"
   ]
  },
  {
   "cell_type": "code",
   "execution_count": 82,
   "id": "e70fbaad",
   "metadata": {},
   "outputs": [
    {
     "name": "stdout",
     "output_type": "stream",
     "text": [
      "3628800\n"
     ]
    }
   ],
   "source": [
    "total_1 = 1\n",
    "\n",
    "for i in range(1, 11):\n",
    "    total_1 *= i\n",
    "print(total_1)"
   ]
  },
  {
   "cell_type": "markdown",
   "id": "49eecfba",
   "metadata": {},
   "source": [
    "#### 문제3"
   ]
  },
  {
   "cell_type": "code",
   "execution_count": 105,
   "id": "92613d93",
   "metadata": {},
   "outputs": [
    {
     "name": "stdout",
     "output_type": "stream",
     "text": [
      "2단\n",
      "2X1=2\n",
      "2X2=4\n",
      "\n",
      "4단\n",
      "4X1=4\n",
      "4X2=8\n",
      "4X3=12\n",
      "4X4=16\n",
      "\n",
      "6단\n",
      "6X1=6\n",
      "6X2=12\n",
      "6X3=18\n",
      "6X4=24\n",
      "6X5=30\n",
      "6X6=36\n",
      "\n",
      "8단\n",
      "8X1=8\n",
      "8X2=16\n",
      "8X3=24\n",
      "8X4=32\n",
      "8X5=40\n",
      "8X6=48\n",
      "8X7=56\n",
      "8X8=64\n",
      "\n"
     ]
    }
   ],
   "source": [
    "for dan in range(2, 10, 2):\n",
    "    print(f'{dan}단')\n",
    "    for i in range(1, dan + 1):\n",
    "        print(f'{dan}X{i}={dan*i}')\n",
    "    print()"
   ]
  },
  {
   "cell_type": "markdown",
   "id": "d59927ee",
   "metadata": {},
   "source": [
    "#### 문제4"
   ]
  },
  {
   "cell_type": "code",
   "execution_count": 110,
   "id": "ac376398",
   "metadata": {},
   "outputs": [
    {
     "name": "stdout",
     "output_type": "stream",
     "text": [
      "합이 1000을 넘는 순간: 56, 총합: 1055\n"
     ]
    }
   ],
   "source": [
    "num = 1\n",
    "total_2 = 0\n",
    "\n",
    "while total_2 <= 1000:\n",
    "    if num % 2 == 0 or num % 3 == 0:\n",
    "        total_2 += num\n",
    "    num += 1\n",
    "\n",
    "print(f'합이 1000을 넘는 순간: {num - 1}, 총합: {total_2}')\n",
    "    "
   ]
  },
  {
   "cell_type": "code",
   "execution_count": null,
   "id": "9d5dedb4",
   "metadata": {},
   "outputs": [],
   "source": [
    "num = 1\n",
    "sum = 0\n",
    "\n",
    "while True:\n",
    "    if num % 2 == 0 or num % 3 == 0:\n",
    "        sum += num\n",
    "        if sum > 1000:\n",
    "            num += 1\n",
    "            break\n",
    "    print(f'합이 1000을 넘는 순간: {num - 1}, 총합: {total_2}')\n"
   ]
  },
  {
   "cell_type": "markdown",
   "id": "0099d917",
   "metadata": {},
   "source": [
    "#### 검진 대상자 판별 문제"
   ]
  },
  {
   "cell_type": "code",
   "execution_count": 115,
   "id": "e7d1aab6",
   "metadata": {},
   "outputs": [
    {
     "name": "stdout",
     "output_type": "stream",
     "text": [
      "40\n",
      "검진 대상자 입니다.\n",
      "암 검진 대상자 입니다.\n"
     ]
    }
   ],
   "source": [
    "# 검진 대상자 판별\n",
    "# 20세 이상, 짝수년도에는 짝수 년생들이 대상\n",
    "# 40세 이상 암 검진 대상\n",
    "# 올해 년도, 태어난 년도\n",
    "\n",
    "year = 2025\n",
    "birth_year = 1985\n",
    "age = year - birth_year\n",
    "print(age)\n",
    "\n",
    "if age >= 20 and birth_year % 2 == year % 2:\n",
    "    print('검진 대상자 입니다.')\n",
    "    if age >= 40:\n",
    "        print('암 검진 대상자 입니다.')\n",
    "    else:\n",
    "        print('검진 대상자가 아닙니다.')\n"
   ]
  },
  {
   "cell_type": "code",
   "execution_count": 120,
   "id": "683f8c9a",
   "metadata": {},
   "outputs": [
    {
     "name": "stdout",
     "output_type": "stream",
     "text": [
      "2단\n",
      "2X1=2\n",
      "2X2=4\n",
      "2X3=6\n",
      "2X4=8\n",
      "2X5=10\n",
      "2X6=12\n",
      "2X7=14\n",
      "2X8=16\n",
      "2X9=18\n",
      "\n",
      "3단\n",
      "3X1=3\n",
      "3X2=6\n",
      "3X3=9\n",
      "3X4=12\n",
      "3X5=15\n",
      "3X6=18\n",
      "3X7=21\n",
      "3X8=24\n",
      "3X9=27\n",
      "\n",
      "4단\n",
      "4X1=4\n",
      "4X2=8\n",
      "4X3=12\n",
      "4X4=16\n",
      "4X5=20\n",
      "4X6=24\n",
      "4X7=28\n",
      "4X8=32\n",
      "4X9=36\n",
      "\n",
      "5단\n",
      "5X1=5\n",
      "5X2=10\n",
      "5X3=15\n",
      "5X4=20\n",
      "5X5=25\n",
      "5X6=30\n",
      "5X7=35\n",
      "5X8=40\n",
      "5X9=45\n",
      "\n",
      "6단\n",
      "6X1=6\n",
      "6X2=12\n",
      "6X3=18\n",
      "6X4=24\n",
      "6X5=30\n",
      "6X6=36\n",
      "6X7=42\n",
      "6X8=48\n",
      "6X9=54\n",
      "\n",
      "7단\n",
      "7X1=7\n",
      "7X2=14\n",
      "7X3=21\n",
      "7X4=28\n",
      "7X5=35\n",
      "7X6=42\n",
      "7X7=49\n",
      "7X8=56\n",
      "7X9=63\n",
      "\n",
      "8단\n",
      "8X1=8\n",
      "8X2=16\n",
      "8X3=24\n",
      "8X4=32\n",
      "8X5=40\n",
      "8X6=48\n",
      "8X7=56\n",
      "8X8=64\n",
      "8X9=72\n",
      "\n",
      "9단\n",
      "9X1=9\n",
      "9X2=18\n",
      "9X3=27\n",
      "9X4=36\n",
      "9X5=45\n",
      "9X6=54\n",
      "9X7=63\n",
      "9X8=72\n",
      "9X9=81\n",
      "\n"
     ]
    }
   ],
   "source": [
    "for dan in range(2,10):\n",
    "    print(f'{dan}단')\n",
    "    for i in range(1,10):\n",
    "        print(f'{dan}X{i}={dan*i}')\n",
    "    print()"
   ]
  },
  {
   "cell_type": "code",
   "execution_count": null,
   "id": "43cd114b",
   "metadata": {},
   "outputs": [],
   "source": []
  }
 ],
 "metadata": {
  "kernelspec": {
   "display_name": ".venv",
   "language": "python",
   "name": "python3"
  },
  "language_info": {
   "codemirror_mode": {
    "name": "ipython",
    "version": 3
   },
   "file_extension": ".py",
   "mimetype": "text/x-python",
   "name": "python",
   "nbconvert_exporter": "python",
   "pygments_lexer": "ipython3",
   "version": "3.13.4"
  }
 },
 "nbformat": 4,
 "nbformat_minor": 5
}
