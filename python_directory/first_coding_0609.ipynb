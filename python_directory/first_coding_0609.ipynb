{
 "cells": [
  {
   "cell_type": "code",
   "execution_count": 1,
   "id": "ed078a99",
   "metadata": {},
   "outputs": [
    {
     "name": "stdout",
     "output_type": "stream",
     "text": [
      "안녕하세요\n",
      "100\n"
     ]
    }
   ],
   "source": [
    "print('안녕하세요')\n",
    "print(100)"
   ]
  },
  {
   "cell_type": "code",
   "execution_count": 2,
   "id": "423f265f",
   "metadata": {},
   "outputs": [],
   "source": [
    "# 변수 => 데이터를 저장(메모리: 플래시메모리)하는 방식\n",
    "# 변수이름(식별자) = 값(데이터: 숫자, 문자열, 논리값(True, False), 객체\n",
    "# 변수에는 데이터를 저장하고 있는 메모리의 주소값을 저장\n",
    "num = 10"
   ]
  },
  {
   "cell_type": "code",
   "execution_count": 3,
   "id": "e93481f5",
   "metadata": {},
   "outputs": [
    {
     "name": "stdout",
     "output_type": "stream",
     "text": [
      "10\n"
     ]
    }
   ],
   "source": [
    "print(num)"
   ]
  },
  {
   "cell_type": "code",
   "execution_count": 4,
   "id": "9d2f5e42",
   "metadata": {},
   "outputs": [
    {
     "data": {
      "text/plain": [
       "4355189464"
      ]
     },
     "execution_count": 4,
     "metadata": {},
     "output_type": "execute_result"
    }
   ],
   "source": [
    "id(num) #주소값반환"
   ]
  },
  {
   "cell_type": "code",
   "execution_count": 5,
   "id": "31725dcb",
   "metadata": {},
   "outputs": [
    {
     "data": {
      "text/plain": [
       "110"
      ]
     },
     "execution_count": 5,
     "metadata": {},
     "output_type": "execute_result"
    }
   ],
   "source": [
    "num+100"
   ]
  },
  {
   "cell_type": "code",
   "execution_count": 6,
   "id": "26c824fc",
   "metadata": {},
   "outputs": [],
   "source": [
    "# 변수 = 데이터\n",
    "# 데이터 => 숫자, 문자, 논리값\n",
    "# 숫자 => 정수, 실수\n",
    "num1 = 10\n",
    "num2 = 3.14"
   ]
  },
  {
   "cell_type": "code",
   "execution_count": 7,
   "id": "e78d3fb2",
   "metadata": {},
   "outputs": [
    {
     "data": {
      "text/plain": [
       "int"
      ]
     },
     "execution_count": 7,
     "metadata": {},
     "output_type": "execute_result"
    }
   ],
   "source": [
    "type(num1)"
   ]
  },
  {
   "cell_type": "code",
   "execution_count": 8,
   "id": "1256fa1d",
   "metadata": {},
   "outputs": [
    {
     "data": {
      "text/plain": [
       "float"
      ]
     },
     "execution_count": 8,
     "metadata": {},
     "output_type": "execute_result"
    }
   ],
   "source": [
    "type(num2)"
   ]
  },
  {
   "cell_type": "code",
   "execution_count": 9,
   "id": "37c3184e",
   "metadata": {},
   "outputs": [
    {
     "name": "stdout",
     "output_type": "stream",
     "text": [
      "<class 'int'>\n",
      "<class 'float'>\n"
     ]
    }
   ],
   "source": [
    "print(type(num1))\n",
    "print(type(num2))"
   ]
  },
  {
   "cell_type": "code",
   "execution_count": 10,
   "id": "dcc8fd0b",
   "metadata": {},
   "outputs": [],
   "source": [
    "num3 = 'hello!'"
   ]
  },
  {
   "cell_type": "code",
   "execution_count": 11,
   "id": "3d93a765",
   "metadata": {},
   "outputs": [
    {
     "name": "stdout",
     "output_type": "stream",
     "text": [
      "hello!\n",
      "<class 'str'>\n"
     ]
    }
   ],
   "source": [
    "print(num3)\n",
    "print(type(num3))"
   ]
  },
  {
   "cell_type": "code",
   "execution_count": 12,
   "id": "8b3a1198",
   "metadata": {},
   "outputs": [],
   "source": [
    "# 논리값: 참/거짓 => True, False (대문자!!)\n",
    "check1 = True\n",
    "check2 = False"
   ]
  },
  {
   "cell_type": "code",
   "execution_count": 13,
   "id": "4a6cd681",
   "metadata": {},
   "outputs": [
    {
     "name": "stdout",
     "output_type": "stream",
     "text": [
      "True\n",
      "False\n",
      "<class 'bool'> <class 'bool'>\n"
     ]
    }
   ],
   "source": [
    "print(check1)\n",
    "print(check2)\n",
    "print(type(check1),type(check2))"
   ]
  },
  {
   "cell_type": "code",
   "execution_count": 14,
   "id": "6b5a8cc9",
   "metadata": {},
   "outputs": [],
   "source": [
    "str_a = 'python'"
   ]
  },
  {
   "cell_type": "code",
   "execution_count": 15,
   "id": "7d02ee30",
   "metadata": {},
   "outputs": [
    {
     "data": {
      "text/plain": [
       "'PYTHON'"
      ]
     },
     "execution_count": 15,
     "metadata": {},
     "output_type": "execute_result"
    }
   ],
   "source": [
    "str_a.upper()\n",
    "# 주소값.메서드"
   ]
  },
  {
   "cell_type": "code",
   "execution_count": 16,
   "id": "162a6f5d",
   "metadata": {},
   "outputs": [],
   "source": [
    "str_a = 100"
   ]
  },
  {
   "cell_type": "code",
   "execution_count": 17,
   "id": "1b14fa95",
   "metadata": {},
   "outputs": [
    {
     "name": "stdout",
     "output_type": "stream",
     "text": [
      "100 <class 'int'>\n"
     ]
    }
   ],
   "source": [
    "print(str_a, type(str_a))"
   ]
  },
  {
   "cell_type": "code",
   "execution_count": 18,
   "id": "a2973c32",
   "metadata": {},
   "outputs": [],
   "source": [
    "# 문자열 생성'\n",
    "# '', \"\", ''' ''', \"\"\" \"\"\"\n",
    "str1 = 'hello!'\n",
    "str2 = \"안녕하세요\"\n",
    "str3 = '''\n",
    "안녕하세요,\n",
    "반갑습니다.\n",
    "'''\n",
    "str4 = \"\"\"\n",
    "select *\n",
    "from emp\n",
    "where empno=10\n",
    "\"\"\""
   ]
  },
  {
   "cell_type": "code",
   "execution_count": 19,
   "id": "fdfe11cd",
   "metadata": {},
   "outputs": [
    {
     "name": "stdout",
     "output_type": "stream",
     "text": [
      "hello! <class 'str'>\n",
      "안녕하세요 <class 'str'>\n",
      "\n",
      "안녕하세요,\n",
      "반갑습니다.\n",
      " <class 'str'>\n",
      "\n",
      "select *\n",
      "from emp\n",
      "where empno=10\n",
      " <class 'str'>\n"
     ]
    }
   ],
   "source": [
    "print(str1, type(str1))\n",
    "print(str2, type(str2))\n",
    "print(str3, type(str3))\n",
    "print(str4, type(str4))"
   ]
  },
  {
   "cell_type": "code",
   "execution_count": 20,
   "id": "fe0ac36c",
   "metadata": {},
   "outputs": [
    {
     "name": "stdout",
     "output_type": "stream",
     "text": [
      "hello python!\n",
      "==========\n"
     ]
    }
   ],
   "source": [
    "# 문자열의 연산 \n",
    "# 사칙연산 X => 더하기(연결)\n",
    "# 곱셈 * => 반복(몇번 반복)\n",
    "print('hello' + ' python!')\n",
    "print('=' *10)"
   ]
  },
  {
   "cell_type": "code",
   "execution_count": 21,
   "id": "6f4a82b2",
   "metadata": {},
   "outputs": [
    {
     "name": "stdout",
     "output_type": "stream",
     "text": [
      "6\n",
      "5\n",
      "15\n",
      "34\n"
     ]
    }
   ],
   "source": [
    "# 함수(기능): 데이터를 전달하면 -> 처리(연산) -> 값을 반환\n",
    "# 문자열의 길이(문자들의 개수) 반환 함수: len(변수: 시퀀스형식의 데이터)\n",
    "print(len(str1))\n",
    "print(len(str2))\n",
    "print(len(str3))\n",
    "print(len(str4))"
   ]
  },
  {
   "cell_type": "code",
   "execution_count": 22,
   "id": "f5d98568",
   "metadata": {},
   "outputs": [],
   "source": [
    "# 문자열: 시퀀스 데이터 순서 O\n",
    "# 시퀀스 데이터의 데이터들의 구분 => index 값\n",
    "# hello => ['h', 'e', 'l', 'l', 'o']\n",
    "# index => 0부터 시작 0 1 2 3 4  => 0 ~ N-1 => 0 ~ 4\n",
    "str5 = 'hello~ python!!'\n",
    "#       0123456789..."
   ]
  },
  {
   "cell_type": "code",
   "execution_count": 23,
   "id": "195fbbc2",
   "metadata": {},
   "outputs": [
    {
     "data": {
      "text/plain": [
       "'h'"
      ]
     },
     "execution_count": 23,
     "metadata": {},
     "output_type": "execute_result"
    }
   ],
   "source": [
    "str5[0] # index 값 실행, 특정 위치 값 가져오기"
   ]
  },
  {
   "cell_type": "code",
   "execution_count": 24,
   "id": "6447a201",
   "metadata": {},
   "outputs": [
    {
     "data": {
      "text/plain": [
       "'hello'"
      ]
     },
     "execution_count": 24,
     "metadata": {},
     "output_type": "execute_result"
    }
   ],
   "source": [
    "# 문자열(시퀀스)의 슬라이싱\n",
    "# s[시작 index : 종료 index] => 종료 index 값을 만나면 끝.\n",
    "# str5[0 : 5] 5를 만나면 탈출함 4까지만 출력한다는 의미\n",
    "str5[0:5]"
   ]
  },
  {
   "cell_type": "code",
   "execution_count": 25,
   "id": "fc7d73d9",
   "metadata": {},
   "outputs": [
    {
     "name": "stdout",
     "output_type": "stream",
     "text": [
      "안녕하세요, 저는 손흥민입니다. 나이는 30 입니다.\n"
     ]
    }
   ],
   "source": [
    "# 문자열 포맷팅\n",
    "# 3.6 버전 이후 f'', 접두사 f 붙이고 포맷팅\n",
    "user_name = '손흥민'\n",
    "user_age = 30\n",
    "print(f'안녕하세요, 저는 {user_name}입니다. 나이는 {user_age} 입니다.')"
   ]
  },
  {
   "cell_type": "code",
   "execution_count": 26,
   "id": "fcf3eb89",
   "metadata": {},
   "outputs": [
    {
     "name": "stdout",
     "output_type": "stream",
     "text": [
      "내년에는 나이가 31살이 됩니다.\n"
     ]
    }
   ],
   "source": [
    "print(f'내년에는 나이가 {user_age+1}살이 됩니다.')"
   ]
  },
  {
   "cell_type": "code",
   "execution_count": 27,
   "id": "9102c508",
   "metadata": {},
   "outputs": [],
   "source": [
    "# 복합 대입 연산\n",
    "num = 1"
   ]
  },
  {
   "cell_type": "code",
   "execution_count": 28,
   "id": "90ef8d15",
   "metadata": {},
   "outputs": [],
   "source": [
    "num = num + 1 # +가 1번, =이 2번 대입연산이 무조건 마지막 처리임 !!!"
   ]
  },
  {
   "cell_type": "code",
   "execution_count": 29,
   "id": "c66dce38",
   "metadata": {},
   "outputs": [
    {
     "name": "stdout",
     "output_type": "stream",
     "text": [
      "2\n"
     ]
    }
   ],
   "source": [
    "print(num)"
   ]
  },
  {
   "cell_type": "code",
   "execution_count": 30,
   "id": "f5d4ea05",
   "metadata": {},
   "outputs": [],
   "source": [
    "num += 1 # num = num + 1과 같음"
   ]
  },
  {
   "cell_type": "code",
   "execution_count": 31,
   "id": "91df25d1",
   "metadata": {},
   "outputs": [
    {
     "name": "stdout",
     "output_type": "stream",
     "text": [
      "3\n"
     ]
    }
   ],
   "source": [
    "print(num)"
   ]
  },
  {
   "cell_type": "markdown",
   "id": "84e6cb6f",
   "metadata": {},
   "source": [
    "#### 연습문제 1\n",
    "과목별 점수, 총점, 평균 점수\n",
    "\n",
    "과목: 국어, 영어, 수학"
   ]
  },
  {
   "cell_type": "code",
   "execution_count": 32,
   "id": "99bda4ee",
   "metadata": {},
   "outputs": [],
   "source": [
    "# 1. 변수 선언, 초기화\n",
    "kor_score = 100     # 국어점수\n",
    "eng_score = 70      # 영어점수\n",
    "math_score = 80     # 수학점수"
   ]
  },
  {
   "cell_type": "code",
   "execution_count": 33,
   "id": "a07c4bd3",
   "metadata": {},
   "outputs": [],
   "source": [
    "# 2. 연산: 총점, 평균\n",
    "sum_score = kor_score + eng_score + math_score\n",
    "avg_score = sum_score / 3"
   ]
  },
  {
   "cell_type": "code",
   "execution_count": 34,
   "id": "38dcea71",
   "metadata": {},
   "outputs": [
    {
     "name": "stdout",
     "output_type": "stream",
     "text": [
      "국어점수: 100, 영어점수: 70, 수학점수: 80\n",
      "총점: 250\n",
      "평균: 83.33333333333333\n"
     ]
    }
   ],
   "source": [
    "# 3. 결과 출력\n",
    "print(f'국어점수: {kor_score}, 영어점수: {eng_score}, 수학점수: {math_score}\\n총점: {sum_score}\\n평균: {avg_score}')"
   ]
  },
  {
   "cell_type": "markdown",
   "id": "d0ec71b6",
   "metadata": {},
   "source": [
    "#### 연습문제 2\n",
    "성별 체크, 나이 체크\n",
    "\n",
    "성별이 남성이고(and), 성인 판별 (18세 이상)"
   ]
  },
  {
   "cell_type": "code",
   "execution_count": 35,
   "id": "7c5eaf4f",
   "metadata": {},
   "outputs": [
    {
     "name": "stdout",
     "output_type": "stream",
     "text": [
      "남성이 아니거나 18세 이하 입니다.\n"
     ]
    }
   ],
   "source": [
    "# 성별이 남자이고 18세 이상의 성인 여부를 판단하는 조건식\n",
    "# 1. 변수\n",
    "gender = 'M'    # 성별: 'M' | 'F'\n",
    "age = 15\n",
    "\n",
    "# if 조건문\n",
    "if gender == 'M' and age >= 18:\n",
    "    print('남성이고 18세 이상의 성인입니다.')\n",
    "else:\n",
    "    print('남성이 아니거나 18세 이하 입니다.')\n",
    "\n"
   ]
  },
  {
   "cell_type": "code",
   "execution_count": 36,
   "id": "df19f1b0",
   "metadata": {},
   "outputs": [
    {
     "name": "stdout",
     "output_type": "stream",
     "text": [
      "성인 남성 체크: False\n"
     ]
    }
   ],
   "source": [
    "# 2. 남성 그리고 성인\n",
    "check = gender == 'M' and age >= 18\n",
    "print('성인 남성 체크:', check)"
   ]
  }
 ],
 "metadata": {
  "kernelspec": {
   "display_name": ".venv",
   "language": "python",
   "name": "python3"
  },
  "language_info": {
   "codemirror_mode": {
    "name": "ipython",
    "version": 3
   },
   "file_extension": ".py",
   "mimetype": "text/x-python",
   "name": "python",
   "nbconvert_exporter": "python",
   "pygments_lexer": "ipython3",
   "version": "3.13.4"
  }
 },
 "nbformat": 4,
 "nbformat_minor": 5
}
