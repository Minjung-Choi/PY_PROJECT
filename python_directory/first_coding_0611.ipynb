{
 "cells": [
  {
   "cell_type": "markdown",
   "id": "f6bf69ee",
   "metadata": {},
   "source": [
    "### 함수 2025.06.11"
   ]
  },
  {
   "cell_type": "code",
   "execution_count": 14,
   "id": "5376db69",
   "metadata": {},
   "outputs": [],
   "source": [
    "# 함수: 데이터를 받고, 처리(연산)하고 결과를 반환하는 코드들의 묶음\n",
    "#       -> 호출을 통해 코드를 실행\n",
    "# 중복코드를 줄일 수 있다. => 유지보수, 관리가 수월해진다!\n",
    "# def 함수이름(매개변수, 매개변수, 매개변수, ...)\n",
    "#   처리작업 코드들..\n",
    "#   return 값(data: 파이썬에서 제공하는 타입의 모든 데이터)\n",
    "# ~~ 위 규칙은 변하지 않음!!!!!!!"
   ]
  },
  {
   "cell_type": "code",
   "execution_count": 15,
   "id": "771e63ca",
   "metadata": {},
   "outputs": [],
   "source": [
    "# 함수정의\n",
    "# 숫자 두 개를 받아 => 매개변수: 선택사항\n",
    "# 덧셈연산을 하고   => 내부 처리 작업\n",
    "# 결과 값을 반환    => 반환 값: 선택사항\n",
    "\n",
    "def add(n1, n2):        # 함수 정의: 이름, 매개변수\n",
    "    result = n1 + n2    # 연산, 처리, 작업\n",
    "    return result       # 결과 값 반환"
   ]
  },
  {
   "cell_type": "code",
   "execution_count": 16,
   "id": "af036425",
   "metadata": {},
   "outputs": [
    {
     "name": "stdout",
     "output_type": "stream",
     "text": [
      "<class 'function'>\n"
     ]
    }
   ],
   "source": [
    "print(type(add))"
   ]
  },
  {
   "cell_type": "code",
   "execution_count": 17,
   "id": "95ab5aad",
   "metadata": {},
   "outputs": [
    {
     "data": {
      "text/plain": [
       "30"
      ]
     },
     "execution_count": 17,
     "metadata": {},
     "output_type": "execute_result"
    }
   ],
   "source": [
    "add(10, 20)     # 호출: 이름과 괄호안에() 매개변수가 받을 수 있는 데아터를 함께 전달"
   ]
  },
  {
   "cell_type": "code",
   "execution_count": 18,
   "id": "6e12d420",
   "metadata": {},
   "outputs": [
    {
     "data": {
      "text/plain": [
       "40"
      ]
     },
     "execution_count": 18,
     "metadata": {},
     "output_type": "execute_result"
    }
   ],
   "source": [
    "add(10,30)"
   ]
  },
  {
   "cell_type": "code",
   "execution_count": 19,
   "id": "861d0faa",
   "metadata": {},
   "outputs": [],
   "source": [
    "def alert_msg():\n",
    "    return '안녕하세요. 회원님 감사합니다.'"
   ]
  },
  {
   "cell_type": "code",
   "execution_count": 20,
   "id": "447ec11b",
   "metadata": {},
   "outputs": [
    {
     "name": "stdout",
     "output_type": "stream",
     "text": [
      "안녕하세요. 회원님 감사합니다.\n"
     ]
    }
   ],
   "source": [
    "print(alert_msg())"
   ]
  },
  {
   "cell_type": "code",
   "execution_count": 21,
   "id": "d35c6aed",
   "metadata": {},
   "outputs": [],
   "source": [
    "# 매개변수는 있고, 반환값이 없는 함수\n",
    "# 숫자 두개를 받아 덧셈연산의 결과를 출력하는 함수\n",
    "\n",
    "def add_print(n1, n2):\n",
    "    result = n1 + n2\n",
    "    print(f'{n1}+{n2}={n1+n2}')"
   ]
  },
  {
   "cell_type": "code",
   "execution_count": 22,
   "id": "0ecd4f67",
   "metadata": {},
   "outputs": [
    {
     "name": "stdout",
     "output_type": "stream",
     "text": [
      "1+2=3\n"
     ]
    }
   ],
   "source": [
    "add_print(1,2)"
   ]
  },
  {
   "cell_type": "code",
   "execution_count": 23,
   "id": "06793c85",
   "metadata": {},
   "outputs": [
    {
     "name": "stdout",
     "output_type": "stream",
     "text": [
      "10+200=210\n"
     ]
    }
   ],
   "source": [
    "result_add_print = add_print(10, 200)"
   ]
  },
  {
   "cell_type": "code",
   "execution_count": 24,
   "id": "c40513be",
   "metadata": {},
   "outputs": [
    {
     "name": "stdout",
     "output_type": "stream",
     "text": [
      "None\n"
     ]
    }
   ],
   "source": [
    "print(result_add_print)"
   ]
  },
  {
   "cell_type": "code",
   "execution_count": 25,
   "id": "5c51faff",
   "metadata": {},
   "outputs": [],
   "source": [
    "# 매개변수도 없고, 반환도 없는 함수\n",
    "\n",
    "def display_menu():\n",
    "    menu = '''\n",
    "1. 아메리카노\n",
    "2. 라떼\n",
    "3. 에스프레소\n",
    "'''\n",
    "    print(menu)"
   ]
  },
  {
   "cell_type": "code",
   "execution_count": 26,
   "id": "0530486f",
   "metadata": {},
   "outputs": [
    {
     "name": "stdout",
     "output_type": "stream",
     "text": [
      "\n",
      "1. 아메리카노\n",
      "2. 라떼\n",
      "3. 에스프레소\n",
      "\n"
     ]
    }
   ],
   "source": [
    "display_menu()"
   ]
  },
  {
   "cell_type": "code",
   "execution_count": 27,
   "id": "c4aca7fe",
   "metadata": {},
   "outputs": [],
   "source": [
    "def sub(n1, n2):\n",
    "    return n1 - n2"
   ]
  },
  {
   "cell_type": "code",
   "execution_count": 28,
   "id": "3a855067",
   "metadata": {},
   "outputs": [
    {
     "data": {
      "text/plain": [
       "7"
      ]
     },
     "execution_count": 28,
     "metadata": {},
     "output_type": "execute_result"
    }
   ],
   "source": [
    "sub(n2 = 3, n1 = 10)"
   ]
  },
  {
   "cell_type": "code",
   "execution_count": 29,
   "id": "080fe293",
   "metadata": {},
   "outputs": [
    {
     "name": "stdout",
     "output_type": "stream",
     "text": [
      "KING\thello\tKING,hello\n"
     ]
    }
   ],
   "source": [
    "# 매개변수를 지정하고 값을 넣어줌\n",
    "print('KING', 'hello', sep='\\t', end='\\t')\n",
    "print('KING', 'hello', sep=',')"
   ]
  },
  {
   "cell_type": "code",
   "execution_count": 30,
   "id": "0cdaefee",
   "metadata": {},
   "outputs": [
    {
     "name": "stdout",
     "output_type": "stream",
     "text": [
      "king\n",
      "1 2 3 4 5\n"
     ]
    }
   ],
   "source": [
    "# 매개변수가 여러개인데 몇개인지 몰라 ?!\n",
    "\n",
    "print('king')\n",
    "print(1,2,3,4,5)"
   ]
  },
  {
   "cell_type": "code",
   "execution_count": 31,
   "id": "8897eb1f",
   "metadata": {},
   "outputs": [],
   "source": [
    "# 매개변수에서 전달되는 숫자들(몇개?)을\n",
    "# 모두 더한 값을 \n",
    "# 반환하는 함수\n",
    "\n",
    "def add_sum(*args):\n",
    "    print(type(args))\n",
    "    print(args)\n",
    "    sum = 0\n",
    "    for num in args:\n",
    "        sum += num\n",
    "    return sum"
   ]
  },
  {
   "cell_type": "code",
   "execution_count": 32,
   "id": "20f14ddd",
   "metadata": {},
   "outputs": [
    {
     "name": "stdout",
     "output_type": "stream",
     "text": [
      "<class 'tuple'>\n",
      "(1, 2, 3, 4, 5, 6, 7, 8, 9)\n"
     ]
    },
    {
     "data": {
      "text/plain": [
       "45"
      ]
     },
     "execution_count": 32,
     "metadata": {},
     "output_type": "execute_result"
    }
   ],
   "source": [
    "add_sum(1,2,3,4,5,6,7,8,9)"
   ]
  },
  {
   "cell_type": "code",
   "execution_count": 33,
   "id": "8460c721",
   "metadata": {},
   "outputs": [],
   "source": [
    "# 연산의 타입을 전달 받고 전달되는 숫자들의 \n",
    "# 연산한 결과를 \n",
    "# 반환하는 함수\n",
    "\n",
    "def add_type(type, *args):\n",
    "    if type == 'add':\n",
    "        result = 0\n",
    "        for num in args:\n",
    "            result += num\n",
    "        return result\n",
    "    elif type == 'mul':\n",
    "        result = 1\n",
    "        for num in args:\n",
    "            result *= num\n",
    "        return result\n",
    "    else:\n",
    "        print('사용가능한 타입을 선택해주세요!')"
   ]
  },
  {
   "cell_type": "code",
   "execution_count": 34,
   "id": "b0631d8f",
   "metadata": {},
   "outputs": [
    {
     "name": "stdout",
     "output_type": "stream",
     "text": [
      "28\n",
      "5040\n"
     ]
    }
   ],
   "source": [
    "print(add_type('add', 1,2,3,4,5,6,7))\n",
    "print(add_type('mul', 1,2,3,4,5,6,7))"
   ]
  },
  {
   "cell_type": "code",
   "execution_count": 35,
   "id": "892bcc16",
   "metadata": {},
   "outputs": [],
   "source": [
    "def print_args(**args):\n",
    "    print(args)\n",
    "    print(type(args))"
   ]
  },
  {
   "cell_type": "code",
   "execution_count": 36,
   "id": "be4ff7f2",
   "metadata": {},
   "outputs": [
    {
     "name": "stdout",
     "output_type": "stream",
     "text": [
      "{'name': '손흥민', 'age': 20}\n",
      "<class 'dict'>\n"
     ]
    }
   ],
   "source": [
    "print_args(name='손흥민', age = 20)"
   ]
  },
  {
   "cell_type": "code",
   "execution_count": 37,
   "id": "42c3b75d",
   "metadata": {},
   "outputs": [],
   "source": [
    "player1 = {\n",
    "    'name' : '손흥민',\n",
    "    'age' : 20\n",
    "}"
   ]
  },
  {
   "cell_type": "code",
   "execution_count": 38,
   "id": "e37e97d1",
   "metadata": {},
   "outputs": [
    {
     "name": "stdout",
     "output_type": "stream",
     "text": [
      "{'name': '손흥민', 'age': 30}\n",
      "<class 'dict'>\n"
     ]
    }
   ],
   "source": [
    "player2 = print_args(name = '손흥민', age = 30)"
   ]
  },
  {
   "cell_type": "code",
   "execution_count": 39,
   "id": "7617375b",
   "metadata": {},
   "outputs": [
    {
     "name": "stdout",
     "output_type": "stream",
     "text": [
      "{'name': '손흥민', 'age': 20}\n",
      "None\n"
     ]
    }
   ],
   "source": [
    "print(player1)\n",
    "print(player2)"
   ]
  },
  {
   "cell_type": "code",
   "execution_count": 40,
   "id": "f1bc64bc",
   "metadata": {},
   "outputs": [],
   "source": [
    "def add_mul_return(n1, n2):\n",
    "    add_result = n1 + n2\n",
    "    mul_result = n1 * n2\n",
    "    return(add_result, mul_result)"
   ]
  },
  {
   "cell_type": "code",
   "execution_count": 41,
   "id": "6fb6ed0b",
   "metadata": {},
   "outputs": [
    {
     "data": {
      "text/plain": [
       "(30, 200)"
      ]
     },
     "execution_count": 41,
     "metadata": {},
     "output_type": "execute_result"
    }
   ],
   "source": [
    "add_mul_return(10, 20)"
   ]
  },
  {
   "cell_type": "code",
   "execution_count": 42,
   "id": "2db95736",
   "metadata": {},
   "outputs": [
    {
     "name": "stdout",
     "output_type": "stream",
     "text": [
      "30 200\n"
     ]
    }
   ],
   "source": [
    "result1, result2 = add_mul_return(10, 20)\n",
    "print(result1, result2)"
   ]
  },
  {
   "cell_type": "code",
   "execution_count": 43,
   "id": "e8a7cb33",
   "metadata": {},
   "outputs": [],
   "source": [
    "# 매개변수의 "
   ]
  },
  {
   "cell_type": "code",
   "execution_count": 44,
   "id": "62f6f4dd",
   "metadata": {},
   "outputs": [],
   "source": [
    "# 이름, 나, 성별 받아서 출력 함수\n",
    "def say_hi(name, age, gender = True): # Gender=True => 여성\n",
    "    print(f'안녕하세요. 저는 {name} 입니다. 나이는 {age} 입니다.')\n",
    "    if gender:\n",
    "        print('여성입니다.')\n",
    "    else:\n",
    "        print('남성입니다.')\n"
   ]
  },
  {
   "cell_type": "code",
   "execution_count": 45,
   "id": "580fb0c3",
   "metadata": {},
   "outputs": [
    {
     "name": "stdout",
     "output_type": "stream",
     "text": [
      "안녕하세요. 저는 손흥민 입니다. 나이는 30 입니다.\n",
      "남성입니다.\n"
     ]
    }
   ],
   "source": [
    "say_hi('손흥민', 30, False)"
   ]
  },
  {
   "cell_type": "code",
   "execution_count": 46,
   "id": "a1da2d44",
   "metadata": {},
   "outputs": [],
   "source": [
    "# 변수의 사용 범위\n",
    "\n",
    "a = 1\n",
    "\n",
    "def var_test(a):    # 지역변수가 우선!\n",
    "    print('함수 내부의 a:', a)"
   ]
  },
  {
   "cell_type": "code",
   "execution_count": 47,
   "id": "31da2e6d",
   "metadata": {},
   "outputs": [
    {
     "name": "stdout",
     "output_type": "stream",
     "text": [
      "함수 내부의 a: 10\n"
     ]
    }
   ],
   "source": [
    "var_test(10)"
   ]
  },
  {
   "cell_type": "code",
   "execution_count": 48,
   "id": "e81bb6e4",
   "metadata": {},
   "outputs": [
    {
     "name": "stdout",
     "output_type": "stream",
     "text": [
      "1\n"
     ]
    }
   ],
   "source": [
    "print(a)"
   ]
  },
  {
   "cell_type": "code",
   "execution_count": null,
   "id": "4b6b5dc5",
   "metadata": {},
   "outputs": [],
   "source": [
    "# 같은 이름이면 외부 a로 실행됨 \n",
    "def var_test2():\n",
    "    global a    # 전역변수를 사용할 때, 사용은 지양함\n",
    "    a = a + 1\n",
    "    print(a)"
   ]
  },
  {
   "cell_type": "code",
   "execution_count": 50,
   "id": "257724d3",
   "metadata": {},
   "outputs": [
    {
     "name": "stdout",
     "output_type": "stream",
     "text": [
      "2\n"
     ]
    }
   ],
   "source": [
    "var_test2()"
   ]
  },
  {
   "cell_type": "code",
   "execution_count": 51,
   "id": "799ab1b2",
   "metadata": {},
   "outputs": [
    {
     "name": "stdout",
     "output_type": "stream",
     "text": [
      "2\n"
     ]
    }
   ],
   "source": [
    "print(a)"
   ]
  },
  {
   "cell_type": "code",
   "execution_count": 52,
   "id": "9118f55b",
   "metadata": {},
   "outputs": [
    {
     "data": {
      "text/plain": [
       "110"
      ]
     },
     "execution_count": 52,
     "metadata": {},
     "output_type": "execute_result"
    }
   ],
   "source": [
    "# lambda 함수 => 한줄로 간단하게 표현하는 함수 표현식\n",
    "# 함수이름 = lambda arg1, arg2 ... : 연산\n",
    "# 숫자 두개를 전달받아 덧셈한 결과를 반환하는 함수\n",
    "\n",
    "add3 = lambda n1, n2 : n1+n2\n",
    "add3(100,10)"
   ]
  },
  {
   "cell_type": "code",
   "execution_count": 53,
   "id": "6d010eca",
   "metadata": {},
   "outputs": [],
   "source": [
    "# 내장함수: 파이썬 설치 -> 기본으로 제공하는 함수\n",
    "\n",
    "st_names = ['king', 'cool', 'hot', 'scott']"
   ]
  },
  {
   "cell_type": "code",
   "execution_count": 54,
   "id": "f84ecf01",
   "metadata": {},
   "outputs": [
    {
     "name": "stdout",
     "output_type": "stream",
     "text": [
      "0 king\n",
      "1 cool\n",
      "2 hot\n",
      "3 scott\n"
     ]
    }
   ],
   "source": [
    "# 학생들의 index 값을 함께 출력\n",
    "\n",
    "num = 0\n",
    "\n",
    "for name in st_names:\n",
    "    print(num, name)\n",
    "    num += 1"
   ]
  },
  {
   "cell_type": "code",
   "execution_count": 55,
   "id": "7ce5de06",
   "metadata": {},
   "outputs": [
    {
     "name": "stdout",
     "output_type": "stream",
     "text": [
      "1 king\n",
      "2 cool\n",
      "3 hot\n",
      "4 scott\n"
     ]
    }
   ],
   "source": [
    "for index, name in enumerate(st_names, start=1):\n",
    "    print(index, name)"
   ]
  },
  {
   "cell_type": "code",
   "execution_count": 56,
   "id": "56cc4fe2",
   "metadata": {},
   "outputs": [],
   "source": [
    "# filter: 필터링(매개변수로 전달되는 함수: 요소 값을 판단해서 논리값 반환)을 통해 새로운 리스트를 생성 반환\n",
    "# filter(fn, itr)\n",
    "def positive(l):\n",
    "    result = []\n",
    "    for n in l:\n",
    "        if n > 0:\n",
    "            result.append(n)\n",
    "    return result"
   ]
  },
  {
   "cell_type": "code",
   "execution_count": 57,
   "id": "8ec1366d",
   "metadata": {},
   "outputs": [
    {
     "name": "stdout",
     "output_type": "stream",
     "text": [
      "[3, 1, 9, 10, 4]\n"
     ]
    }
   ],
   "source": [
    "print(positive([3,1,-1,-3,0,9,10,4]))"
   ]
  },
  {
   "cell_type": "code",
   "execution_count": 58,
   "id": "2c8f7fe9",
   "metadata": {},
   "outputs": [],
   "source": [
    "# filter\n",
    "# 판별함수\n",
    "def positive_fn(x):\n",
    "    return x > 0"
   ]
  },
  {
   "cell_type": "code",
   "execution_count": 59,
   "id": "f2f66a25",
   "metadata": {},
   "outputs": [
    {
     "data": {
      "text/plain": [
       "[3, 1, 9, 10, 4]"
      ]
     },
     "execution_count": 59,
     "metadata": {},
     "output_type": "execute_result"
    }
   ],
   "source": [
    "list(filter(positive_fn, [3,1,-1,-3,0,9,10,4]))"
   ]
  },
  {
   "cell_type": "code",
   "execution_count": 60,
   "id": "4b6c9d0d",
   "metadata": {},
   "outputs": [],
   "source": [
    "# 홀수만 출력\n",
    "def pos_fn2(x):\n",
    "    return x % 2 == 1"
   ]
  },
  {
   "cell_type": "code",
   "execution_count": 61,
   "id": "28c7bcf0",
   "metadata": {},
   "outputs": [
    {
     "data": {
      "text/plain": [
       "[3, 1, -1, -3, 9]"
      ]
     },
     "execution_count": 61,
     "metadata": {},
     "output_type": "execute_result"
    }
   ],
   "source": [
    "list(filter(pos_fn2, [3,1,-1,-3,0,9,10,4]))"
   ]
  },
  {
   "cell_type": "code",
   "execution_count": 62,
   "id": "08ce6f4f",
   "metadata": {},
   "outputs": [
    {
     "data": {
      "text/plain": [
       "[3, 1, 9, 10, 4]"
      ]
     },
     "execution_count": 62,
     "metadata": {},
     "output_type": "execute_result"
    }
   ],
   "source": [
    "list(filter(lambda x : x > 0, [3,1,-1,-3,0,9,10,4]))"
   ]
  },
  {
   "cell_type": "code",
   "execution_count": 63,
   "id": "a4468d45",
   "metadata": {},
   "outputs": [
    {
     "data": {
      "text/plain": [
       "[2, 4, 6, 8, 10]"
      ]
     },
     "execution_count": 63,
     "metadata": {},
     "output_type": "execute_result"
    }
   ],
   "source": [
    "# map이 새로운 값을 만듬\n",
    "list(map(lambda x: x*2, [1,2,3,4,5]))"
   ]
  },
  {
   "cell_type": "code",
   "execution_count": 64,
   "id": "8c2a1140",
   "metadata": {},
   "outputs": [],
   "source": [
    "# 파이썬의 입출력(자원)\n",
    "# 표준 입출력 => input, print\n",
    "# 텍스트 파일(자원): 입출력 I/O\n",
    "# 파일 단위 입출력: Open(자원의 경로, 모드) 모드 => r(read), w(write), a(append)\n",
    "\n",
    "f = open('new_text.txt', 'w')\n",
    "f.close()"
   ]
  },
  {
   "cell_type": "code",
   "execution_count": 65,
   "id": "ad38bafb",
   "metadata": {},
   "outputs": [],
   "source": [
    "f = open('new_text.txt', 'w')   # 1. 파일 오픈: w\n",
    "f.write('안녕하세요!')             # 2. 텍스트 쓰기\n",
    "f.close()"
   ]
  },
  {
   "cell_type": "code",
   "execution_count": 66,
   "id": "0536aea2",
   "metadata": {},
   "outputs": [],
   "source": [
    "f = open('new_text.txt', 'w')  \n",
    "for i in range(1, 11):\n",
    "    f.write(f'{i}번째 줄 입력\\n')\n",
    "f.close()"
   ]
  },
  {
   "cell_type": "code",
   "execution_count": 67,
   "id": "e0cd86f8",
   "metadata": {},
   "outputs": [
    {
     "name": "stdout",
     "output_type": "stream",
     "text": [
      "1번째 줄 입력\n",
      "\n",
      "2번째 줄 입력\n",
      "\n"
     ]
    }
   ],
   "source": [
    "# 파일 내용 읽어오기\n",
    "f = open('new_text.txt', 'r')\n",
    "line1 = f.readline()\n",
    "print(line1)\n",
    "line2 = f.readline()\n",
    "print(line2)\n",
    "f.close()"
   ]
  },
  {
   "cell_type": "code",
   "execution_count": null,
   "id": "2d06d71c",
   "metadata": {},
   "outputs": [
    {
     "name": "stdout",
     "output_type": "stream",
     "text": [
      "1번째 줄 입력\n",
      "2번째 줄 입력\n",
      "3번째 줄 입력\n",
      "4번째 줄 입력\n",
      "5번째 줄 입력\n",
      "6번째 줄 입력\n",
      "7번째 줄 입력\n",
      "8번째 줄 입력\n",
      "9번째 줄 입력\n",
      "10번째 줄 입력\n"
     ]
    }
   ],
   "source": [
    "# 파일 내용 읽어오기\n",
    "f = open('new_text.txt', 'r')\n",
    "\n",
    "while 1:\n",
    "    line =# f.readline()\n",
    "    if not line:\n",
    "        break\n",
    "    print(line, end='')\n",
    "f.close()"
   ]
  },
  {
   "cell_type": "code",
   "execution_count": 69,
   "id": "80c79dcc",
   "metadata": {},
   "outputs": [
    {
     "name": "stdout",
     "output_type": "stream",
     "text": [
      "['1번째 줄 입력\\n', '2번째 줄 입력\\n', '3번째 줄 입력\\n', '4번째 줄 입력\\n', '5번째 줄 입력\\n', '6번째 줄 입력\\n', '7번째 줄 입력\\n', '8번째 줄 입력\\n', '9번째 줄 입력\\n', '10번째 줄 입력\\n']\n",
      "1번째 줄 입력\n",
      "2번째 줄 입력\n",
      "3번째 줄 입력\n",
      "4번째 줄 입력\n",
      "5번째 줄 입력\n",
      "6번째 줄 입력\n",
      "7번째 줄 입력\n",
      "8번째 줄 입력\n",
      "9번째 줄 입력\n",
      "10번째 줄 입력\n"
     ]
    }
   ],
   "source": [
    "f = open('new_text.txt', 'r')\n",
    "lines = f.readlines()\n",
    "print(lines)\n",
    "for line in lines:\n",
    "    print(line, end = '')\n",
    "f.close()"
   ]
  },
  {
   "cell_type": "code",
   "execution_count": 70,
   "id": "117b9dfe",
   "metadata": {},
   "outputs": [],
   "source": [
    "# append: 데이터 추가\n",
    "f = open('new_text.txt', 'a')\n",
    "f.write(f'새로운 행이 추가 됩니다.\\n')\n",
    "f.close()"
   ]
  },
  {
   "cell_type": "code",
   "execution_count": 71,
   "id": "0cceb21d",
   "metadata": {},
   "outputs": [],
   "source": [
    "# append: 데이터 추가\n",
    "f = open('new_text.txt', 'a')\n",
    "for i in range(16, 21):\n",
    "    f.write(f'새로운 행이 {i}가 추가 됩니다.\\n')\n",
    "f.close()"
   ]
  },
  {
   "cell_type": "code",
   "execution_count": 72,
   "id": "e79adef0",
   "metadata": {},
   "outputs": [
    {
     "name": "stdout",
     "output_type": "stream",
     "text": [
      "['1번째 줄 입력\\n', '2번째 줄 입력\\n', '3번째 줄 입력\\n', '4번째 줄 입력\\n', '5번째 줄 입력\\n', '6번째 줄 입력\\n', '7번째 줄 입력\\n', '8번째 줄 입력\\n', '9번째 줄 입력\\n', '10번째 줄 입력\\n', '새로운 행이 추가 됩니다.\\n', '새로운 행이 16가 추가 됩니다.\\n', '새로운 행이 17가 추가 됩니다.\\n', '새로운 행이 18가 추가 됩니다.\\n', '새로운 행이 19가 추가 됩니다.\\n', '새로운 행이 20가 추가 됩니다.\\n']\n"
     ]
    }
   ],
   "source": [
    "# close 생략 가능한 구현 => with\n",
    "with open('new_text.txt', 'r') as file:\n",
    "    lines = file.readlines()\n",
    "    print(lines)"
   ]
  },
  {
   "cell_type": "code",
   "execution_count": 73,
   "id": "0b01ec46",
   "metadata": {},
   "outputs": [
    {
     "name": "stdout",
     "output_type": "stream",
     "text": [
      "2.0\n",
      "프로그램을 종료합니다.\n"
     ]
    }
   ],
   "source": [
    "# 예외처리: 에러 발생 시에 비정상적인 종료를 막기 위한 처리\n",
    "\n",
    "try:\n",
    "    print(10/5)\n",
    "except:\n",
    "    print('에러가 발생했습니다. 에러에 대한 처리를 합니다.')\n",
    "\n",
    "print('프로그램을 종료합니다.')\n"
   ]
  },
  {
   "cell_type": "code",
   "execution_count": 74,
   "id": "24f435a8",
   "metadata": {},
   "outputs": [],
   "source": [
    "list_t = [1,2,3,4,5]"
   ]
  },
  {
   "cell_type": "code",
   "execution_count": 75,
   "id": "c794af42",
   "metadata": {},
   "outputs": [
    {
     "name": "stdout",
     "output_type": "stream",
     "text": [
      "5.0\n",
      "리스트의 index 범위에서 벗어납니다.\n"
     ]
    }
   ],
   "source": [
    "try:\n",
    "    print(10/2)\n",
    "    print(list_t[10])   # <=====\n",
    "except ZeroDivisionError:\n",
    "    print('0으로 나누는 연산은 불가능합니다.')\n",
    "except NameError:\n",
    "    print('정의되지 않은 식별자 입니다.')\n",
    "except IndexError:\n",
    "    print('리스트의 index 범위에서 벗어납니다.')\n",
    "except:\n",
    "    print('에러발생!!!')"
   ]
  },
  {
   "cell_type": "code",
   "execution_count": 76,
   "id": "69c45443",
   "metadata": {},
   "outputs": [
    {
     "name": "stdout",
     "output_type": "stream",
     "text": [
      "5.0\n",
      "2\n",
      "에러가 발생했습니다.\n",
      "name 'uname' is not defined\n"
     ]
    }
   ],
   "source": [
    "try :\n",
    "    print(10/2)\n",
    "    print(list_t[1]) # <=======\n",
    "    print(uname)\n",
    "except ZeroDivisionError as e :\n",
    "    print('0으로 나누는 연산을 불가능합니다.')\n",
    "    print(e)\n",
    "except (NameError, IndexError) as e:\n",
    "    #print('정의되지 않은 식별자 입니다.')\n",
    "    print('에러가 발생했습니다.')\n",
    "    print(e)\n",
    "# except IndexError as e:\n",
    "#     print('리스트의 index 범위에서 벗어납니다')\n",
    "#     print(e)\n",
    "except :\n",
    "    print('에러발생!!!')"
   ]
  },
  {
   "cell_type": "code",
   "execution_count": 77,
   "id": "5851576a",
   "metadata": {},
   "outputs": [
    {
     "name": "stdout",
     "output_type": "stream",
     "text": [
      "hello\n",
      "error!!\n",
      "!!!!!\n"
     ]
    }
   ],
   "source": [
    "# try: except: finally: -> 에러 발생여부와 상관없이 실행되어야 하는 블록\n",
    "try:\n",
    "    print('hello')\n",
    "    print(10/0)\n",
    "except:\n",
    "    print('error!!')\n",
    "finally:\n",
    "    print('!!!!!')"
   ]
  },
  {
   "cell_type": "code",
   "execution_count": 78,
   "id": "b148d690",
   "metadata": {},
   "outputs": [
    {
     "name": "stdout",
     "output_type": "stream",
     "text": [
      "입장\n"
     ]
    }
   ],
   "source": [
    "try:\n",
    "    age = int(input('나이를 입력하세요.'))\n",
    "except:\n",
    "    print('숫자 형식으로 입력해주세요!')\n",
    "else:\n",
    "    if age > 18:\n",
    "        print('입장')\n",
    "    else:\n",
    "        print('불가')\n",
    "        "
   ]
  },
  {
   "cell_type": "code",
   "execution_count": 79,
   "id": "8bf9cace",
   "metadata": {},
   "outputs": [],
   "source": [
    "# 사용자 정의 예외 타입 정의\n",
    "# 논리적인 오류 발생 -> 예외로 처리\n",
    "# age => 음수, 500: 논리적 오류\n",
    "\n",
    "class MyError(Exception):\n",
    "    pass"
   ]
  },
  {
   "cell_type": "code",
   "execution_count": 80,
   "id": "ebd75284",
   "metadata": {},
   "outputs": [],
   "source": [
    "# 에러 강제 발생\n",
    "# raise MyError()"
   ]
  },
  {
   "cell_type": "code",
   "execution_count": 81,
   "id": "e55be6f2",
   "metadata": {},
   "outputs": [
    {
     "name": "stdout",
     "output_type": "stream",
     "text": [
      "34\n"
     ]
    }
   ],
   "source": [
    "try:\n",
    "    age = int(input('나이를 입력하세요.'))\n",
    "    \n",
    "    if age < 1 or age > 200:\n",
    "        raise MyError()\n",
    "    \n",
    "except MyError:\n",
    "    print('나이의 입력 범위는 1 ~ 200 까지 입니다.\\n다시 입력하세요!')\n",
    "except:\n",
    "    print('다시 입력하세요!')\n",
    "else:\n",
    "    print(age)"
   ]
  },
  {
   "cell_type": "markdown",
   "id": "cc353b43",
   "metadata": {},
   "source": [
    "### 클래스 2025.06.12"
   ]
  },
  {
   "cell_type": "code",
   "execution_count": null,
   "id": "43cd114b",
   "metadata": {},
   "outputs": [],
   "source": [
    "# 객체지향 프로그래밍: 객체의 개념을 프로그래밍에 도입\n",
    "# 객체: 변수들, 함수들도 구성 => 메모리에 올라가 있는 상태\n",
    "# 클래스: 변수들과 함수들이 어떻게 구성되는지의 설계도 -> 변수들을 정의, 함수들을 정의\n",
    "#   => 클래스만 정의했다. -> 사용 X, 클래스를 이용해서 객체로 만들어야 사용가능\n",
    "# class 클래스이름:\n",
    "#       변수들과 함수들을 정의\n",
    "# 클래스의 정의 => 새로운 사용자 정의 타입을 만든 것!\n",
    "# 객체 생성 => 변수 = 클래스이름()\n",
    "# 객체의 활용 => 변수.객체가 가지는 변수, 변수.객체가 가지는 함수() 메서드(객체가 가지는 함수)\n",
    "\n",
    "class Cookie:\n",
    "    pass"
   ]
  },
  {
   "cell_type": "code",
   "execution_count": 85,
   "id": "4aa3f6f8",
   "metadata": {},
   "outputs": [
    {
     "name": "stdout",
     "output_type": "stream",
     "text": [
      "4362940368 <class '__main__.Cookie'>\n",
      "4362943248 <class '__main__.Cookie'>\n"
     ]
    }
   ],
   "source": [
    "# 객체 생성\n",
    "c1 = Cookie()\n",
    "c2 = Cookie()\n",
    "\n",
    "print(id(c1), type(c1))\n",
    "print(id(c2), type(c2))"
   ]
  },
  {
   "cell_type": "code",
   "execution_count": 134,
   "id": "d829fcbb",
   "metadata": {},
   "outputs": [],
   "source": [
    "# 사칙연산을 하는 클래스 정의: 클래스 이름, 변수, 함수\n",
    "# 변수는 두개, 함수(메서드) 4개\n",
    "\n",
    "class FourCal:\n",
    "    # 초기화(변수 선언 -> 최초 데이터를 할당) 메서드 => 생성자, 생성자함수\n",
    "    # 필요한 변수들의 생성, 값을 초기화\n",
    "    def __init__(self, first, second):\n",
    "        self.first = first\n",
    "        self.second = second\n",
    "\n",
    "    # 클래스에서 함수를 정의할 때에는 반드시 self 매개변수를 받아야 한다!\n",
    "    # self => 객체 자신을 가르키는 변수(객체의 주소)\n",
    "    def setdata(self, first, second):\n",
    "        self.first = first\n",
    "        self.second = second\n",
    "\n",
    "    # 사칙연산 함수\n",
    "    def add(self):\n",
    "        return self.first + self.second\n",
    "    \n",
    "    def sub(self):\n",
    "        return self.first - self.second\n",
    "    \n",
    "    def mul(self):\n",
    "        return self.first * self.second\n",
    "    \n",
    "    def div(self):\n",
    "        return self.first / self.second\n"
   ]
  },
  {
   "cell_type": "code",
   "execution_count": 88,
   "id": "7fe268d7",
   "metadata": {},
   "outputs": [],
   "source": [
    "cal_1 = FourCal()"
   ]
  },
  {
   "cell_type": "code",
   "execution_count": 89,
   "id": "721346c8",
   "metadata": {},
   "outputs": [
    {
     "data": {
      "text/plain": [
       "__main__.FourCal"
      ]
     },
     "execution_count": 89,
     "metadata": {},
     "output_type": "execute_result"
    }
   ],
   "source": [
    "type(cal_1)"
   ]
  },
  {
   "cell_type": "code",
   "execution_count": 90,
   "id": "ca31eaed",
   "metadata": {},
   "outputs": [],
   "source": [
    "cal_1.setdata(10, 20)"
   ]
  },
  {
   "cell_type": "code",
   "execution_count": 93,
   "id": "b2d4d7ca",
   "metadata": {},
   "outputs": [
    {
     "name": "stdout",
     "output_type": "stream",
     "text": [
      "10 20\n"
     ]
    }
   ],
   "source": [
    "print(cal_1.first, cal_1.second)"
   ]
  },
  {
   "cell_type": "code",
   "execution_count": 94,
   "id": "f981ab50",
   "metadata": {},
   "outputs": [],
   "source": [
    "cal_2 = FourCal()"
   ]
  },
  {
   "cell_type": "code",
   "execution_count": 98,
   "id": "e2ebba53",
   "metadata": {},
   "outputs": [],
   "source": [
    "cal_3 = FourCal()"
   ]
  },
  {
   "cell_type": "code",
   "execution_count": 103,
   "id": "63c4cd51",
   "metadata": {},
   "outputs": [
    {
     "data": {
      "text/plain": [
       "100"
      ]
     },
     "execution_count": 103,
     "metadata": {},
     "output_type": "execute_result"
    }
   ],
   "source": [
    "cal_4 = FourCal(100,200)\n",
    "cal_4.first"
   ]
  },
  {
   "cell_type": "code",
   "execution_count": 105,
   "id": "9d303b48",
   "metadata": {},
   "outputs": [],
   "source": [
    "cal_5 = FourCal(10, 7)"
   ]
  },
  {
   "cell_type": "code",
   "execution_count": 110,
   "id": "f01b4995",
   "metadata": {},
   "outputs": [
    {
     "name": "stdout",
     "output_type": "stream",
     "text": [
      "10 7\n",
      "17\n",
      "3\n",
      "70\n",
      "1.4285714285714286\n"
     ]
    }
   ],
   "source": [
    "print(cal_5.first, cal_5.second)\n",
    "print(cal_5.add())\n",
    "print(cal_5.sub())\n",
    "print(cal_5.mul())\n",
    "print(cal_5.div())"
   ]
  },
  {
   "cell_type": "code",
   "execution_count": null,
   "id": "e9a02311",
   "metadata": {},
   "outputs": [],
   "source": [
    "# 학생 class 생성 -> 객체 생성\n",
    "# 변수: 학번, 이름, 국어점수, 영어점수, 수학점수\n",
    "# 기능: 전체 데이터 출력하는 메서드(이름, 학번, 총점, 평균)\n",
    "#       총점 계산\n",
    "#       평균 계산\n",
    "# 시뮬레이션: 테스트 학생 데이터 생성 -> 결과 출력\n",
    "\n",
    "class Student:\n",
    "    # 데이터 초기화\n",
    "    def __init__(self, student_id, name, kor, eng, math):\n",
    "        self.id = student_id\n",
    "        self.name = name\n",
    "        self.kor = kor\n",
    "        self.eng = eng\n",
    "        self.math = math\n",
    "\n",
    "\n",
    "    def total(self):\n",
    "        return self.kor + self.eng + self.math\n",
    "    \n",
    "    def average(self):\n",
    "        return self.total() / 3\n",
    "    \n",
    "    def print_info(self):\n",
    "        print(f'이름: {self.name}')\n",
    "        print(f'학번: {self.id}')\n",
    "        print(f'총점: {self.total()}')\n",
    "        print(f'평균: {self.average():.2f}')\n",
    "        print('-'*20)"
   ]
  },
  {
   "cell_type": "code",
   "execution_count": 125,
   "id": "25401cb2",
   "metadata": {},
   "outputs": [],
   "source": [
    "student_1 = Student('20250612','이순신',90,80,60)\n",
    "student_2 = Student('20250613','손흥민',60,75,30)"
   ]
  },
  {
   "cell_type": "code",
   "execution_count": 127,
   "id": "c1de4214",
   "metadata": {},
   "outputs": [
    {
     "name": "stdout",
     "output_type": "stream",
     "text": [
      "이름: 이순신\n",
      "학번: 20250612\n",
      "총점: 230\n",
      "평균: 76.67\n",
      "--------------------\n",
      "이름: 손흥민\n",
      "학번: 20250613\n",
      "총점: 165\n",
      "평균: 55.00\n",
      "--------------------\n"
     ]
    }
   ],
   "source": [
    "student_1.print_info()\n",
    "student_2.print_info()"
   ]
  },
  {
   "cell_type": "code",
   "execution_count": null,
   "id": "0d2a7490",
   "metadata": {},
   "outputs": [],
   "source": [
    "# students = [\n",
    "#     Student('20250612','이순신',90,80,60)\n",
    "#     Student('20250612','이순신',90,80,60)\n",
    "#     Student('20250612','이순신',90,80,60)\n",
    "#     Student('20250612','이순신',90,80,60)\n",
    "# ]"
   ]
  },
  {
   "cell_type": "code",
   "execution_count": 142,
   "id": "791d88c2",
   "metadata": {},
   "outputs": [],
   "source": [
    "# 클래스의 상속: 세로운 클래스를 만들 때 기존의 클래스의 멤버들을 받아서 생성하는 방법\n",
    "# class 클래스이름(부모클래스)\n",
    "class MoreFourCal(FourCal):\n",
    "    def pow(self):\n",
    "        return self.first ** self.second\n",
    "    \n",
    "    def div(self):\n",
    "        if self.second == 0:\n",
    "            return 0\n",
    "        else:\n",
    "            return self.first / self.second"
   ]
  },
  {
   "cell_type": "code",
   "execution_count": 143,
   "id": "85df0484",
   "metadata": {},
   "outputs": [],
   "source": [
    "mcal_1 = MoreFourCal(100,2)"
   ]
  },
  {
   "cell_type": "code",
   "execution_count": 144,
   "id": "e4fb1122",
   "metadata": {},
   "outputs": [
    {
     "name": "stdout",
     "output_type": "stream",
     "text": [
      "102\n",
      "98\n",
      "200\n",
      "50.0\n"
     ]
    }
   ],
   "source": [
    "print(mcal_1.add())\n",
    "print(mcal_1.sub())\n",
    "print(mcal_1.mul())\n",
    "print(mcal_1.div())\n",
    "\n"
   ]
  },
  {
   "cell_type": "code",
   "execution_count": 145,
   "id": "752fbca8",
   "metadata": {},
   "outputs": [],
   "source": [
    "mcal_2 = MoreFourCal(100,0)"
   ]
  },
  {
   "cell_type": "code",
   "execution_count": 147,
   "id": "b9d0b6d7",
   "metadata": {},
   "outputs": [
    {
     "name": "stdout",
     "output_type": "stream",
     "text": [
      "100\n",
      "0\n",
      "0\n",
      "1\n"
     ]
    }
   ],
   "source": [
    "print(mcal_2.add())\n",
    "print(mcal_2.mul())\n",
    "print(mcal_2.div())\n",
    "print(mcal_2.pow())\n"
   ]
  },
  {
   "cell_type": "markdown",
   "id": "b6ec5c48",
   "metadata": {},
   "source": [
    "#### 표준모듈"
   ]
  },
  {
   "cell_type": "code",
   "execution_count": 149,
   "id": "0adfd79e",
   "metadata": {},
   "outputs": [],
   "source": [
    "import datetime"
   ]
  },
  {
   "cell_type": "code",
   "execution_count": 160,
   "id": "8091284d",
   "metadata": {},
   "outputs": [],
   "source": [
    "day1 = datetime.date(2025, 6, 12)\n",
    "day2 = datetime.date(2025, 1, 1)"
   ]
  },
  {
   "cell_type": "code",
   "execution_count": 161,
   "id": "b2938c8a",
   "metadata": {},
   "outputs": [
    {
     "name": "stdout",
     "output_type": "stream",
     "text": [
      "162 days, 0:00:00\n"
     ]
    }
   ],
   "source": [
    "print(day1 - day2)"
   ]
  },
  {
   "cell_type": "code",
   "execution_count": 162,
   "id": "83d4c38f",
   "metadata": {},
   "outputs": [],
   "source": [
    "import time"
   ]
  },
  {
   "cell_type": "code",
   "execution_count": 163,
   "id": "071f6a05",
   "metadata": {},
   "outputs": [
    {
     "data": {
      "text/plain": [
       "1749711462.693459"
      ]
     },
     "execution_count": 163,
     "metadata": {},
     "output_type": "execute_result"
    }
   ],
   "source": [
    "time.time()"
   ]
  },
  {
   "cell_type": "code",
   "execution_count": 167,
   "id": "468e88c9",
   "metadata": {},
   "outputs": [
    {
     "data": {
      "text/plain": [
       "time.struct_time(tm_year=2025, tm_mon=6, tm_mday=12, tm_hour=15, tm_min=58, tm_sec=21, tm_wday=3, tm_yday=163, tm_isdst=0)"
      ]
     },
     "execution_count": 167,
     "metadata": {},
     "output_type": "execute_result"
    }
   ],
   "source": [
    "time.localtime()"
   ]
  },
  {
   "cell_type": "code",
   "execution_count": 168,
   "id": "43e640e7",
   "metadata": {},
   "outputs": [
    {
     "data": {
      "text/plain": [
       "'Thu Jun 12 15:58:35 2025'"
      ]
     },
     "execution_count": 168,
     "metadata": {},
     "output_type": "execute_result"
    }
   ],
   "source": [
    "time.ctime()"
   ]
  },
  {
   "cell_type": "markdown",
   "id": "57181132",
   "metadata": {},
   "source": [
    "#### 랜덤"
   ]
  },
  {
   "cell_type": "code",
   "execution_count": 169,
   "id": "f9179994",
   "metadata": {},
   "outputs": [],
   "source": [
    "import random"
   ]
  },
  {
   "cell_type": "code",
   "execution_count": 171,
   "id": "016f8237",
   "metadata": {},
   "outputs": [
    {
     "data": {
      "text/plain": [
       "0.9332506299920373"
      ]
     },
     "execution_count": 171,
     "metadata": {},
     "output_type": "execute_result"
    }
   ],
   "source": [
    "random.random()     # 1보다 작은 값 / 0.00000 <= R < 1"
   ]
  },
  {
   "cell_type": "code",
   "execution_count": 172,
   "id": "9acf6fe3",
   "metadata": {},
   "outputs": [
    {
     "data": {
      "text/plain": [
       "86"
      ]
     },
     "execution_count": 172,
     "metadata": {},
     "output_type": "execute_result"
    }
   ],
   "source": [
    "random.randint(60,100)"
   ]
  },
  {
   "cell_type": "code",
   "execution_count": 173,
   "id": "1a793393",
   "metadata": {},
   "outputs": [
    {
     "name": "stdout",
     "output_type": "stream",
     "text": [
      "[77, 74, 88, 84, 99, 65, 97, 78, 76, 79]\n"
     ]
    }
   ],
   "source": [
    "list_score = []\n",
    "for s in range(0, 10):\n",
    "    list_score.append(random.randint(60, 100))\n",
    "\n",
    "print(list_score)"
   ]
  },
  {
   "cell_type": "code",
   "execution_count": 174,
   "id": "6e97a043",
   "metadata": {},
   "outputs": [
    {
     "data": {
      "text/plain": [
       "8"
      ]
     },
     "execution_count": 174,
     "metadata": {},
     "output_type": "execute_result"
    }
   ],
   "source": [
    "random.choice([1,2,3,4,5,5,6,7,8])"
   ]
  },
  {
   "cell_type": "code",
   "execution_count": 175,
   "id": "a8ad6935",
   "metadata": {},
   "outputs": [
    {
     "data": {
      "text/plain": [
       "[6, 1, 7, 9, 4]"
      ]
     },
     "execution_count": 175,
     "metadata": {},
     "output_type": "execute_result"
    }
   ],
   "source": [
    "random.sample([1,2,3,4,5,6,7,8,9], 5)"
   ]
  },
  {
   "cell_type": "markdown",
   "id": "3a13c561",
   "metadata": {},
   "source": [
    "#### OS"
   ]
  },
  {
   "cell_type": "code",
   "execution_count": 176,
   "id": "80e6f7e9",
   "metadata": {},
   "outputs": [],
   "source": [
    "import os"
   ]
  },
  {
   "cell_type": "code",
   "execution_count": 177,
   "id": "15efea24",
   "metadata": {},
   "outputs": [],
   "source": [
    "os.chdir('/Users/minjung')"
   ]
  },
  {
   "cell_type": "code",
   "execution_count": 178,
   "id": "5a8e793a",
   "metadata": {},
   "outputs": [
    {
     "data": {
      "text/plain": [
       "'/Users/minjung'"
      ]
     },
     "execution_count": 178,
     "metadata": {},
     "output_type": "execute_result"
    }
   ],
   "source": [
    "os.getcwd()"
   ]
  },
  {
   "cell_type": "code",
   "execution_count": 181,
   "id": "260fff3c",
   "metadata": {},
   "outputs": [],
   "source": [
    "os.chdir('/Users/minjung/sk-ai/py_project')"
   ]
  },
  {
   "cell_type": "code",
   "execution_count": null,
   "id": "14823b1e",
   "metadata": {},
   "outputs": [],
   "source": [
    "# 디렉토리 생성\n",
    "os.mkdir('test')"
   ]
  },
  {
   "cell_type": "code",
   "execution_count": null,
   "id": "508013ae",
   "metadata": {},
   "outputs": [],
   "source": [
    "# 디렉토리 삭제\n",
    "os.rmdir('test')"
   ]
  },
  {
   "cell_type": "code",
   "execution_count": 184,
   "id": "74de6df7",
   "metadata": {},
   "outputs": [],
   "source": [
    "import json"
   ]
  },
  {
   "cell_type": "code",
   "execution_count": 185,
   "id": "ce67d726",
   "metadata": {},
   "outputs": [],
   "source": [
    "with open('data.json', 'r', encoding='utf8') as f:\n",
    "    data = json.load(f)"
   ]
  },
  {
   "cell_type": "code",
   "execution_count": 186,
   "id": "849038dd",
   "metadata": {},
   "outputs": [
    {
     "name": "stdout",
     "output_type": "stream",
     "text": [
      "{'name': '손흥민', 'age': 30, 'number': 7} <class 'dict'>\n"
     ]
    }
   ],
   "source": [
    "print(data, type(data))"
   ]
  },
  {
   "cell_type": "code",
   "execution_count": 187,
   "id": "be0933f3",
   "metadata": {},
   "outputs": [],
   "source": [
    "json_str_data = json.dumps(data)"
   ]
  },
  {
   "cell_type": "code",
   "execution_count": 188,
   "id": "29a1d484",
   "metadata": {},
   "outputs": [
    {
     "name": "stdout",
     "output_type": "stream",
     "text": [
      "{\"name\": \"\\uc190\\ud765\\ubbfc\", \"age\": 30, \"number\": 7} <class 'str'>\n"
     ]
    }
   ],
   "source": [
    "print(json_str_data, type(json_str_data))"
   ]
  },
  {
   "cell_type": "code",
   "execution_count": 192,
   "id": "5842ec2b",
   "metadata": {},
   "outputs": [],
   "source": [
    "import numpy as np"
   ]
  },
  {
   "cell_type": "code",
   "execution_count": 193,
   "id": "1f42f8e7",
   "metadata": {},
   "outputs": [],
   "source": [
    "arr = np.array([1,2,3,4,5])"
   ]
  },
  {
   "cell_type": "code",
   "execution_count": 194,
   "id": "b4b40cf7",
   "metadata": {},
   "outputs": [
    {
     "name": "stdout",
     "output_type": "stream",
     "text": [
      "[1 2 3 4 5] <class 'numpy.ndarray'>\n"
     ]
    }
   ],
   "source": [
    "print(arr, type(arr))"
   ]
  },
  {
   "cell_type": "code",
   "execution_count": 195,
   "id": "d8c37c22",
   "metadata": {},
   "outputs": [
    {
     "data": {
      "text/plain": [
       "array([11, 12, 13, 14, 15])"
      ]
     },
     "execution_count": 195,
     "metadata": {},
     "output_type": "execute_result"
    }
   ],
   "source": [
    "arr + 10"
   ]
  },
  {
   "cell_type": "code",
   "execution_count": 196,
   "id": "89588334",
   "metadata": {},
   "outputs": [
    {
     "name": "stdout",
     "output_type": "stream",
     "text": [
      "[[1. 1.]\n",
      " [1. 1.]\n",
      " [1. 1.]]\n"
     ]
    }
   ],
   "source": [
    "# 1로 채우는 배열\n",
    "ones = np.ones((3,2))\n",
    "print(ones)"
   ]
  },
  {
   "cell_type": "code",
   "execution_count": 199,
   "id": "565cba98",
   "metadata": {},
   "outputs": [
    {
     "name": "stdout",
     "output_type": "stream",
     "text": [
      "[0 2 4 6 8]\n"
     ]
    }
   ],
   "source": [
    "# 일련번호 생성되는 배열\n",
    "# 0 ~ 10 사이의 숫자를 2씩 간격으로 생성\n",
    "seq_1 = np.arange(0, 10, 2)\n",
    "print(seq_1)"
   ]
  },
  {
   "cell_type": "code",
   "execution_count": null,
   "id": "b509b0fd",
   "metadata": {},
   "outputs": [
    {
     "name": "stdout",
     "output_type": "stream",
     "text": [
      "[ 1.  4.  7. 10.]\n"
     ]
    }
   ],
   "source": [
    "# 지정된 범위 안에서 동일한 간격으로 숫자를 생성\n",
    "# 0 ~ 10 5개로 구분\n",
    "linspace = np.linspace(1, 10, 4)\n",
    "print(linspace)"
   ]
  },
  {
   "cell_type": "code",
   "execution_count": 201,
   "id": "2651c7fe",
   "metadata": {},
   "outputs": [],
   "source": [
    "# 배열의 속성 확인\n",
    "arr1 = np.array([[1,2,3],[4,5,6],[7,8,9]])"
   ]
  },
  {
   "cell_type": "code",
   "execution_count": 203,
   "id": "e1d33db9",
   "metadata": {},
   "outputs": [
    {
     "name": "stdout",
     "output_type": "stream",
     "text": [
      "<class 'numpy.ndarray'>\n",
      "(3, 3)\n",
      "2\n",
      "9\n",
      "int64\n"
     ]
    }
   ],
   "source": [
    "print(type(arr1))\n",
    "print(arr1.shape)\n",
    "print(arr1.ndim)\n",
    "print(arr1.size)\n",
    "print(arr1.dtype)"
   ]
  },
  {
   "cell_type": "code",
   "execution_count": null,
   "id": "5b1d98d8",
   "metadata": {},
   "outputs": [],
   "source": []
  }
 ],
 "metadata": {
  "kernelspec": {
   "display_name": ".venv",
   "language": "python",
   "name": "python3"
  },
  "language_info": {
   "codemirror_mode": {
    "name": "ipython",
    "version": 3
   },
   "file_extension": ".py",
   "mimetype": "text/x-python",
   "name": "python",
   "nbconvert_exporter": "python",
   "pygments_lexer": "ipython3",
   "version": "3.13.4"
  }
 },
 "nbformat": 4,
 "nbformat_minor": 5
}
