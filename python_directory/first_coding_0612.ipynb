{
 "cells": [
  {
   "cell_type": "markdown",
   "id": "cc353b43",
   "metadata": {},
   "source": [
    "### 클래스 2025.06.12"
   ]
  },
  {
   "cell_type": "code",
   "execution_count": 30,
   "id": "43cd114b",
   "metadata": {},
   "outputs": [],
   "source": [
    "# 객체지향 프로그래밍: 객체의 개념을 프로그래밍에 도입\n",
    "# 객체: 변수들, 함수들도 구성 => 메모리에 올라가 있는 상태\n",
    "# 클래스: 변수들과 함수들이 어떻게 구성되는지의 설계도 -> 변수들을 정의, 함수들을 정의\n",
    "#   => 클래스만 정의했다. -> 사용 X, 클래스를 이용해서 객체로 만들어야 사용가능\n",
    "# class 클래스이름:\n",
    "#       변수들과 함수들을 정의\n",
    "# 클래스의 정의 => 새로운 사용자 정의 타입을 만든 것!\n",
    "# 객체 생성 => 변수 = 클래스이름()\n",
    "# 객체의 활용 => 변수.객체가 가지는 변수, 변수.객체가 가지는 함수() 메서드(객체가 가지는 함수)\n",
    "\n",
    "class Cookie:\n",
    "    pass"
   ]
  },
  {
   "cell_type": "code",
   "execution_count": 31,
   "id": "4aa3f6f8",
   "metadata": {},
   "outputs": [
    {
     "name": "stdout",
     "output_type": "stream",
     "text": [
      "4428440512 <class '__main__.Cookie'>\n",
      "4424972432 <class '__main__.Cookie'>\n"
     ]
    }
   ],
   "source": [
    "# 객체 생성\n",
    "c1 = Cookie()\n",
    "c2 = Cookie()\n",
    "\n",
    "print(id(c1), type(c1))\n",
    "print(id(c2), type(c2))"
   ]
  },
  {
   "cell_type": "code",
   "execution_count": 32,
   "id": "d829fcbb",
   "metadata": {},
   "outputs": [],
   "source": [
    "# 사칙연산을 하는 클래스 정의: 클래스 이름, 변수, 함수\n",
    "# 변수는 두개, 함수(메서드) 4개\n",
    "\n",
    "class FourCal:\n",
    "    # 초기화(변수 선언 -> 최초 데이터를 할당) 메서드 => 생성자, 생성자함수\n",
    "    # 필요한 변수들의 생성, 값을 초기화\n",
    "    def __init__(self, first, second):\n",
    "        self.first = first\n",
    "        self.second = second\n",
    "\n",
    "    # 클래스에서 함수를 정의할 때에는 반드시 self 매개변수를 받아야 한다!\n",
    "    # self => 객체 자신을 가르키는 변수(객체의 주소)\n",
    "    def setdata(self, first, second):\n",
    "        self.first = first\n",
    "        self.second = second\n",
    "\n",
    "    # 사칙연산 함수\n",
    "    def add(self):\n",
    "        return self.first + self.second\n",
    "    \n",
    "    def sub(self):\n",
    "        return self.first - self.second\n",
    "    \n",
    "    def mul(self):\n",
    "        return self.first * self.second\n",
    "    \n",
    "    def div(self):\n",
    "        return self.first / self.second\n"
   ]
  },
  {
   "cell_type": "code",
   "execution_count": 33,
   "id": "7fe268d7",
   "metadata": {},
   "outputs": [],
   "source": [
    "cal_1 = FourCal(1, 2)"
   ]
  },
  {
   "cell_type": "code",
   "execution_count": 34,
   "id": "721346c8",
   "metadata": {},
   "outputs": [
    {
     "data": {
      "text/plain": [
       "__main__.FourCal"
      ]
     },
     "execution_count": 34,
     "metadata": {},
     "output_type": "execute_result"
    }
   ],
   "source": [
    "type(cal_1)"
   ]
  },
  {
   "cell_type": "code",
   "execution_count": 35,
   "id": "ca31eaed",
   "metadata": {},
   "outputs": [],
   "source": [
    "cal_1.setdata(10, 20)"
   ]
  },
  {
   "cell_type": "code",
   "execution_count": 36,
   "id": "b2d4d7ca",
   "metadata": {},
   "outputs": [
    {
     "name": "stdout",
     "output_type": "stream",
     "text": [
      "10 20\n"
     ]
    }
   ],
   "source": [
    "print(cal_1.first, cal_1.second)"
   ]
  },
  {
   "cell_type": "code",
   "execution_count": 37,
   "id": "f981ab50",
   "metadata": {},
   "outputs": [],
   "source": [
    "cal_2 = FourCal(1,2)"
   ]
  },
  {
   "cell_type": "code",
   "execution_count": 38,
   "id": "e2ebba53",
   "metadata": {},
   "outputs": [],
   "source": [
    "cal_3 = FourCal(2,3)"
   ]
  },
  {
   "cell_type": "code",
   "execution_count": 39,
   "id": "63c4cd51",
   "metadata": {},
   "outputs": [
    {
     "data": {
      "text/plain": [
       "100"
      ]
     },
     "execution_count": 39,
     "metadata": {},
     "output_type": "execute_result"
    }
   ],
   "source": [
    "cal_4 = FourCal(100,200)\n",
    "cal_4.first"
   ]
  },
  {
   "cell_type": "code",
   "execution_count": 40,
   "id": "9d303b48",
   "metadata": {},
   "outputs": [],
   "source": [
    "cal_5 = FourCal(10, 7)"
   ]
  },
  {
   "cell_type": "code",
   "execution_count": 41,
   "id": "f01b4995",
   "metadata": {},
   "outputs": [
    {
     "name": "stdout",
     "output_type": "stream",
     "text": [
      "10 7\n",
      "17\n",
      "3\n",
      "70\n",
      "1.4285714285714286\n"
     ]
    }
   ],
   "source": [
    "print(cal_5.first, cal_5.second)\n",
    "print(cal_5.add())\n",
    "print(cal_5.sub())\n",
    "print(cal_5.mul())\n",
    "print(cal_5.div())"
   ]
  },
  {
   "cell_type": "code",
   "execution_count": 42,
   "id": "e9a02311",
   "metadata": {},
   "outputs": [],
   "source": [
    "# 학생 class 생성 -> 객체 생성\n",
    "# 변수: 학번, 이름, 국어점수, 영어점수, 수학점수\n",
    "# 기능: 전체 데이터 출력하는 메서드(이름, 학번, 총점, 평균)\n",
    "#       총점 계산\n",
    "#       평균 계산\n",
    "# 시뮬레이션: 테스트 학생 데이터 생성 -> 결과 출력\n",
    "\n",
    "class Student:\n",
    "    # 데이터 초기화\n",
    "    def __init__(self, student_id, name, kor, eng, math):\n",
    "        self.id = student_id\n",
    "        self.name = name\n",
    "        self.kor = kor\n",
    "        self.eng = eng\n",
    "        self.math = math\n",
    "\n",
    "\n",
    "    def total(self):\n",
    "        return self.kor + self.eng + self.math\n",
    "    \n",
    "    def average(self):\n",
    "        return self.total() / 3\n",
    "    \n",
    "    def print_info(self):\n",
    "        print(f'이름: {self.name}')\n",
    "        print(f'학번: {self.id}')\n",
    "        print(f'총점: {self.total()}')\n",
    "        print(f'평균: {self.average():.2f}')\n",
    "        print('-'*20)"
   ]
  },
  {
   "cell_type": "code",
   "execution_count": 43,
   "id": "25401cb2",
   "metadata": {},
   "outputs": [],
   "source": [
    "student_1 = Student('20250612','이순신',90,80,60)\n",
    "student_2 = Student('20250613','손흥민',60,75,30)"
   ]
  },
  {
   "cell_type": "code",
   "execution_count": 44,
   "id": "c1de4214",
   "metadata": {},
   "outputs": [
    {
     "name": "stdout",
     "output_type": "stream",
     "text": [
      "이름: 이순신\n",
      "학번: 20250612\n",
      "총점: 230\n",
      "평균: 76.67\n",
      "--------------------\n",
      "이름: 손흥민\n",
      "학번: 20250613\n",
      "총점: 165\n",
      "평균: 55.00\n",
      "--------------------\n"
     ]
    }
   ],
   "source": [
    "student_1.print_info()\n",
    "student_2.print_info()"
   ]
  },
  {
   "cell_type": "code",
   "execution_count": 45,
   "id": "0d2a7490",
   "metadata": {},
   "outputs": [],
   "source": [
    "students = [\n",
    "    Student('손흥민1', 123451, 80, 70, 50),\n",
    "    Student('손흥민2', 123452, 80, 70, 50),\n",
    "    Student('손흥민3', 123453, 80, 70, 50),\n",
    "    Student('손흥민4', 123454, 80, 70, 50),\n",
    "    Student('손흥민5', 123455, 80, 70, 50),\n",
    "]"
   ]
  },
  {
   "cell_type": "code",
   "execution_count": 46,
   "id": "957d5955",
   "metadata": {},
   "outputs": [
    {
     "name": "stdout",
     "output_type": "stream",
     "text": [
      "이름: 123451\n",
      "학번: 손흥민1\n",
      "총점: 200\n",
      "평균: 66.67\n",
      "--------------------\n",
      "이름: 123452\n",
      "학번: 손흥민2\n",
      "총점: 200\n",
      "평균: 66.67\n",
      "--------------------\n",
      "이름: 123453\n",
      "학번: 손흥민3\n",
      "총점: 200\n",
      "평균: 66.67\n",
      "--------------------\n",
      "이름: 123454\n",
      "학번: 손흥민4\n",
      "총점: 200\n",
      "평균: 66.67\n",
      "--------------------\n",
      "이름: 123455\n",
      "학번: 손흥민5\n",
      "총점: 200\n",
      "평균: 66.67\n",
      "--------------------\n"
     ]
    }
   ],
   "source": [
    "for s in students:\n",
    "    s.print_info()"
   ]
  },
  {
   "cell_type": "code",
   "execution_count": 47,
   "id": "791d88c2",
   "metadata": {},
   "outputs": [],
   "source": [
    "# 클래스의 상속: 세로운 클래스를 만들 때 기존의 클래스의 멤버들을 받아서 생성하는 방법\n",
    "# class 클래스이름(부모클래스)\n",
    "class MoreFourCal(FourCal):\n",
    "    def pow(self):\n",
    "        return self.first ** self.second\n",
    "    \n",
    "    def div(self):\n",
    "        if self.second == 0:\n",
    "            return 0\n",
    "        else:\n",
    "            return self.first / self.second"
   ]
  },
  {
   "cell_type": "code",
   "execution_count": 48,
   "id": "85df0484",
   "metadata": {},
   "outputs": [],
   "source": [
    "mcal_1 = MoreFourCal(100,2)"
   ]
  },
  {
   "cell_type": "code",
   "execution_count": 49,
   "id": "e4fb1122",
   "metadata": {},
   "outputs": [
    {
     "name": "stdout",
     "output_type": "stream",
     "text": [
      "102\n",
      "98\n",
      "200\n",
      "50.0\n"
     ]
    }
   ],
   "source": [
    "print(mcal_1.add())\n",
    "print(mcal_1.sub())\n",
    "print(mcal_1.mul())\n",
    "print(mcal_1.div())\n",
    "\n"
   ]
  },
  {
   "cell_type": "code",
   "execution_count": 50,
   "id": "752fbca8",
   "metadata": {},
   "outputs": [],
   "source": [
    "mcal_2 = MoreFourCal(100,0)"
   ]
  },
  {
   "cell_type": "code",
   "execution_count": 51,
   "id": "b9d0b6d7",
   "metadata": {},
   "outputs": [
    {
     "name": "stdout",
     "output_type": "stream",
     "text": [
      "100\n",
      "0\n",
      "0\n",
      "1\n"
     ]
    }
   ],
   "source": [
    "print(mcal_2.add())\n",
    "print(mcal_2.mul())\n",
    "print(mcal_2.div())\n",
    "print(mcal_2.pow())\n"
   ]
  },
  {
   "cell_type": "markdown",
   "id": "b6ec5c48",
   "metadata": {},
   "source": [
    "#### 표준모듈"
   ]
  },
  {
   "cell_type": "code",
   "execution_count": 52,
   "id": "0adfd79e",
   "metadata": {},
   "outputs": [],
   "source": [
    "import datetime"
   ]
  },
  {
   "cell_type": "code",
   "execution_count": 53,
   "id": "8091284d",
   "metadata": {},
   "outputs": [],
   "source": [
    "day1 = datetime.date(2025, 6, 12)\n",
    "day2 = datetime.date(2025, 1, 1)"
   ]
  },
  {
   "cell_type": "code",
   "execution_count": 54,
   "id": "b2938c8a",
   "metadata": {},
   "outputs": [
    {
     "name": "stdout",
     "output_type": "stream",
     "text": [
      "162 days, 0:00:00\n"
     ]
    }
   ],
   "source": [
    "print(day1 - day2)"
   ]
  },
  {
   "cell_type": "code",
   "execution_count": 55,
   "id": "83d4c38f",
   "metadata": {},
   "outputs": [],
   "source": [
    "import time"
   ]
  },
  {
   "cell_type": "code",
   "execution_count": 56,
   "id": "071f6a05",
   "metadata": {},
   "outputs": [
    {
     "data": {
      "text/plain": [
       "1749775961.741444"
      ]
     },
     "execution_count": 56,
     "metadata": {},
     "output_type": "execute_result"
    }
   ],
   "source": [
    "time.time()"
   ]
  },
  {
   "cell_type": "code",
   "execution_count": 57,
   "id": "468e88c9",
   "metadata": {},
   "outputs": [
    {
     "data": {
      "text/plain": [
       "time.struct_time(tm_year=2025, tm_mon=6, tm_mday=13, tm_hour=9, tm_min=52, tm_sec=41, tm_wday=4, tm_yday=164, tm_isdst=0)"
      ]
     },
     "execution_count": 57,
     "metadata": {},
     "output_type": "execute_result"
    }
   ],
   "source": [
    "time.localtime()"
   ]
  },
  {
   "cell_type": "code",
   "execution_count": 58,
   "id": "43e640e7",
   "metadata": {},
   "outputs": [
    {
     "data": {
      "text/plain": [
       "'Fri Jun 13 09:52:41 2025'"
      ]
     },
     "execution_count": 58,
     "metadata": {},
     "output_type": "execute_result"
    }
   ],
   "source": [
    "time.ctime()"
   ]
  },
  {
   "cell_type": "markdown",
   "id": "57181132",
   "metadata": {},
   "source": [
    "#### 랜덤"
   ]
  },
  {
   "cell_type": "code",
   "execution_count": 59,
   "id": "f9179994",
   "metadata": {},
   "outputs": [],
   "source": [
    "import random"
   ]
  },
  {
   "cell_type": "code",
   "execution_count": 60,
   "id": "016f8237",
   "metadata": {},
   "outputs": [
    {
     "data": {
      "text/plain": [
       "0.6337357440052415"
      ]
     },
     "execution_count": 60,
     "metadata": {},
     "output_type": "execute_result"
    }
   ],
   "source": [
    "random.random()     # 1보다 작은 값 / 0.00000 <= R < 1"
   ]
  },
  {
   "cell_type": "code",
   "execution_count": 61,
   "id": "9acf6fe3",
   "metadata": {},
   "outputs": [
    {
     "data": {
      "text/plain": [
       "71"
      ]
     },
     "execution_count": 61,
     "metadata": {},
     "output_type": "execute_result"
    }
   ],
   "source": [
    "random.randint(60,100)"
   ]
  },
  {
   "cell_type": "code",
   "execution_count": 62,
   "id": "1a793393",
   "metadata": {},
   "outputs": [
    {
     "name": "stdout",
     "output_type": "stream",
     "text": [
      "[100, 91, 86, 64, 64, 86, 82, 65, 81, 71]\n"
     ]
    }
   ],
   "source": [
    "list_score = []\n",
    "for s in range(0, 10):\n",
    "    list_score.append(random.randint(60, 100))\n",
    "\n",
    "print(list_score)"
   ]
  },
  {
   "cell_type": "code",
   "execution_count": 63,
   "id": "6e97a043",
   "metadata": {},
   "outputs": [
    {
     "data": {
      "text/plain": [
       "7"
      ]
     },
     "execution_count": 63,
     "metadata": {},
     "output_type": "execute_result"
    }
   ],
   "source": [
    "random.choice([1,2,3,4,5,5,6,7,8])"
   ]
  },
  {
   "cell_type": "code",
   "execution_count": 64,
   "id": "a8ad6935",
   "metadata": {},
   "outputs": [
    {
     "data": {
      "text/plain": [
       "[9, 3, 2, 1, 8]"
      ]
     },
     "execution_count": 64,
     "metadata": {},
     "output_type": "execute_result"
    }
   ],
   "source": [
    "random.sample([1,2,3,4,5,6,7,8,9], 5)"
   ]
  },
  {
   "cell_type": "markdown",
   "id": "3a13c561",
   "metadata": {},
   "source": [
    "#### OS"
   ]
  },
  {
   "cell_type": "code",
   "execution_count": 65,
   "id": "80e6f7e9",
   "metadata": {},
   "outputs": [],
   "source": [
    "import os"
   ]
  },
  {
   "cell_type": "code",
   "execution_count": 66,
   "id": "bfd34470",
   "metadata": {},
   "outputs": [
    {
     "data": {
      "text/plain": [
       "environ{'COMMAND_MODE': 'unix2003',\n",
       "        'CONDA_DEFAULT_ENV': 'base',\n",
       "        'CONDA_EXE': '/opt/anaconda3/bin/conda',\n",
       "        'CONDA_PREFIX': '/opt/anaconda3',\n",
       "        'CONDA_PROMPT_MODIFIER': '(base) ',\n",
       "        'CONDA_PYTHON_EXE': '/opt/anaconda3/bin/python',\n",
       "        'CONDA_SHLVL': '1',\n",
       "        'GSETTINGS_SCHEMA_DIR': '/opt/anaconda3/share/glib-2.0/schemas',\n",
       "        'HOME': '/Users/minjung',\n",
       "        'HOMEBREW_CELLAR': '/opt/homebrew/Cellar',\n",
       "        'HOMEBREW_PREFIX': '/opt/homebrew',\n",
       "        'HOMEBREW_REPOSITORY': '/opt/homebrew',\n",
       "        'INFOPATH': '/opt/homebrew/share/info:',\n",
       "        'LOGNAME': 'minjung',\n",
       "        'MallocNanoZone': '0',\n",
       "        'OLDPWD': '/',\n",
       "        'ORIGINAL_XDG_CURRENT_DESKTOP': 'undefined',\n",
       "        'PATH': '/Users/minjung/sk-ai/py_project/.venv/bin:/opt/anaconda3/bin:/opt/anaconda3/condabin:/Library/Frameworks/Python.framework/Versions/3.13/bin:/opt/homebrew/bin:/opt/homebrew/sbin:/Library/Frameworks/Python.framework/Versions/3.12/bin:/Library/Frameworks/Python.framework/Versions/3.10/bin:/usr/local/bin:/System/Cryptexes/App/usr/bin:/usr/bin:/bin:/usr/sbin:/sbin:/var/run/com.apple.security.cryptexd/codex.system/bootstrap/usr/local/bin:/var/run/com.apple.security.cryptexd/codex.system/bootstrap/usr/bin:/var/run/com.apple.security.cryptexd/codex.system/bootstrap/usr/appleinternal/bin',\n",
       "        'PWD': '/',\n",
       "        'SHELL': '/bin/zsh',\n",
       "        'SHLVL': '1',\n",
       "        'SSH_AUTH_SOCK': '/private/tmp/com.apple.launchd.fTe7fqtmSp/Listeners',\n",
       "        'TMPDIR': '/var/folders/pq/9q4y5g9n38q6vksdkz564k940000gn/T/',\n",
       "        'USER': 'minjung',\n",
       "        'VSCODE_CODE_CACHE_PATH': '/Users/minjung/Library/Application Support/Code/CachedData/dfaf44141ea9deb3b4096f7cd6d24e00c147a4b1',\n",
       "        'VSCODE_CRASH_REPORTER_PROCESS_TYPE': 'extensionHost',\n",
       "        'VSCODE_CWD': '/',\n",
       "        'VSCODE_ESM_ENTRYPOINT': 'vs/workbench/api/node/extensionHostProcess',\n",
       "        'VSCODE_HANDLES_UNCAUGHT_ERRORS': 'true',\n",
       "        'VSCODE_IPC_HOOK': '/Users/minjung/Library/Application Support/Code/1.10-main.sock',\n",
       "        'VSCODE_NLS_CONFIG': '{\"userLocale\":\"ko\",\"osLocale\":\"ko-kr\",\"resolvedLanguage\":\"ko\",\"defaultMessagesFile\":\"/Users/minjung/Downloads/APP/Visual Studio Code.app/Contents/Resources/app/out/nls.messages.json\",\"languagePack\":{\"translationsConfigFile\":\"/Users/minjung/Library/Application Support/Code/clp/deb1230c5aa9c99e914aea95a6da1ff5.ko/tcf.json\",\"messagesFile\":\"/Users/minjung/Library/Application Support/Code/clp/deb1230c5aa9c99e914aea95a6da1ff5.ko/dfaf44141ea9deb3b4096f7cd6d24e00c147a4b1/nls.messages.json\",\"corruptMarkerFile\":\"/Users/minjung/Library/Application Support/Code/clp/deb1230c5aa9c99e914aea95a6da1ff5.ko/corrupted.info\"},\"locale\":\"ko\",\"availableLanguages\":{\"*\":\"ko\"},\"_languagePackId\":\"deb1230c5aa9c99e914aea95a6da1ff5.ko\",\"_languagePackSupport\":true,\"_translationsConfigFile\":\"/Users/minjung/Library/Application Support/Code/clp/deb1230c5aa9c99e914aea95a6da1ff5.ko/tcf.json\",\"_cacheRoot\":\"/Users/minjung/Library/Application Support/Code/clp/deb1230c5aa9c99e914aea95a6da1ff5.ko\",\"_resolvedLanguagePackCoreLocation\":\"/Users/minjung/Library/Application Support/Code/clp/deb1230c5aa9c99e914aea95a6da1ff5.ko/dfaf44141ea9deb3b4096f7cd6d24e00c147a4b1\",\"_corruptedFile\":\"/Users/minjung/Library/Application Support/Code/clp/deb1230c5aa9c99e914aea95a6da1ff5.ko/corrupted.info\"}',\n",
       "        'VSCODE_PID': '52483',\n",
       "        'XPC_FLAGS': '0x0',\n",
       "        'XPC_SERVICE_NAME': '0',\n",
       "        '_': '/Users/minjung/sk-ai/py_project/.venv/bin/python',\n",
       "        '__CFBundleIdentifier': 'com.microsoft.VSCode',\n",
       "        '__CF_USER_TEXT_ENCODING': '0x1F5:0x3:0x33',\n",
       "        'ELECTRON_RUN_AS_NODE': '1',\n",
       "        'VSCODE_L10N_BUNDLE_LOCATION': 'file:///Users/minjung/.vscode/extensions/ms-ceintl.vscode-language-pack-ko-1.101.2025061109/translations/extensions/vscode.json-language-features.i18n.json',\n",
       "        'APPLICATION_INSIGHTS_NO_DIAGNOSTIC_CHANNEL': '1',\n",
       "        'APPLICATIONINSIGHTS_CONFIGURATION_CONTENT': '{}',\n",
       "        'PYTHONUNBUFFERED': '1',\n",
       "        'PYTHONIOENCODING': 'utf-8',\n",
       "        'VIRTUAL_ENV': '/Users/minjung/sk-ai/py_project/.venv',\n",
       "        'PS1': '(.venv) ',\n",
       "        'VIRTUAL_ENV_PROMPT': '.venv',\n",
       "        'LC_CTYPE': 'UTF-8',\n",
       "        'PYDEVD_IPYTHON_COMPATIBLE_DEBUGGING': '1',\n",
       "        'PYTHON_FROZEN_MODULES': 'on',\n",
       "        'PYDEVD_USE_FRAME_EVAL': 'NO',\n",
       "        'TERM': 'xterm-color',\n",
       "        'CLICOLOR': '1',\n",
       "        'FORCE_COLOR': '1',\n",
       "        'CLICOLOR_FORCE': '1',\n",
       "        'PAGER': 'cat',\n",
       "        'GIT_PAGER': 'cat',\n",
       "        'MPLBACKEND': 'module://matplotlib_inline.backend_inline'}"
      ]
     },
     "execution_count": 66,
     "metadata": {},
     "output_type": "execute_result"
    }
   ],
   "source": [
    "os.environ"
   ]
  },
  {
   "cell_type": "code",
   "execution_count": 67,
   "id": "15efea24",
   "metadata": {},
   "outputs": [],
   "source": [
    "os.chdir('/Users/minjung')"
   ]
  },
  {
   "cell_type": "code",
   "execution_count": 68,
   "id": "5a8e793a",
   "metadata": {},
   "outputs": [
    {
     "data": {
      "text/plain": [
       "'/Users/minjung'"
      ]
     },
     "execution_count": 68,
     "metadata": {},
     "output_type": "execute_result"
    }
   ],
   "source": [
    "os.getcwd()"
   ]
  },
  {
   "cell_type": "code",
   "execution_count": 69,
   "id": "260fff3c",
   "metadata": {},
   "outputs": [],
   "source": [
    "os.chdir('/Users/minjung/sk-ai/py_project')"
   ]
  },
  {
   "cell_type": "code",
   "execution_count": 70,
   "id": "14823b1e",
   "metadata": {},
   "outputs": [],
   "source": [
    "# 디렉토리 생성\n",
    "os.mkdir('test')"
   ]
  },
  {
   "cell_type": "code",
   "execution_count": 71,
   "id": "508013ae",
   "metadata": {},
   "outputs": [],
   "source": [
    "# 디렉토리 삭제\n",
    "os.rmdir('test')"
   ]
  },
  {
   "cell_type": "code",
   "execution_count": 72,
   "id": "74de6df7",
   "metadata": {},
   "outputs": [],
   "source": [
    "import json"
   ]
  },
  {
   "cell_type": "code",
   "execution_count": 73,
   "id": "ce67d726",
   "metadata": {},
   "outputs": [],
   "source": [
    "with open('data.json', 'r', encoding='utf8') as f:\n",
    "    data = json.load(f)"
   ]
  },
  {
   "cell_type": "code",
   "execution_count": 74,
   "id": "849038dd",
   "metadata": {},
   "outputs": [
    {
     "name": "stdout",
     "output_type": "stream",
     "text": [
      "{'name': '손흥민', 'age': 30, 'number': 7} <class 'dict'>\n"
     ]
    }
   ],
   "source": [
    "print(data, type(data))"
   ]
  },
  {
   "cell_type": "code",
   "execution_count": 75,
   "id": "be0933f3",
   "metadata": {},
   "outputs": [],
   "source": [
    "json_str_data = json.dumps(data)"
   ]
  },
  {
   "cell_type": "code",
   "execution_count": 76,
   "id": "29a1d484",
   "metadata": {},
   "outputs": [
    {
     "name": "stdout",
     "output_type": "stream",
     "text": [
      "{\"name\": \"\\uc190\\ud765\\ubbfc\", \"age\": 30, \"number\": 7} <class 'str'>\n"
     ]
    }
   ],
   "source": [
    "print(json_str_data, type(json_str_data))"
   ]
  },
  {
   "cell_type": "code",
   "execution_count": 77,
   "id": "5842ec2b",
   "metadata": {},
   "outputs": [],
   "source": [
    "import numpy as np"
   ]
  },
  {
   "cell_type": "code",
   "execution_count": 78,
   "id": "1f42f8e7",
   "metadata": {},
   "outputs": [],
   "source": [
    "arr = np.array([1,2,3,4,5])"
   ]
  },
  {
   "cell_type": "code",
   "execution_count": 79,
   "id": "b4b40cf7",
   "metadata": {},
   "outputs": [
    {
     "name": "stdout",
     "output_type": "stream",
     "text": [
      "[1 2 3 4 5] <class 'numpy.ndarray'>\n"
     ]
    }
   ],
   "source": [
    "print(arr, type(arr))"
   ]
  },
  {
   "cell_type": "code",
   "execution_count": 80,
   "id": "d8c37c22",
   "metadata": {},
   "outputs": [
    {
     "data": {
      "text/plain": [
       "array([11, 12, 13, 14, 15])"
      ]
     },
     "execution_count": 80,
     "metadata": {},
     "output_type": "execute_result"
    }
   ],
   "source": [
    "arr + 10"
   ]
  },
  {
   "cell_type": "code",
   "execution_count": 81,
   "id": "fd936cf6",
   "metadata": {},
   "outputs": [
    {
     "name": "stdout",
     "output_type": "stream",
     "text": [
      "[[0. 0. 0.]]\n"
     ]
    }
   ],
   "source": [
    "# 배열의 생성\n",
    "# 0으로 채워지는 배열 생성\n",
    "zeros = np.zeros((1,3))\n",
    "print(zeros)"
   ]
  },
  {
   "cell_type": "code",
   "execution_count": 82,
   "id": "89588334",
   "metadata": {},
   "outputs": [
    {
     "name": "stdout",
     "output_type": "stream",
     "text": [
      "[[1. 1.]\n",
      " [1. 1.]\n",
      " [1. 1.]]\n"
     ]
    }
   ],
   "source": [
    "# 1로 채우는 배열\n",
    "ones = np.ones((3,2))\n",
    "print(ones)"
   ]
  },
  {
   "cell_type": "code",
   "execution_count": 83,
   "id": "565cba98",
   "metadata": {},
   "outputs": [
    {
     "name": "stdout",
     "output_type": "stream",
     "text": [
      "[0 2 4 6 8]\n"
     ]
    }
   ],
   "source": [
    "# 일련번호 생성되는 배열\n",
    "# 0 ~ 10 사이의 숫자를 2씩 간격으로 생성\n",
    "seq_1 = np.arange(0, 10, 2)\n",
    "print(seq_1)"
   ]
  },
  {
   "cell_type": "code",
   "execution_count": 84,
   "id": "b509b0fd",
   "metadata": {},
   "outputs": [
    {
     "name": "stdout",
     "output_type": "stream",
     "text": [
      "[ 1.  4.  7. 10.]\n"
     ]
    }
   ],
   "source": [
    "# 지정된 범위 안에서 동일한 간격으로 숫자를 생성\n",
    "# 0 ~ 10 5개로 구분\n",
    "linspace = np.linspace(1, 10, 4)\n",
    "print(linspace)"
   ]
  },
  {
   "cell_type": "code",
   "execution_count": 85,
   "id": "2651c7fe",
   "metadata": {},
   "outputs": [],
   "source": [
    "# 배열의 속성 확인\n",
    "arr1 = np.array([[1,2,3],[4,5,6],[7,8,9]])"
   ]
  },
  {
   "cell_type": "code",
   "execution_count": 87,
   "id": "e1d33db9",
   "metadata": {},
   "outputs": [
    {
     "name": "stdout",
     "output_type": "stream",
     "text": [
      "<class 'numpy.ndarray'>\n",
      "(3, 3)\n",
      "2\n",
      "9\n",
      "int64\n"
     ]
    }
   ],
   "source": [
    "print(type(arr1))\n",
    "print(arr1.shape)\n",
    "print(arr1.ndim)\n",
    "print(arr1.size)\n",
    "print(arr1.dtype)"
   ]
  },
  {
   "cell_type": "code",
   "execution_count": null,
   "id": "79f93829",
   "metadata": {},
   "outputs": [],
   "source": []
  }
 ],
 "metadata": {
  "kernelspec": {
   "display_name": ".venv",
   "language": "python",
   "name": "python3"
  },
  "language_info": {
   "codemirror_mode": {
    "name": "ipython",
    "version": 3
   },
   "file_extension": ".py",
   "mimetype": "text/x-python",
   "name": "python",
   "nbconvert_exporter": "python",
   "pygments_lexer": "ipython3",
   "version": "3.13.4"
  }
 },
 "nbformat": 4,
 "nbformat_minor": 5
}
