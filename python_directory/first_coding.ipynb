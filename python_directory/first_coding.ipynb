{
 "cells": [
  {
   "cell_type": "code",
   "execution_count": 1,
   "id": "ed078a99",
   "metadata": {},
   "outputs": [
    {
     "name": "stdout",
     "output_type": "stream",
     "text": [
      "안녕하세요\n",
      "100\n"
     ]
    }
   ],
   "source": [
    "print('안녕하세요')\n",
    "print(100)"
   ]
  },
  {
   "cell_type": "code",
   "execution_count": 2,
   "id": "423f265f",
   "metadata": {},
   "outputs": [],
   "source": [
    "# 변수 => 데이터를 저장(메모리: 플래시메모리)하는 방식\n",
    "# 변수이름(식별자) = 값(데이터: 숫자, 문자열, 논리값(True, False), 객체\n",
    "# 변수에는 데이터를 저장하고 있는 메모리의 주소값을 저장\n",
    "num = 10"
   ]
  },
  {
   "cell_type": "code",
   "execution_count": 3,
   "id": "e93481f5",
   "metadata": {},
   "outputs": [
    {
     "name": "stdout",
     "output_type": "stream",
     "text": [
      "10\n"
     ]
    }
   ],
   "source": [
    "print(num)"
   ]
  },
  {
   "cell_type": "code",
   "execution_count": 4,
   "id": "9d2f5e42",
   "metadata": {},
   "outputs": [
    {
     "data": {
      "text/plain": [
       "4355189464"
      ]
     },
     "execution_count": 4,
     "metadata": {},
     "output_type": "execute_result"
    }
   ],
   "source": [
    "id(num) #주소값반환"
   ]
  },
  {
   "cell_type": "code",
   "execution_count": 5,
   "id": "31725dcb",
   "metadata": {},
   "outputs": [
    {
     "data": {
      "text/plain": [
       "110"
      ]
     },
     "execution_count": 5,
     "metadata": {},
     "output_type": "execute_result"
    }
   ],
   "source": [
    "num+100"
   ]
  },
  {
   "cell_type": "code",
   "execution_count": 6,
   "id": "26c824fc",
   "metadata": {},
   "outputs": [],
   "source": [
    "# 변수 = 데이터\n",
    "# 데이터 => 숫자, 문자, 논리값\n",
    "# 숫자 => 정수, 실수\n",
    "num1 = 10\n",
    "num2 = 3.14"
   ]
  },
  {
   "cell_type": "code",
   "execution_count": 7,
   "id": "e78d3fb2",
   "metadata": {},
   "outputs": [
    {
     "data": {
      "text/plain": [
       "int"
      ]
     },
     "execution_count": 7,
     "metadata": {},
     "output_type": "execute_result"
    }
   ],
   "source": [
    "type(num1)"
   ]
  },
  {
   "cell_type": "code",
   "execution_count": 8,
   "id": "1256fa1d",
   "metadata": {},
   "outputs": [
    {
     "data": {
      "text/plain": [
       "float"
      ]
     },
     "execution_count": 8,
     "metadata": {},
     "output_type": "execute_result"
    }
   ],
   "source": [
    "type(num2)"
   ]
  },
  {
   "cell_type": "code",
   "execution_count": 9,
   "id": "37c3184e",
   "metadata": {},
   "outputs": [
    {
     "name": "stdout",
     "output_type": "stream",
     "text": [
      "<class 'int'>\n",
      "<class 'float'>\n"
     ]
    }
   ],
   "source": [
    "print(type(num1))\n",
    "print(type(num2))"
   ]
  },
  {
   "cell_type": "code",
   "execution_count": 10,
   "id": "dcc8fd0b",
   "metadata": {},
   "outputs": [],
   "source": [
    "num3 = 'hello!'"
   ]
  },
  {
   "cell_type": "code",
   "execution_count": 11,
   "id": "3d93a765",
   "metadata": {},
   "outputs": [
    {
     "name": "stdout",
     "output_type": "stream",
     "text": [
      "hello!\n",
      "<class 'str'>\n"
     ]
    }
   ],
   "source": [
    "print(num3)\n",
    "print(type(num3))"
   ]
  },
  {
   "cell_type": "code",
   "execution_count": 12,
   "id": "8b3a1198",
   "metadata": {},
   "outputs": [],
   "source": [
    "# 논리값: 참/거짓 => True, False (대문자!!)\n",
    "check1 = True\n",
    "check2 = False"
   ]
  },
  {
   "cell_type": "code",
   "execution_count": 13,
   "id": "4a6cd681",
   "metadata": {},
   "outputs": [
    {
     "name": "stdout",
     "output_type": "stream",
     "text": [
      "True\n",
      "False\n",
      "<class 'bool'> <class 'bool'>\n"
     ]
    }
   ],
   "source": [
    "print(check1)\n",
    "print(check2)\n",
    "print(type(check1),type(check2))"
   ]
  },
  {
   "cell_type": "code",
   "execution_count": 14,
   "id": "6b5a8cc9",
   "metadata": {},
   "outputs": [],
   "source": [
    "str_a = 'python'"
   ]
  },
  {
   "cell_type": "code",
   "execution_count": 15,
   "id": "7d02ee30",
   "metadata": {},
   "outputs": [
    {
     "data": {
      "text/plain": [
       "'PYTHON'"
      ]
     },
     "execution_count": 15,
     "metadata": {},
     "output_type": "execute_result"
    }
   ],
   "source": [
    "str_a.upper()\n",
    "# 주소값.메서드"
   ]
  },
  {
   "cell_type": "code",
   "execution_count": 16,
   "id": "162a6f5d",
   "metadata": {},
   "outputs": [],
   "source": [
    "str_a = 100"
   ]
  },
  {
   "cell_type": "code",
   "execution_count": 17,
   "id": "1b14fa95",
   "metadata": {},
   "outputs": [
    {
     "name": "stdout",
     "output_type": "stream",
     "text": [
      "100 <class 'int'>\n"
     ]
    }
   ],
   "source": [
    "print(str_a, type(str_a))"
   ]
  },
  {
   "cell_type": "code",
   "execution_count": 18,
   "id": "a2973c32",
   "metadata": {},
   "outputs": [],
   "source": [
    "# 문자열 생성'\n",
    "# '', \"\", ''' ''', \"\"\" \"\"\"\n",
    "str1 = 'hello!'\n",
    "str2 = \"안녕하세요\"\n",
    "str3 = '''\n",
    "안녕하세요,\n",
    "반갑습니다.\n",
    "'''\n",
    "str4 = \"\"\"\n",
    "select *\n",
    "from emp\n",
    "where empno=10\n",
    "\"\"\""
   ]
  },
  {
   "cell_type": "code",
   "execution_count": 19,
   "id": "fdfe11cd",
   "metadata": {},
   "outputs": [
    {
     "name": "stdout",
     "output_type": "stream",
     "text": [
      "hello! <class 'str'>\n",
      "안녕하세요 <class 'str'>\n",
      "\n",
      "안녕하세요,\n",
      "반갑습니다.\n",
      " <class 'str'>\n",
      "\n",
      "select *\n",
      "from emp\n",
      "where empno=10\n",
      " <class 'str'>\n"
     ]
    }
   ],
   "source": [
    "print(str1, type(str1))\n",
    "print(str2, type(str2))\n",
    "print(str3, type(str3))\n",
    "print(str4, type(str4))"
   ]
  },
  {
   "cell_type": "code",
   "execution_count": 20,
   "id": "fe0ac36c",
   "metadata": {},
   "outputs": [
    {
     "name": "stdout",
     "output_type": "stream",
     "text": [
      "hello python!\n",
      "==========\n"
     ]
    }
   ],
   "source": [
    "# 문자열의 연산 \n",
    "# 사칙연산 X => 더하기(연결)\n",
    "# 곱셈 * => 반복(몇번 반복)\n",
    "print('hello' + ' python!')\n",
    "print('=' *10)"
   ]
  },
  {
   "cell_type": "code",
   "execution_count": 21,
   "id": "6f4a82b2",
   "metadata": {},
   "outputs": [
    {
     "name": "stdout",
     "output_type": "stream",
     "text": [
      "6\n",
      "5\n",
      "15\n",
      "34\n"
     ]
    }
   ],
   "source": [
    "# 함수(기능): 데이터를 전달하면 -> 처리(연산) -> 값을 반환\n",
    "# 문자열의 길이(문자들의 개수) 반환 함수: len(변수: 시퀀스형식의 데이터)\n",
    "print(len(str1))\n",
    "print(len(str2))\n",
    "print(len(str3))\n",
    "print(len(str4))"
   ]
  },
  {
   "cell_type": "code",
   "execution_count": 22,
   "id": "f5d98568",
   "metadata": {},
   "outputs": [],
   "source": [
    "# 문자열: 시퀀스 데이터 순서 O\n",
    "# 시퀀스 데이터의 데이터들의 구분 => index 값\n",
    "# hello => ['h', 'e', 'l', 'l', 'o']\n",
    "# index => 0부터 시작 0 1 2 3 4  => 0 ~ N-1 => 0 ~ 4\n",
    "str5 = 'hello~ python!!'\n",
    "#       0123456789..."
   ]
  },
  {
   "cell_type": "code",
   "execution_count": 23,
   "id": "195fbbc2",
   "metadata": {},
   "outputs": [
    {
     "data": {
      "text/plain": [
       "'h'"
      ]
     },
     "execution_count": 23,
     "metadata": {},
     "output_type": "execute_result"
    }
   ],
   "source": [
    "str5[0] # index 값 실행, 특정 위치 값 가져오기"
   ]
  },
  {
   "cell_type": "code",
   "execution_count": 24,
   "id": "6447a201",
   "metadata": {},
   "outputs": [
    {
     "data": {
      "text/plain": [
       "'hello'"
      ]
     },
     "execution_count": 24,
     "metadata": {},
     "output_type": "execute_result"
    }
   ],
   "source": [
    "# 문자열(시퀀스)의 슬라이싱\n",
    "# s[시작 index : 종료 index] => 종료 index 값을 만나면 끝.\n",
    "# str5[0 : 5] 5를 만나면 탈출함 4까지만 출력한다는 의미\n",
    "str5[0:5]"
   ]
  },
  {
   "cell_type": "code",
   "execution_count": 25,
   "id": "fc7d73d9",
   "metadata": {},
   "outputs": [
    {
     "name": "stdout",
     "output_type": "stream",
     "text": [
      "안녕하세요, 저는 손흥민입니다. 나이는 30 입니다.\n"
     ]
    }
   ],
   "source": [
    "# 문자열 포맷팅\n",
    "# 3.6 버전 이후 f'', 접두사 f 붙이고 포맷팅\n",
    "user_name = '손흥민'\n",
    "user_age = 30\n",
    "print(f'안녕하세요, 저는 {user_name}입니다. 나이는 {user_age} 입니다.')"
   ]
  },
  {
   "cell_type": "code",
   "execution_count": 26,
   "id": "fcf3eb89",
   "metadata": {},
   "outputs": [
    {
     "name": "stdout",
     "output_type": "stream",
     "text": [
      "내년에는 나이가 31살이 됩니다.\n"
     ]
    }
   ],
   "source": [
    "print(f'내년에는 나이가 {user_age+1}살이 됩니다.')"
   ]
  },
  {
   "cell_type": "code",
   "execution_count": 27,
   "id": "9102c508",
   "metadata": {},
   "outputs": [],
   "source": [
    "# 복합 대입 연산\n",
    "num = 1"
   ]
  },
  {
   "cell_type": "code",
   "execution_count": 28,
   "id": "90ef8d15",
   "metadata": {},
   "outputs": [],
   "source": [
    "num = num + 1 # +가 1번, =이 2번 대입연산이 무조건 마지막 처리임 !!!"
   ]
  },
  {
   "cell_type": "code",
   "execution_count": 29,
   "id": "c66dce38",
   "metadata": {},
   "outputs": [
    {
     "name": "stdout",
     "output_type": "stream",
     "text": [
      "2\n"
     ]
    }
   ],
   "source": [
    "print(num)"
   ]
  },
  {
   "cell_type": "code",
   "execution_count": 30,
   "id": "f5d4ea05",
   "metadata": {},
   "outputs": [],
   "source": [
    "num += 1 # num = num + 1과 같음"
   ]
  },
  {
   "cell_type": "code",
   "execution_count": 31,
   "id": "91df25d1",
   "metadata": {},
   "outputs": [
    {
     "name": "stdout",
     "output_type": "stream",
     "text": [
      "3\n"
     ]
    }
   ],
   "source": [
    "print(num)"
   ]
  },
  {
   "cell_type": "markdown",
   "id": "84e6cb6f",
   "metadata": {},
   "source": [
    "#### 연습문제 1\n",
    "과목별 점수, 총점, 평균 점수\n",
    "\n",
    "과목: 국어, 영어, 수학"
   ]
  },
  {
   "cell_type": "code",
   "execution_count": 32,
   "id": "99bda4ee",
   "metadata": {},
   "outputs": [],
   "source": [
    "# 1. 변수 선언, 초기화\n",
    "kor_score = 100     # 국어점수\n",
    "eng_score = 70      # 영어점수\n",
    "math_score = 80     # 수학점수"
   ]
  },
  {
   "cell_type": "code",
   "execution_count": 33,
   "id": "a07c4bd3",
   "metadata": {},
   "outputs": [],
   "source": [
    "# 2. 연산: 총점, 평균\n",
    "sum_score = kor_score + eng_score + math_score\n",
    "avg_score = sum_score / 3"
   ]
  },
  {
   "cell_type": "code",
   "execution_count": 34,
   "id": "38dcea71",
   "metadata": {},
   "outputs": [
    {
     "name": "stdout",
     "output_type": "stream",
     "text": [
      "국어점수: 100, 영어점수: 70, 수학점수: 80\n",
      "총점: 250\n",
      "평균: 83.33333333333333\n"
     ]
    }
   ],
   "source": [
    "# 3. 결과 출력\n",
    "print(f'국어점수: {kor_score}, 영어점수: {eng_score}, 수학점수: {math_score}\\n총점: {sum_score}\\n평균: {avg_score}')"
   ]
  },
  {
   "cell_type": "markdown",
   "id": "d0ec71b6",
   "metadata": {},
   "source": [
    "#### 연습문제 2\n",
    "성별 체크, 나이 체크\n",
    "\n",
    "성별이 남성이고(and), 성인 판별 (18세 이상)"
   ]
  },
  {
   "cell_type": "code",
   "execution_count": 35,
   "id": "7c5eaf4f",
   "metadata": {},
   "outputs": [
    {
     "name": "stdout",
     "output_type": "stream",
     "text": [
      "남성이 아니거나 18세 이하 입니다.\n"
     ]
    }
   ],
   "source": [
    "# 성별이 남자이고 18세 이상의 성인 여부를 판단하는 조건식\n",
    "# 1. 변수\n",
    "gender = 'M'    # 성별: 'M' | 'F'\n",
    "age = 15\n",
    "\n",
    "# if 조건문\n",
    "if gender == 'M' and age >= 18:\n",
    "    print('남성이고 18세 이상의 성인입니다.')\n",
    "else:\n",
    "    print('남성이 아니거나 18세 이하 입니다.')\n",
    "\n"
   ]
  },
  {
   "cell_type": "code",
   "execution_count": 36,
   "id": "df19f1b0",
   "metadata": {},
   "outputs": [
    {
     "name": "stdout",
     "output_type": "stream",
     "text": [
      "성인 남성 체크: False\n"
     ]
    }
   ],
   "source": [
    "# 2. 남성 그리고 성인\n",
    "check = gender == 'M' and age >= 18\n",
    "print('성인 남성 체크:', check)"
   ]
  },
  {
   "cell_type": "markdown",
   "id": "c062c66d",
   "metadata": {},
   "source": [
    "### 리스트 2025.06.10"
   ]
  },
  {
   "cell_type": "code",
   "execution_count": 37,
   "id": "0b0dbb37",
   "metadata": {},
   "outputs": [],
   "source": [
    "# 리스트: [] => 순서를 가지는 데이터 묶음\n",
    "# index 값으로 요소들을 참조 => 0 ~ N(요소의 개수)-1\n",
    "list_a = [1,2,3]\n",
    "# index   0,1,2\n",
    "# 요소의 개수: 3"
   ]
  },
  {
   "cell_type": "code",
   "execution_count": 38,
   "id": "717f190d",
   "metadata": {},
   "outputs": [
    {
     "name": "stdout",
     "output_type": "stream",
     "text": [
      "[1, 2, 3] <class 'list'>\n"
     ]
    }
   ],
   "source": [
    "print(list_a, type(list_a))"
   ]
  },
  {
   "cell_type": "code",
   "execution_count": 39,
   "id": "1b99ece2",
   "metadata": {},
   "outputs": [],
   "source": [
    "# bool(), int(), float(), str(), list()"
   ]
  },
  {
   "cell_type": "code",
   "execution_count": 40,
   "id": "400620ac",
   "metadata": {},
   "outputs": [
    {
     "data": {
      "text/plain": [
       "3"
      ]
     },
     "execution_count": 40,
     "metadata": {},
     "output_type": "execute_result"
    }
   ],
   "source": [
    "# 요소의 참조\n",
    "list_a[2]"
   ]
  },
  {
   "cell_type": "code",
   "execution_count": 41,
   "id": "8d984a7e",
   "metadata": {},
   "outputs": [],
   "source": [
    "# 리스트 값 변경\n",
    "list_a[2] = 4"
   ]
  },
  {
   "cell_type": "code",
   "execution_count": 42,
   "id": "83c83337",
   "metadata": {},
   "outputs": [
    {
     "data": {
      "text/plain": [
       "[1, 2, 4]"
      ]
     },
     "execution_count": 42,
     "metadata": {},
     "output_type": "execute_result"
    }
   ],
   "source": [
    "list_a"
   ]
  },
  {
   "cell_type": "code",
   "execution_count": 43,
   "id": "eb1c2298",
   "metadata": {},
   "outputs": [
    {
     "data": {
      "text/plain": [
       "3"
      ]
     },
     "execution_count": 43,
     "metadata": {},
     "output_type": "execute_result"
    }
   ],
   "source": [
    "list_a[0] + list_a[1]"
   ]
  },
  {
   "cell_type": "code",
   "execution_count": 44,
   "id": "40c8e0a5",
   "metadata": {},
   "outputs": [
    {
     "data": {
      "text/plain": [
       "4"
      ]
     },
     "execution_count": 44,
     "metadata": {},
     "output_type": "execute_result"
    }
   ],
   "source": [
    "list_a[-1] # 문자열 마지막부터"
   ]
  },
  {
   "cell_type": "code",
   "execution_count": 45,
   "id": "bdd90e9d",
   "metadata": {},
   "outputs": [
    {
     "data": {
      "text/plain": [
       "2"
      ]
     },
     "execution_count": 45,
     "metadata": {},
     "output_type": "execute_result"
    }
   ],
   "source": [
    "len(list_a)-1 # N-1"
   ]
  },
  {
   "cell_type": "code",
   "execution_count": 46,
   "id": "e557ee2a",
   "metadata": {},
   "outputs": [
    {
     "data": {
      "text/plain": [
       "4"
      ]
     },
     "execution_count": 46,
     "metadata": {},
     "output_type": "execute_result"
    }
   ],
   "source": [
    "list_a[len(list_a)-1] # 마지막 인덱스를 찾아주는 수식"
   ]
  },
  {
   "cell_type": "code",
   "execution_count": 47,
   "id": "a1cd6a3f",
   "metadata": {},
   "outputs": [],
   "source": [
    "list_b = [1, 2, 3, ['a', 'b', 'c']]\n",
    "#         0  1  2         3\n",
    "#       int int int    list"
   ]
  },
  {
   "cell_type": "code",
   "execution_count": 48,
   "id": "47341bf1",
   "metadata": {},
   "outputs": [
    {
     "data": {
      "text/plain": [
       "4"
      ]
     },
     "execution_count": 48,
     "metadata": {},
     "output_type": "execute_result"
    }
   ],
   "source": [
    "len(list_b)"
   ]
  },
  {
   "cell_type": "code",
   "execution_count": 49,
   "id": "911c6b5a",
   "metadata": {},
   "outputs": [
    {
     "name": "stdout",
     "output_type": "stream",
     "text": [
      "1\n",
      "2\n",
      "3\n",
      "['a', 'b', 'c']\n",
      "a\n",
      "b\n",
      "c\n"
     ]
    }
   ],
   "source": [
    "print(list_b[0])\n",
    "print(list_b[1])\n",
    "print(list_b[2])\n",
    "print(list_b[3])  # list\n",
    "print(list_b[3][0]) # list 안에 list => list의 중첩\n",
    "print(list_b[3][1])\n",
    "print(list_b[3][2])\n",
    "#   list를 가지는 주소값[index]"
   ]
  },
  {
   "cell_type": "code",
   "execution_count": 50,
   "id": "c4d99a8f",
   "metadata": {},
   "outputs": [],
   "source": [
    "# 슬라이싱\n",
    "list_c = [1, 2, 3, 4, 5]"
   ]
  },
  {
   "cell_type": "code",
   "execution_count": 51,
   "id": "cf9abeac",
   "metadata": {},
   "outputs": [
    {
     "name": "stdout",
     "output_type": "stream",
     "text": [
      "[1, 2, 3, 4]\n",
      "[1, 2, 3, 4, 5]\n",
      "[1, 2, 3, 4, 5]\n"
     ]
    }
   ],
   "source": [
    "print(list_c[0:4])\n",
    "print(list_c[:])\n",
    "print(list_c)"
   ]
  },
  {
   "cell_type": "code",
   "execution_count": 52,
   "id": "37e2cb8f",
   "metadata": {},
   "outputs": [],
   "source": [
    "# list의 연산: +, *\n",
    "list_d = [100, 200, 300]"
   ]
  },
  {
   "cell_type": "code",
   "execution_count": 53,
   "id": "7cf0f45e",
   "metadata": {},
   "outputs": [
    {
     "name": "stdout",
     "output_type": "stream",
     "text": [
      "[1, 2, 3, 4, 5, 100, 200, 300]\n",
      "[100, 200, 300, 1, 2, 3, 4, 5]\n"
     ]
    }
   ],
   "source": [
    "list_c\n",
    "list_d\n",
    "print(list_c + list_d)\n",
    "print(list_d + list_c)"
   ]
  },
  {
   "cell_type": "code",
   "execution_count": 54,
   "id": "13bfd344",
   "metadata": {},
   "outputs": [
    {
     "name": "stdout",
     "output_type": "stream",
     "text": [
      "[100, 200, 300, 100, 200, 300, 100, 200, 300]\n",
      "[1, 2, 3, 4, 5, 1, 2, 3, 4, 5]\n"
     ]
    }
   ],
   "source": [
    "# *: 리스트의 요소를 n번 반복\n",
    "print(list_d * 3)\n",
    "print(list_c * 2)"
   ]
  },
  {
   "cell_type": "code",
   "execution_count": 55,
   "id": "b412f9fb",
   "metadata": {},
   "outputs": [],
   "source": [
    "# 리스트에 요소(데이터) 추가: 순서 => 마지막 인덱스 다음 데이터 추가\n",
    "# append(): 메서드 => 리스트의 마지막에 데이터 추가\n",
    "list_a = [1, 2, 3, 7, 4, 8]"
   ]
  },
  {
   "cell_type": "code",
   "execution_count": 56,
   "id": "219e35a3",
   "metadata": {},
   "outputs": [],
   "source": [
    "list_a.append(500)\n",
    "# 객체(list) ()안에 요소를 맨 뒤에 추가함"
   ]
  },
  {
   "cell_type": "code",
   "execution_count": 57,
   "id": "25178aab",
   "metadata": {},
   "outputs": [
    {
     "data": {
      "text/plain": [
       "1"
      ]
     },
     "execution_count": 57,
     "metadata": {},
     "output_type": "execute_result"
    }
   ],
   "source": [
    "# pop: 마지막 요소 축출 -> 삭제, 값을 반환\n",
    "# 기본값은 -1\n",
    "list_a.pop(0)"
   ]
  },
  {
   "cell_type": "code",
   "execution_count": 58,
   "id": "f838eef8",
   "metadata": {},
   "outputs": [
    {
     "data": {
      "text/plain": [
       "[2, 3, 7, 4, 8, 500]"
      ]
     },
     "execution_count": 58,
     "metadata": {},
     "output_type": "execute_result"
    }
   ],
   "source": [
    "list_a"
   ]
  },
  {
   "cell_type": "code",
   "execution_count": 59,
   "id": "b1414997",
   "metadata": {},
   "outputs": [
    {
     "data": {
      "text/plain": [
       "[1, 2, 3, 4, 7, 8]"
      ]
     },
     "execution_count": 59,
     "metadata": {},
     "output_type": "execute_result"
    }
   ],
   "source": [
    "# 정렬\n",
    "list_a = [1, 2, 3, 7, 4, 8]\n",
    "list_a.sort()\n",
    "list_a"
   ]
  },
  {
   "cell_type": "code",
   "execution_count": 60,
   "id": "503da8a3",
   "metadata": {},
   "outputs": [
    {
     "data": {
      "text/plain": [
       "[8, 7, 4, 3, 2, 1]"
      ]
     },
     "execution_count": 60,
     "metadata": {},
     "output_type": "execute_result"
    }
   ],
   "source": [
    "# 반대 정렬\n",
    "list_a.reverse()\n",
    "list_a"
   ]
  },
  {
   "cell_type": "code",
   "execution_count": 61,
   "id": "a3797cca",
   "metadata": {},
   "outputs": [
    {
     "data": {
      "text/plain": [
       "4"
      ]
     },
     "execution_count": 61,
     "metadata": {},
     "output_type": "execute_result"
    }
   ],
   "source": [
    "# index(): 특정 데이터 위치 찾아줌\n",
    "list_a.index(2) # 2라는 숫자가 4안댁스에 위치함"
   ]
  },
  {
   "cell_type": "code",
   "execution_count": 62,
   "id": "3243bd19",
   "metadata": {},
   "outputs": [],
   "source": [
    "# extend(): 확장하는 것, '+' 와의 차이 = > extend는 원본 데이터도 변경\n",
    "# 원본 데이터는 유지하고 싶으면 '+' 활용\n",
    "list_a.extend(list_d)"
   ]
  },
  {
   "cell_type": "code",
   "execution_count": 63,
   "id": "395a8687",
   "metadata": {},
   "outputs": [
    {
     "data": {
      "text/plain": [
       "[8, 7, 4, 3, 2, 1, 100, 200, 300]"
      ]
     },
     "execution_count": 63,
     "metadata": {},
     "output_type": "execute_result"
    }
   ],
   "source": [
    "list_a"
   ]
  },
  {
   "cell_type": "code",
   "execution_count": 64,
   "id": "5bedd202",
   "metadata": {},
   "outputs": [
    {
     "name": "stdout",
     "output_type": "stream",
     "text": [
      "<class 'tuple'>\n"
     ]
    }
   ],
   "source": [
    "# tuple: list와 동일\n",
    "# 단 요소(데이터) 변경은 불가능 -> 데이터 안전하게 유지\n",
    "t_1 = ()\n",
    "print(type(t_1))"
   ]
  },
  {
   "cell_type": "code",
   "execution_count": 65,
   "id": "7d3910cf",
   "metadata": {},
   "outputs": [],
   "source": [
    "t_2 = (1, 2, 3, 4)\n",
    "t_3 = 10, 20, 30, 40\n",
    "# 괄호 생략 가능 !"
   ]
  },
  {
   "cell_type": "code",
   "execution_count": 66,
   "id": "70f93e43",
   "metadata": {},
   "outputs": [
    {
     "data": {
      "text/plain": [
       "tuple"
      ]
     },
     "execution_count": 66,
     "metadata": {},
     "output_type": "execute_result"
    }
   ],
   "source": [
    "type(t_3)"
   ]
  },
  {
   "cell_type": "code",
   "execution_count": 67,
   "id": "bba03d3a",
   "metadata": {},
   "outputs": [
    {
     "data": {
      "text/plain": [
       "1"
      ]
     },
     "execution_count": 67,
     "metadata": {},
     "output_type": "execute_result"
    }
   ],
   "source": [
    "t_2[0]"
   ]
  },
  {
   "cell_type": "code",
   "execution_count": 68,
   "id": "d0aadd73",
   "metadata": {},
   "outputs": [
    {
     "ename": "TypeError",
     "evalue": "'tuple' object does not support item assignment",
     "output_type": "error",
     "traceback": [
      "\u001b[31m---------------------------------------------------------------------------\u001b[39m",
      "\u001b[31mTypeError\u001b[39m                                 Traceback (most recent call last)",
      "\u001b[36mCell\u001b[39m\u001b[36m \u001b[39m\u001b[32mIn[68]\u001b[39m\u001b[32m, line 1\u001b[39m\n\u001b[32m----> \u001b[39m\u001b[32m1\u001b[39m \u001b[43mt_2\u001b[49m\u001b[43m[\u001b[49m\u001b[32;43m0\u001b[39;49m\u001b[43m]\u001b[49m = \u001b[32m100\u001b[39m\n\u001b[32m      2\u001b[39m \u001b[38;5;66;03m# 에러 발생 <튜플은 할당되지 않음(변경)>\u001b[39;00m\n",
      "\u001b[31mTypeError\u001b[39m: 'tuple' object does not support item assignment"
     ]
    }
   ],
   "source": [
    "t_2[0] = 100\n",
    "# 에러 발생 <튜플은 할당되지 않음(변경)>"
   ]
  },
  {
   "cell_type": "code",
   "execution_count": null,
   "id": "dc221815",
   "metadata": {},
   "outputs": [
    {
     "data": {
      "text/plain": [
       "(20, 30)"
      ]
     },
     "execution_count": 268,
     "metadata": {},
     "output_type": "execute_result"
    }
   ],
   "source": [
    "# 튜플 슬라이싱\n",
    "t_3[1:3]"
   ]
  },
  {
   "cell_type": "code",
   "execution_count": null,
   "id": "dd2d6f3f",
   "metadata": {},
   "outputs": [],
   "source": [
    "a, b, c = 1000, 2000, 3000 # 특정함수에서 반환 데이터 tuple 타입"
   ]
  },
  {
   "cell_type": "code",
   "execution_count": null,
   "id": "633474b9",
   "metadata": {},
   "outputs": [
    {
     "name": "stdout",
     "output_type": "stream",
     "text": [
      "1000 2000 3000\n"
     ]
    }
   ],
   "source": [
    "print(a, b, c)"
   ]
  },
  {
   "cell_type": "code",
   "execution_count": null,
   "id": "27ae859c",
   "metadata": {},
   "outputs": [
    {
     "name": "stdout",
     "output_type": "stream",
     "text": [
      "<class 'dict'>\n"
     ]
    },
    {
     "data": {
      "text/plain": [
       "{}"
      ]
     },
     "execution_count": 275,
     "metadata": {},
     "output_type": "execute_result"
    }
   ],
   "source": [
    "# 딕셔너리: key : value => key 값으로 데이터를 참조\n",
    "# {key1 : value1, key2 : value2, ...}\n",
    "\n",
    "dict_1 = {}\n",
    "print(type(dict_1))\n",
    "dict_1"
   ]
  },
  {
   "cell_type": "code",
   "execution_count": null,
   "id": "27648e0b",
   "metadata": {},
   "outputs": [
    {
     "name": "stdout",
     "output_type": "stream",
     "text": [
      "{1: 'a'}\n",
      "<class 'dict'>\n"
     ]
    }
   ],
   "source": [
    "dict_2 = {1: 'a'}\n",
    "print(dict_2)\n",
    "print(type(dict_2))"
   ]
  },
  {
   "cell_type": "code",
   "execution_count": null,
   "id": "a9623ede",
   "metadata": {},
   "outputs": [
    {
     "data": {
      "text/plain": [
       "{1: 'a', 2: 'b'}"
      ]
     },
     "execution_count": 280,
     "metadata": {},
     "output_type": "execute_result"
    }
   ],
   "source": [
    "# 요소 값 추가 => key 정의, 값 정의\n",
    "dict_2[2] = 'b'\n",
    "dict_2"
   ]
  },
  {
   "cell_type": "code",
   "execution_count": null,
   "id": "f1560534",
   "metadata": {},
   "outputs": [
    {
     "data": {
      "text/plain": [
       "{1: 'a', 2: 'b', 3: (1, 2, 3)}"
      ]
     },
     "execution_count": 290,
     "metadata": {},
     "output_type": "execute_result"
    }
   ],
   "source": [
    "dict_2[3] = (1, 2, 3)\n",
    "dict_2"
   ]
  },
  {
   "cell_type": "code",
   "execution_count": null,
   "id": "9ab3b056",
   "metadata": {},
   "outputs": [
    {
     "data": {
      "text/plain": [
       "{1: 'a', 2: 'b'}"
      ]
     },
     "execution_count": 291,
     "metadata": {},
     "output_type": "execute_result"
    }
   ],
   "source": [
    "# 값 삭제\n",
    "del dict_2[3]\n",
    "dict_2"
   ]
  },
  {
   "cell_type": "code",
   "execution_count": null,
   "id": "533eb8a6",
   "metadata": {},
   "outputs": [],
   "source": [
    "# 학생: 학번, 이름, 학년, 학과 => 데이터의 구조화\n",
    "\n",
    "student_1 = {\n",
    "    's_no' : 1111,\n",
    "    's_name' : 'KING',\n",
    "    'grade' : 4,\n",
    "    'major' : 'COM'\n",
    "}"
   ]
  },
  {
   "cell_type": "code",
   "execution_count": null,
   "id": "a4725855",
   "metadata": {},
   "outputs": [
    {
     "data": {
      "text/plain": [
       "'KING'"
      ]
     },
     "execution_count": 302,
     "metadata": {},
     "output_type": "execute_result"
    }
   ],
   "source": [
    "student_1['s_name']"
   ]
  },
  {
   "cell_type": "code",
   "execution_count": null,
   "id": "b4fe93eb",
   "metadata": {},
   "outputs": [],
   "source": [
    "player = {\n",
    "    'team' : 'TOT',\n",
    "    'name' : 'SON',\n",
    "    'number' : 7\n",
    "}"
   ]
  },
  {
   "cell_type": "code",
   "execution_count": null,
   "id": "042276b7",
   "metadata": {},
   "outputs": [
    {
     "data": {
      "text/plain": [
       "dict_keys(['team', 'name', 'number'])"
      ]
     },
     "execution_count": 308,
     "metadata": {},
     "output_type": "execute_result"
    }
   ],
   "source": [
    "# key 형식 반환\n",
    "player.keys()"
   ]
  },
  {
   "cell_type": "code",
   "execution_count": null,
   "id": "b51e59e6",
   "metadata": {},
   "outputs": [
    {
     "data": {
      "text/plain": [
       "['team', 'name', 'number']"
      ]
     },
     "execution_count": 309,
     "metadata": {},
     "output_type": "execute_result"
    }
   ],
   "source": [
    "list(player.keys())"
   ]
  },
  {
   "cell_type": "code",
   "execution_count": null,
   "id": "4d45b757",
   "metadata": {},
   "outputs": [
    {
     "data": {
      "text/plain": [
       "dict_values(['TOT', 'SON', 7])"
      ]
     },
     "execution_count": 311,
     "metadata": {},
     "output_type": "execute_result"
    }
   ],
   "source": [
    "# value 값 반환\n",
    "player.values()"
   ]
  },
  {
   "cell_type": "code",
   "execution_count": null,
   "id": "4f50063a",
   "metadata": {},
   "outputs": [
    {
     "data": {
      "text/plain": [
       "['TOT', 'SON', 7]"
      ]
     },
     "execution_count": 312,
     "metadata": {},
     "output_type": "execute_result"
    }
   ],
   "source": [
    "list(player.values())"
   ]
  },
  {
   "cell_type": "code",
   "execution_count": null,
   "id": "234d6d6d",
   "metadata": {},
   "outputs": [
    {
     "name": "stdout",
     "output_type": "stream",
     "text": [
      "True\n",
      "False\n"
     ]
    }
   ],
   "source": [
    "# player 안에 'name' key 존재 여부\"\n",
    "print('name' in player)\n",
    "print('names' in player)"
   ]
  },
  {
   "cell_type": "code",
   "execution_count": null,
   "id": "855ca659",
   "metadata": {},
   "outputs": [
    {
     "data": {
      "text/plain": [
       "dict_items([('team', 'TOT'), ('name', 'SON'), ('number', 7)])"
      ]
     },
     "execution_count": 316,
     "metadata": {},
     "output_type": "execute_result"
    }
   ],
   "source": [
    "# 각 각의 요소가 튜플형식으로 반환\n",
    "player.items()"
   ]
  },
  {
   "cell_type": "code",
   "execution_count": null,
   "id": "e11daeae",
   "metadata": {},
   "outputs": [],
   "source": [
    "list_temp = list(player.items())"
   ]
  },
  {
   "cell_type": "code",
   "execution_count": null,
   "id": "726b657a",
   "metadata": {},
   "outputs": [
    {
     "data": {
      "text/plain": [
       "[('team', 'TOT'), ('name', 'SON'), ('number', 7)]"
      ]
     },
     "execution_count": 318,
     "metadata": {},
     "output_type": "execute_result"
    }
   ],
   "source": [
    "list_temp"
   ]
  },
  {
   "cell_type": "code",
   "execution_count": null,
   "id": "5eb85ed8",
   "metadata": {},
   "outputs": [
    {
     "data": {
      "text/plain": [
       "7"
      ]
     },
     "execution_count": 319,
     "metadata": {},
     "output_type": "execute_result"
    }
   ],
   "source": [
    "player['number']"
   ]
  },
  {
   "cell_type": "code",
   "execution_count": null,
   "id": "2adb2f46",
   "metadata": {},
   "outputs": [
    {
     "data": {
      "text/plain": [
       "'SON'"
      ]
     },
     "execution_count": 321,
     "metadata": {},
     "output_type": "execute_result"
    }
   ],
   "source": [
    "player.get('name')"
   ]
  },
  {
   "cell_type": "code",
   "execution_count": null,
   "id": "7e6f19ee",
   "metadata": {},
   "outputs": [],
   "source": [
    "player.get('pos')\n",
    "# 값이 없다면 반환하지 않음"
   ]
  },
  {
   "cell_type": "code",
   "execution_count": null,
   "id": "b3f03988",
   "metadata": {},
   "outputs": [
    {
     "name": "stdout",
     "output_type": "stream",
     "text": [
      "None\n"
     ]
    }
   ],
   "source": [
    "pos = player.get('pos')\n",
    "print(pos)"
   ]
  },
  {
   "cell_type": "code",
   "execution_count": null,
   "id": "1c30dac3",
   "metadata": {},
   "outputs": [],
   "source": [
    "pos1 = player.get('pos', 'no pos')"
   ]
  },
  {
   "cell_type": "code",
   "execution_count": null,
   "id": "925acbb0",
   "metadata": {},
   "outputs": [
    {
     "name": "stdout",
     "output_type": "stream",
     "text": [
      "no pos\n"
     ]
    }
   ],
   "source": [
    "print(pos1)"
   ]
  },
  {
   "cell_type": "code",
   "execution_count": null,
   "id": "48e7da6f",
   "metadata": {},
   "outputs": [
    {
     "data": {
      "text/plain": [
       "{1, 2, 3, 4, 5}"
      ]
     },
     "execution_count": 329,
     "metadata": {},
     "output_type": "execute_result"
    }
   ],
   "source": [
    "# set: 집합 => 중복x, 순서x, 집합 연산 사용\n",
    "\n",
    "s_1 = set([1, 2, 3, 4, 1, 2, 5])\n",
    "s_1"
   ]
  },
  {
   "cell_type": "code",
   "execution_count": null,
   "id": "94869cdb",
   "metadata": {},
   "outputs": [
    {
     "data": {
      "text/plain": [
       "{'e', 'h', 'l', 'o'}"
      ]
     },
     "execution_count": 330,
     "metadata": {},
     "output_type": "execute_result"
    }
   ],
   "source": [
    "set_2 = set('hello')\n",
    "set_2"
   ]
  },
  {
   "cell_type": "code",
   "execution_count": null,
   "id": "9e7cf123",
   "metadata": {},
   "outputs": [
    {
     "data": {
      "text/plain": [
       "[1, 2, 3, 4, 5]"
      ]
     },
     "execution_count": 332,
     "metadata": {},
     "output_type": "execute_result"
    }
   ],
   "source": [
    "# 중복되는거 제외하고 리스트로 반환\n",
    "list_1 = list(s_1)\n",
    "list_1"
   ]
  },
  {
   "cell_type": "code",
   "execution_count": null,
   "id": "658e0605",
   "metadata": {},
   "outputs": [],
   "source": [
    "set_2 = set([1,2,3,4,5,6])\n",
    "set_3 = set([4,5,6,7,8,9])"
   ]
  },
  {
   "cell_type": "code",
   "execution_count": null,
   "id": "98de376a",
   "metadata": {},
   "outputs": [
    {
     "name": "stdout",
     "output_type": "stream",
     "text": [
      "{4, 5, 6}\n",
      "{1, 2, 3, 4, 5, 6, 7, 8, 9}\n",
      "{1, 2, 3}\n",
      "{8, 9, 7}\n"
     ]
    }
   ],
   "source": [
    "print(set_2 & set_3)\n",
    "print(set_2 | set_3)\n",
    "print(set_2 - set_3)\n",
    "print(set_3 - set_2)"
   ]
  },
  {
   "cell_type": "code",
   "execution_count": null,
   "id": "05f594b9",
   "metadata": {},
   "outputs": [
    {
     "data": {
      "text/plain": [
       "{1, 2, 3, 4, 5, 6}"
      ]
     },
     "execution_count": 339,
     "metadata": {},
     "output_type": "execute_result"
    }
   ],
   "source": [
    "# set 에서 데이터 추가(중복 데이터 입력 X) 삭제\n",
    "set_2.add(3)\n",
    "set_2   # 3을 이미 가지고 있었기 때문에 입력되지 않음"
   ]
  },
  {
   "cell_type": "code",
   "execution_count": null,
   "id": "49e634a1",
   "metadata": {},
   "outputs": [],
   "source": [
    "set_2.remove(6)"
   ]
  },
  {
   "cell_type": "code",
   "execution_count": null,
   "id": "b8799796",
   "metadata": {},
   "outputs": [
    {
     "data": {
      "text/plain": [
       "{1, 2, 3, 4, 5, 7, 8}"
      ]
     },
     "execution_count": 342,
     "metadata": {},
     "output_type": "execute_result"
    }
   ],
   "source": [
    "set_2.update([1,1,3,4,7,8])\n",
    "set_2"
   ]
  },
  {
   "cell_type": "code",
   "execution_count": null,
   "id": "8baaeaa5",
   "metadata": {},
   "outputs": [
    {
     "name": "stdout",
     "output_type": "stream",
     "text": [
      "환영합니다~~!\n",
      "게임을 시작하세요!\n"
     ]
    }
   ],
   "source": [
    "# if: 분기 => ~라면, 아니라면\n",
    "# 성인이라면, 성인이 아니라면\n",
    "\n",
    "age = 15\n",
    "\n",
    "# 성인이라면 -> 환영 메시지, 미성년 -> 킥\n",
    "if age >=15:\n",
    "    print('환영합니다~~!')\n",
    "    print('게임을 시작하세요!')\n",
    "else:\n",
    "    print('킥~~')"
   ]
  },
  {
   "cell_type": "code",
   "execution_count": null,
   "id": "4875778e",
   "metadata": {},
   "outputs": [
    {
     "name": "stdout",
     "output_type": "stream",
     "text": [
      "짝수\n"
     ]
    }
   ],
   "source": [
    "# 홀수, 짝수 판단 => 숫자 % 2: 1-> 홀수, 0-> 짝수\n",
    "\n",
    "num = 10\n",
    "if num % 2 == 0:\n",
    "    print('짝수')\n",
    "else:\n",
    "    print('홀수')"
   ]
  },
  {
   "cell_type": "code",
   "execution_count": null,
   "id": "246f9e52",
   "metadata": {},
   "outputs": [
    {
     "name": "stdout",
     "output_type": "stream",
     "text": [
      "음수\n"
     ]
    }
   ],
   "source": [
    "# 양수 +, => num1 > 0\n",
    "# 음수 -,  => num1 < 0\n",
    "# 0 => num == 0 => num1이 0보다 작지도 크지도 않다\n",
    "\n",
    "num1 = -10\n",
    "\n",
    "if num1 > 0:\n",
    "    print('양수')\n",
    "elif num1 < 0:\n",
    "    print('음수')\n",
    "else:\n",
    "    print('0')"
   ]
  },
  {
   "cell_type": "code",
   "execution_count": null,
   "id": "453b3b08",
   "metadata": {},
   "outputs": [
    {
     "name": "stdout",
     "output_type": "stream",
     "text": [
      "음수\n"
     ]
    }
   ],
   "source": [
    "print('양수' if num1 > 0 else '음수' if num1 < 0 else '0')"
   ]
  },
  {
   "cell_type": "code",
   "execution_count": null,
   "id": "bbbf24a6",
   "metadata": {},
   "outputs": [
    {
     "name": "stdout",
     "output_type": "stream",
     "text": [
      "FAIL\n"
     ]
    }
   ],
   "source": [
    "# 운전면허 시험\n",
    "score = 70\n",
    "\n",
    "check_msg = 'PASS' if score >=80 else 'FAIL'\n",
    "print(check_msg)"
   ]
  },
  {
   "cell_type": "code",
   "execution_count": null,
   "id": "4707f168",
   "metadata": {},
   "outputs": [
    {
     "name": "stdout",
     "output_type": "stream",
     "text": [
      "FAIL\n"
     ]
    }
   ],
   "source": [
    "# 기본값을 만들고, 바뀌는 형식\n",
    "check_msg = 'PASS'\n",
    "if score < 80:\n",
    "    check_msg = 'FAIL'\n",
    "\n",
    "print(check_msg)"
   ]
  },
  {
   "cell_type": "code",
   "execution_count": null,
   "id": "2c3133df",
   "metadata": {},
   "outputs": [
    {
     "name": "stdout",
     "output_type": "stream",
     "text": [
      "ㅇ <class 'str'>\n"
     ]
    }
   ],
   "source": [
    "# 표준 출력 함수 => print()\n",
    "# 표준 입력 함수 => input()\n",
    "\n",
    "user_name = input('이름을 입력하세요!')\n",
    "print(user_name, type(user_name))"
   ]
  },
  {
   "cell_type": "code",
   "execution_count": null,
   "id": "470785ee",
   "metadata": {},
   "outputs": [
    {
     "name": "stdout",
     "output_type": "stream",
     "text": [
      "33 <class 'int'> 1992\n"
     ]
    }
   ],
   "source": [
    "# 정수형식으로 변환 int\n",
    "user_age = int(input('나이를 입력하세요!'))\n",
    "print(user_age, type(user_age), 2025-user_age)"
   ]
  },
  {
   "cell_type": "code",
   "execution_count": null,
   "id": "3976a334",
   "metadata": {},
   "outputs": [
    {
     "name": "stdout",
     "output_type": "stream",
     "text": [
      "무료 접종 대상이 아닙니다.\n"
     ]
    }
   ],
   "source": [
    "age = 43\n",
    "\n",
    "if age < 15 or age >=65:\n",
    "    print('무료 예방접종 가능!')\n",
    "else:\n",
    "    print('무료 접종 대상이 아닙니다.')"
   ]
  },
  {
   "cell_type": "code",
   "execution_count": null,
   "id": "3d5a289b",
   "metadata": {},
   "outputs": [
    {
     "name": "stdout",
     "output_type": "stream",
     "text": [
      "무료접종 불가\n"
     ]
    }
   ],
   "source": [
    "print('무료접종 가능' if age < 15 or age >= 65 else '무료접종 불가')"
   ]
  },
  {
   "cell_type": "code",
   "execution_count": null,
   "id": "8561b89e",
   "metadata": {},
   "outputs": [
    {
     "name": "stdout",
     "output_type": "stream",
     "text": [
      "1\n",
      "2\n",
      "3\n",
      "4\n",
      "5\n"
     ]
    }
   ],
   "source": [
    "# 반복문: while condition(True/False): \n",
    "# 조건식을 통해서 반복 -> 탈출이 가능해야한다.!\n",
    "\n",
    "cnt = 0\n",
    "\n",
    "while cnt < 5:\n",
    "    cnt += 1\n",
    "    print(cnt)\n",
    "    \n"
   ]
  },
  {
   "cell_type": "code",
   "execution_count": null,
   "id": "fa8bd5ca",
   "metadata": {},
   "outputs": [
    {
     "name": "stdout",
     "output_type": "stream",
     "text": [
      "1\n",
      "3\n",
      "5\n",
      "7\n",
      "9\n"
     ]
    }
   ],
   "source": [
    "# 1 ~ 10까지 출력, 홀수만 출력\n",
    "\n",
    "cnt = 0\n",
    "while cnt < 10 :\n",
    "    cnt += 1\n",
    "    if cnt % 2 == 1:\n",
    "        print(cnt)\n"
   ]
  },
  {
   "cell_type": "code",
   "execution_count": null,
   "id": "2aa48384",
   "metadata": {},
   "outputs": [
    {
     "name": "stdout",
     "output_type": "stream",
     "text": [
      "1\n",
      "3\n",
      "5\n",
      "7\n",
      "9\n"
     ]
    }
   ],
   "source": [
    "cnt = 0\n",
    "while cnt < 10 :\n",
    "    cnt += 1\n",
    "    \n",
    "    if cnt % 2 == 0:\n",
    "        continue\n",
    "    print(cnt)"
   ]
  },
  {
   "cell_type": "code",
   "execution_count": null,
   "id": "a1b52a13",
   "metadata": {},
   "outputs": [
    {
     "name": "stdout",
     "output_type": "stream",
     "text": [
      "1\n",
      "2\n",
      "3\n",
      "4\n",
      "5\n",
      "100\n",
      "200\n",
      "300\n"
     ]
    }
   ],
   "source": [
    "# for문\n",
    "\n",
    "list_a = [1,2,3,4,5,100,200,300]\n",
    "\n",
    "for i in list_a:\n",
    "    print(i)"
   ]
  },
  {
   "cell_type": "code",
   "execution_count": null,
   "id": "5bca15d3",
   "metadata": {},
   "outputs": [
    {
     "name": "stdout",
     "output_type": "stream",
     "text": [
      "1 2\n",
      "3 4\n",
      "5 6\n"
     ]
    }
   ],
   "source": [
    "list_b = [(1,2), (3,4), (5,6)]\n",
    "\n",
    "for n1, n2 in list_b:\n",
    "    print(n1, n2)"
   ]
  },
  {
   "cell_type": "code",
   "execution_count": null,
   "id": "e4bb4722",
   "metadata": {},
   "outputs": [
    {
     "name": "stdout",
     "output_type": "stream",
     "text": [
      "1 80 PASS\n",
      "2 50 Fail\n",
      "3 70 PASS\n",
      "4 100 PASS\n",
      "5 55 Fail\n",
      "총점: 355\n",
      "평균: 71.0\n"
     ]
    }
   ],
   "source": [
    "# 5명의 학생이 영어 시험 => 60점 이상은 pass 출력\n",
    "# 5명의 영어점수 총점, 평균\n",
    "\n",
    "scores = [80, 50, 70, 100, 55]\n",
    "num = 0     # 학생 리스트의 일련번호\n",
    "sum = 0     # 총점\n",
    "\n",
    "for score in scores:\n",
    "    # 학생의 점수를 비교해서: pass, fail\n",
    "    # 리스트의 일련번호 출력: num = num + 1\n",
    "    num += 1\n",
    "    sum += score\n",
    "    if score >= 60:\n",
    "        print(num, score, 'PASS')\n",
    "    else:\n",
    "        print(num, score, 'Fail')\n",
    "\n",
    "print('총점:', sum)\n",
    "print('평균:', sum/len(scores))"
   ]
  },
  {
   "cell_type": "code",
   "execution_count": null,
   "id": "d7d2ffa3",
   "metadata": {},
   "outputs": [
    {
     "name": "stdout",
     "output_type": "stream",
     "text": [
      "34567"
     ]
    }
   ],
   "source": [
    "for num in range(3, 8):\n",
    "    print(num, end='')"
   ]
  },
  {
   "cell_type": "code",
   "execution_count": null,
   "id": "af43333b",
   "metadata": {},
   "outputs": [
    {
     "name": "stdout",
     "output_type": "stream",
     "text": [
      "2단\n",
      "2X1=2\n",
      "2X2=4\n",
      "2X3=6\n",
      "2X4=8\n",
      "2X5=10\n",
      "2X6=12\n",
      "2X7=14\n",
      "2X8=16\n",
      "2X9=18\n",
      "\n",
      "3단\n",
      "3X1=3\n",
      "3X2=6\n",
      "3X3=9\n",
      "3X4=12\n",
      "3X5=15\n",
      "3X6=18\n",
      "3X7=21\n",
      "3X8=24\n",
      "3X9=27\n",
      "\n",
      "4단\n",
      "4X1=4\n",
      "4X2=8\n",
      "4X3=12\n",
      "4X4=16\n",
      "4X5=20\n",
      "4X6=24\n",
      "4X7=28\n",
      "4X8=32\n",
      "4X9=36\n",
      "\n",
      "5단\n",
      "5X1=5\n",
      "5X2=10\n",
      "5X3=15\n",
      "5X4=20\n",
      "5X5=25\n",
      "5X6=30\n",
      "5X7=35\n",
      "5X8=40\n",
      "5X9=45\n",
      "\n",
      "6단\n",
      "6X1=6\n",
      "6X2=12\n",
      "6X3=18\n",
      "6X4=24\n",
      "6X5=30\n",
      "6X6=36\n",
      "6X7=42\n",
      "6X8=48\n",
      "6X9=54\n",
      "\n",
      "7단\n",
      "7X1=7\n",
      "7X2=14\n",
      "7X3=21\n",
      "7X4=28\n",
      "7X5=35\n",
      "7X6=42\n",
      "7X7=49\n",
      "7X8=56\n",
      "7X9=63\n",
      "\n",
      "8단\n",
      "8X1=8\n",
      "8X2=16\n",
      "8X3=24\n",
      "8X4=32\n",
      "8X5=40\n",
      "8X6=48\n",
      "8X7=56\n",
      "8X8=64\n",
      "8X9=72\n",
      "\n",
      "9단\n",
      "9X1=9\n",
      "9X2=18\n",
      "9X3=27\n",
      "9X4=36\n",
      "9X5=45\n",
      "9X6=54\n",
      "9X7=63\n",
      "9X8=72\n",
      "9X9=81\n",
      "\n"
     ]
    }
   ],
   "source": [
    "# 구구단: 2 ~ 9단 => 2 ~ 9\n",
    "# 각 단: X1 ~ X9 => 1 ~ 9\n",
    "\n",
    "for dan in range(2, 10):\n",
    "    print(f'{dan}단')\n",
    "    for i in range(1, 10):\n",
    "        print(f'{dan}X{i}={dan*i}', end='\\n')\n",
    "    print()\n"
   ]
  },
  {
   "cell_type": "code",
   "execution_count": null,
   "id": "0270ca05",
   "metadata": {},
   "outputs": [
    {
     "name": "stdout",
     "output_type": "stream",
     "text": [
      "[3, 6, 9, 12]\n"
     ]
    }
   ],
   "source": [
    "# 리스트 컴프리헨션\n",
    "# [표현식 for 변수 in list if 조건식]\n",
    "\n",
    "list_2 = [1,2,3,4]\n",
    "\n",
    "# 결과 리스트\n",
    "list_result = []\n",
    "for num in list_2:\n",
    "    \n",
    "    print(list_result)"
   ]
  },
  {
   "cell_type": "code",
   "execution_count": 70,
   "id": "cf613010",
   "metadata": {},
   "outputs": [
    {
     "data": {
      "text/plain": [
       "[3, 6, 9, 12]"
      ]
     },
     "execution_count": 70,
     "metadata": {},
     "output_type": "execute_result"
    }
   ],
   "source": [
    "list_result_1 = [num*3 for num in list_2]\n",
    "list_result_1"
   ]
  },
  {
   "cell_type": "markdown",
   "id": "22eb7025",
   "metadata": {},
   "source": [
    "#### 문제1"
   ]
  },
  {
   "cell_type": "code",
   "execution_count": 79,
   "id": "35b21de9",
   "metadata": {},
   "outputs": [
    {
     "name": "stdout",
     "output_type": "stream",
     "text": [
      "5050\n"
     ]
    }
   ],
   "source": [
    "total = 0\n",
    "\n",
    "for i in range(1,101):\n",
    "    total += i\n",
    "print(total)"
   ]
  },
  {
   "cell_type": "markdown",
   "id": "012284a5",
   "metadata": {},
   "source": [
    "#### 문제2"
   ]
  },
  {
   "cell_type": "code",
   "execution_count": 82,
   "id": "e70fbaad",
   "metadata": {},
   "outputs": [
    {
     "name": "stdout",
     "output_type": "stream",
     "text": [
      "3628800\n"
     ]
    }
   ],
   "source": [
    "total_1 = 1\n",
    "\n",
    "for i in range(1, 11):\n",
    "    total_1 *= i\n",
    "print(total_1)"
   ]
  },
  {
   "cell_type": "markdown",
   "id": "49eecfba",
   "metadata": {},
   "source": [
    "#### 문제3"
   ]
  },
  {
   "cell_type": "code",
   "execution_count": 105,
   "id": "92613d93",
   "metadata": {},
   "outputs": [
    {
     "name": "stdout",
     "output_type": "stream",
     "text": [
      "2단\n",
      "2X1=2\n",
      "2X2=4\n",
      "\n",
      "4단\n",
      "4X1=4\n",
      "4X2=8\n",
      "4X3=12\n",
      "4X4=16\n",
      "\n",
      "6단\n",
      "6X1=6\n",
      "6X2=12\n",
      "6X3=18\n",
      "6X4=24\n",
      "6X5=30\n",
      "6X6=36\n",
      "\n",
      "8단\n",
      "8X1=8\n",
      "8X2=16\n",
      "8X3=24\n",
      "8X4=32\n",
      "8X5=40\n",
      "8X6=48\n",
      "8X7=56\n",
      "8X8=64\n",
      "\n"
     ]
    }
   ],
   "source": [
    "for dan in range(2, 10, 2):\n",
    "    print(f'{dan}단')\n",
    "    for i in range(1, dan + 1):\n",
    "        print(f'{dan}X{i}={dan*i}')\n",
    "    print()"
   ]
  },
  {
   "cell_type": "markdown",
   "id": "d59927ee",
   "metadata": {},
   "source": [
    "#### 문제4"
   ]
  },
  {
   "cell_type": "code",
   "execution_count": 110,
   "id": "ac376398",
   "metadata": {},
   "outputs": [
    {
     "name": "stdout",
     "output_type": "stream",
     "text": [
      "합이 1000을 넘는 순간: 56, 총합: 1055\n"
     ]
    }
   ],
   "source": [
    "num = 1\n",
    "total_2 = 0\n",
    "\n",
    "while total_2 <= 1000:\n",
    "    if num % 2 == 0 or num % 3 == 0:\n",
    "        total_2 += num\n",
    "    num += 1\n",
    "\n",
    "print(f'합이 1000을 넘는 순간: {num - 1}, 총합: {total_2}')\n",
    "    "
   ]
  },
  {
   "cell_type": "code",
   "execution_count": null,
   "id": "9d5dedb4",
   "metadata": {},
   "outputs": [],
   "source": [
    "num = 1\n",
    "sum = 0\n",
    "\n",
    "while True:\n",
    "    if num % 2 == 0 or num % 3 == 0:\n",
    "        sum += num\n",
    "        if sum > 1000:\n",
    "            num += 1\n",
    "            break\n",
    "    print(f'합이 1000을 넘는 순간: {num - 1}, 총합: {total_2}')\n"
   ]
  },
  {
   "cell_type": "markdown",
   "id": "0099d917",
   "metadata": {},
   "source": [
    "#### 검진 대상자 판별 문제"
   ]
  },
  {
   "cell_type": "code",
   "execution_count": 115,
   "id": "e7d1aab6",
   "metadata": {},
   "outputs": [
    {
     "name": "stdout",
     "output_type": "stream",
     "text": [
      "40\n",
      "검진 대상자 입니다.\n",
      "암 검진 대상자 입니다.\n"
     ]
    }
   ],
   "source": [
    "# 검진 대상자 판별\n",
    "# 20세 이상, 짝수년도에는 짝수 년생들이 대상\n",
    "# 40세 이상 암 검진 대상\n",
    "# 올해 년도, 태어난 년도\n",
    "\n",
    "year = 2025\n",
    "birth_year = 1985\n",
    "age = year - birth_year\n",
    "print(age)\n",
    "\n",
    "if age >= 20 and birth_year % 2 == year % 2:\n",
    "    print('검진 대상자 입니다.')\n",
    "    if age >= 40:\n",
    "        print('암 검진 대상자 입니다.')\n",
    "    else:\n",
    "        print('검진 대상자가 아닙니다.')\n"
   ]
  },
  {
   "cell_type": "code",
   "execution_count": 120,
   "id": "683f8c9a",
   "metadata": {},
   "outputs": [
    {
     "name": "stdout",
     "output_type": "stream",
     "text": [
      "2단\n",
      "2X1=2\n",
      "2X2=4\n",
      "2X3=6\n",
      "2X4=8\n",
      "2X5=10\n",
      "2X6=12\n",
      "2X7=14\n",
      "2X8=16\n",
      "2X9=18\n",
      "\n",
      "3단\n",
      "3X1=3\n",
      "3X2=6\n",
      "3X3=9\n",
      "3X4=12\n",
      "3X5=15\n",
      "3X6=18\n",
      "3X7=21\n",
      "3X8=24\n",
      "3X9=27\n",
      "\n",
      "4단\n",
      "4X1=4\n",
      "4X2=8\n",
      "4X3=12\n",
      "4X4=16\n",
      "4X5=20\n",
      "4X6=24\n",
      "4X7=28\n",
      "4X8=32\n",
      "4X9=36\n",
      "\n",
      "5단\n",
      "5X1=5\n",
      "5X2=10\n",
      "5X3=15\n",
      "5X4=20\n",
      "5X5=25\n",
      "5X6=30\n",
      "5X7=35\n",
      "5X8=40\n",
      "5X9=45\n",
      "\n",
      "6단\n",
      "6X1=6\n",
      "6X2=12\n",
      "6X3=18\n",
      "6X4=24\n",
      "6X5=30\n",
      "6X6=36\n",
      "6X7=42\n",
      "6X8=48\n",
      "6X9=54\n",
      "\n",
      "7단\n",
      "7X1=7\n",
      "7X2=14\n",
      "7X3=21\n",
      "7X4=28\n",
      "7X5=35\n",
      "7X6=42\n",
      "7X7=49\n",
      "7X8=56\n",
      "7X9=63\n",
      "\n",
      "8단\n",
      "8X1=8\n",
      "8X2=16\n",
      "8X3=24\n",
      "8X4=32\n",
      "8X5=40\n",
      "8X6=48\n",
      "8X7=56\n",
      "8X8=64\n",
      "8X9=72\n",
      "\n",
      "9단\n",
      "9X1=9\n",
      "9X2=18\n",
      "9X3=27\n",
      "9X4=36\n",
      "9X5=45\n",
      "9X6=54\n",
      "9X7=63\n",
      "9X8=72\n",
      "9X9=81\n",
      "\n"
     ]
    }
   ],
   "source": [
    "for dan in range(2,10):\n",
    "    print(f'{dan}단')\n",
    "    for i in range(1,10):\n",
    "        print(f'{dan}X{i}={dan*i}')\n",
    "    print()"
   ]
  },
  {
   "cell_type": "markdown",
   "id": "f6bf69ee",
   "metadata": {},
   "source": [
    "### 함수 2025.06.11"
   ]
  },
  {
   "cell_type": "code",
   "execution_count": 122,
   "id": "5376db69",
   "metadata": {},
   "outputs": [],
   "source": [
    "# 함수: 데이터를 받고, 처리(연산)하고 결과를 반환하는 코드들의 묶음\n",
    "#       -> 호출을 통해 코드를 실행\n",
    "# 중복코드를 줄일 수 있다. => 유지보수, 관리가 수월해진다!\n",
    "# def 함수이름(매개변수, 매개변수, 매개변수, ...)\n",
    "#   처리작업 코드들..\n",
    "#   return 값(data: 파이썬에서 제공하는 타입의 모든 데이터)\n",
    "# ~~ 위 규칙은 변하지 않음!!!!!!!"
   ]
  },
  {
   "cell_type": "code",
   "execution_count": null,
   "id": "771e63ca",
   "metadata": {},
   "outputs": [],
   "source": [
    "# 함수정의\n",
    "# 숫자 두 개를 받아 => 매개변수: 선택사항\n",
    "# 덧셈연산을 하고   => 내부 처리 작업\n",
    "# 결과 값을 반환    => 반환 값: 선택사항\n",
    "\n",
    "def add(n1, n2):        # 함수 정의: 이름, 매개변수\n",
    "    result = n1 + n2    # 연산, 처리, 작업\n",
    "    return result       # 결과 값 반환"
   ]
  },
  {
   "cell_type": "code",
   "execution_count": 141,
   "id": "af036425",
   "metadata": {},
   "outputs": [
    {
     "name": "stdout",
     "output_type": "stream",
     "text": [
      "<class 'function'>\n"
     ]
    }
   ],
   "source": [
    "print(type(add))"
   ]
  },
  {
   "cell_type": "code",
   "execution_count": null,
   "id": "95ab5aad",
   "metadata": {},
   "outputs": [
    {
     "data": {
      "text/plain": [
       "30"
      ]
     },
     "execution_count": 139,
     "metadata": {},
     "output_type": "execute_result"
    }
   ],
   "source": [
    "add(10, 20)     # 호출: 이름과 괄호안에() 매개변수가 받을 수 있는 데아터를 함께 전달"
   ]
  },
  {
   "cell_type": "code",
   "execution_count": 142,
   "id": "6e12d420",
   "metadata": {},
   "outputs": [
    {
     "data": {
      "text/plain": [
       "40"
      ]
     },
     "execution_count": 142,
     "metadata": {},
     "output_type": "execute_result"
    }
   ],
   "source": [
    "add(10,30)"
   ]
  },
  {
   "cell_type": "code",
   "execution_count": 143,
   "id": "861d0faa",
   "metadata": {},
   "outputs": [],
   "source": [
    "def alert_msg():\n",
    "    return '안녕하세요. 회원님 감사합니다.'"
   ]
  },
  {
   "cell_type": "code",
   "execution_count": 145,
   "id": "447ec11b",
   "metadata": {},
   "outputs": [
    {
     "name": "stdout",
     "output_type": "stream",
     "text": [
      "안녕하세요. 회원님 감사합니다.\n"
     ]
    }
   ],
   "source": [
    "print(alert_msg())"
   ]
  },
  {
   "cell_type": "code",
   "execution_count": 148,
   "id": "d35c6aed",
   "metadata": {},
   "outputs": [],
   "source": [
    "# 매개변수는 있고, 반환값이 없는 함수\n",
    "# 숫자 두개를 받아 덧셈연산의 결과를 출력하는 함수\n",
    "\n",
    "def add_print(n1, n2):\n",
    "    result = n1 + n2\n",
    "    print(f'{n1}+{n2}={n1+n2}')"
   ]
  },
  {
   "cell_type": "code",
   "execution_count": 149,
   "id": "0ecd4f67",
   "metadata": {},
   "outputs": [
    {
     "name": "stdout",
     "output_type": "stream",
     "text": [
      "1+2=3\n"
     ]
    }
   ],
   "source": [
    "add_print(1,2)"
   ]
  },
  {
   "cell_type": "code",
   "execution_count": 150,
   "id": "06793c85",
   "metadata": {},
   "outputs": [
    {
     "name": "stdout",
     "output_type": "stream",
     "text": [
      "10+200=210\n"
     ]
    }
   ],
   "source": [
    "result_add_print = add_print(10, 200)"
   ]
  },
  {
   "cell_type": "code",
   "execution_count": 152,
   "id": "c40513be",
   "metadata": {},
   "outputs": [
    {
     "name": "stdout",
     "output_type": "stream",
     "text": [
      "None\n"
     ]
    }
   ],
   "source": [
    "print(result_add_print)"
   ]
  },
  {
   "cell_type": "code",
   "execution_count": 158,
   "id": "5c51faff",
   "metadata": {},
   "outputs": [],
   "source": [
    "# 매개변수도 없고, 반환도 없는 함수\n",
    "\n",
    "def display_menu():\n",
    "    menu = '''\n",
    "1. 아메리카노\n",
    "2. 라떼\n",
    "3. 에스프레소\n",
    "'''\n",
    "    print(menu)"
   ]
  },
  {
   "cell_type": "code",
   "execution_count": 159,
   "id": "0530486f",
   "metadata": {},
   "outputs": [
    {
     "name": "stdout",
     "output_type": "stream",
     "text": [
      "\n",
      "1. 아메리카노\n",
      "2. 라떼\n",
      "3. 에스프레소\n",
      "\n"
     ]
    }
   ],
   "source": [
    "display_menu()"
   ]
  },
  {
   "cell_type": "code",
   "execution_count": 167,
   "id": "c4aca7fe",
   "metadata": {},
   "outputs": [],
   "source": [
    "def sub(n1, n2):\n",
    "    return n1 - n2"
   ]
  },
  {
   "cell_type": "code",
   "execution_count": 170,
   "id": "3a855067",
   "metadata": {},
   "outputs": [
    {
     "data": {
      "text/plain": [
       "7"
      ]
     },
     "execution_count": 170,
     "metadata": {},
     "output_type": "execute_result"
    }
   ],
   "source": [
    "sub(n2 = 3, n1 = 10)"
   ]
  },
  {
   "cell_type": "code",
   "execution_count": 178,
   "id": "080fe293",
   "metadata": {},
   "outputs": [
    {
     "name": "stdout",
     "output_type": "stream",
     "text": [
      "KING\thello\tKING,hello\n"
     ]
    }
   ],
   "source": [
    "# 매개변수를 지정하고 값을 넣어줌\n",
    "print('KING', 'hello', sep='\\t', end='\\t')\n",
    "print('KING', 'hello', sep=',')"
   ]
  },
  {
   "cell_type": "code",
   "execution_count": 180,
   "id": "0cdaefee",
   "metadata": {},
   "outputs": [
    {
     "name": "stdout",
     "output_type": "stream",
     "text": [
      "king\n",
      "1 2 3 4 5\n"
     ]
    }
   ],
   "source": [
    "# 매개변수가 여러개인데 몇개인지 몰라 ?!\n",
    "\n",
    "print('king')\n",
    "print(1,2,3,4,5)"
   ]
  },
  {
   "cell_type": "code",
   "execution_count": 188,
   "id": "8897eb1f",
   "metadata": {},
   "outputs": [],
   "source": [
    "# 매개변수에서 전달되는 숫자들(몇개?)을\n",
    "# 모두 더한 값을 \n",
    "# 반환하는 함수\n",
    "\n",
    "def add_sum(*args):\n",
    "    print(type(args))\n",
    "    print(args)\n",
    "    sum = 0\n",
    "    for num in args:\n",
    "        sum += num\n",
    "    return sum"
   ]
  },
  {
   "cell_type": "code",
   "execution_count": 190,
   "id": "20f14ddd",
   "metadata": {},
   "outputs": [
    {
     "name": "stdout",
     "output_type": "stream",
     "text": [
      "<class 'tuple'>\n",
      "(1, 2, 3, 4, 5, 6, 7, 8, 9)\n"
     ]
    },
    {
     "data": {
      "text/plain": [
       "45"
      ]
     },
     "execution_count": 190,
     "metadata": {},
     "output_type": "execute_result"
    }
   ],
   "source": [
    "add_sum(1,2,3,4,5,6,7,8,9)"
   ]
  },
  {
   "cell_type": "code",
   "execution_count": 191,
   "id": "8460c721",
   "metadata": {},
   "outputs": [],
   "source": [
    "# 연산의 타입을 전달 받고 전달되는 숫자들의 \n",
    "# 연산한 결과를 \n",
    "# 반환하는 함수\n",
    "\n",
    "def add_type(type, *args):\n",
    "    if type == 'add':\n",
    "        result = 0\n",
    "        for num in args:\n",
    "            result += num\n",
    "        return result\n",
    "    elif type == 'mul':\n",
    "        result = 1\n",
    "        for num in args:\n",
    "            result *= num\n",
    "        return result\n",
    "    else:\n",
    "        print('사용가능한 타입을 선택해주세요!')"
   ]
  },
  {
   "cell_type": "code",
   "execution_count": 199,
   "id": "b0631d8f",
   "metadata": {},
   "outputs": [
    {
     "name": "stdout",
     "output_type": "stream",
     "text": [
      "28\n",
      "5040\n"
     ]
    }
   ],
   "source": [
    "print(add_type('add', 1,2,3,4,5,6,7))\n",
    "print(add_type('mul', 1,2,3,4,5,6,7))"
   ]
  },
  {
   "cell_type": "code",
   "execution_count": 206,
   "id": "892bcc16",
   "metadata": {},
   "outputs": [],
   "source": [
    "def print_args(**args):\n",
    "    print(args)\n",
    "    print(type(args))"
   ]
  },
  {
   "cell_type": "code",
   "execution_count": 207,
   "id": "be4ff7f2",
   "metadata": {},
   "outputs": [
    {
     "name": "stdout",
     "output_type": "stream",
     "text": [
      "{'name': '손흥민', 'age': 20}\n",
      "<class 'dict'>\n"
     ]
    }
   ],
   "source": [
    "print_args(name='손흥민', age = 20)"
   ]
  },
  {
   "cell_type": "code",
   "execution_count": 212,
   "id": "42c3b75d",
   "metadata": {},
   "outputs": [],
   "source": [
    "player1 = {\n",
    "    'name' : '손흥민',\n",
    "    'age' : 20\n",
    "}"
   ]
  },
  {
   "cell_type": "code",
   "execution_count": 216,
   "id": "e37e97d1",
   "metadata": {},
   "outputs": [
    {
     "name": "stdout",
     "output_type": "stream",
     "text": [
      "{'name': '손흥민', 'age': 30}\n",
      "<class 'dict'>\n"
     ]
    }
   ],
   "source": [
    "player2 = print_args(name = '손흥민', age = 30)"
   ]
  },
  {
   "cell_type": "code",
   "execution_count": 217,
   "id": "7617375b",
   "metadata": {},
   "outputs": [
    {
     "name": "stdout",
     "output_type": "stream",
     "text": [
      "{'name': '손흥민', 'age': 20}\n",
      "None\n"
     ]
    }
   ],
   "source": [
    "print(player1)\n",
    "print(player2)"
   ]
  },
  {
   "cell_type": "code",
   "execution_count": 1,
   "id": "f1bc64bc",
   "metadata": {},
   "outputs": [],
   "source": [
    "def add_mul_return(n1, n2):\n",
    "    add_result = n1 + n2\n",
    "    mul_result = n1 * n2\n",
    "    return(add_result, mul_result)"
   ]
  },
  {
   "cell_type": "code",
   "execution_count": 2,
   "id": "6fb6ed0b",
   "metadata": {},
   "outputs": [
    {
     "data": {
      "text/plain": [
       "(30, 200)"
      ]
     },
     "execution_count": 2,
     "metadata": {},
     "output_type": "execute_result"
    }
   ],
   "source": [
    "add_mul_return(10, 20)"
   ]
  },
  {
   "cell_type": "code",
   "execution_count": 3,
   "id": "2db95736",
   "metadata": {},
   "outputs": [
    {
     "name": "stdout",
     "output_type": "stream",
     "text": [
      "30 200\n"
     ]
    }
   ],
   "source": [
    "result1, result2 = add_mul_return(10, 20)\n",
    "print(result1, result2)"
   ]
  },
  {
   "cell_type": "code",
   "execution_count": null,
   "id": "e8a7cb33",
   "metadata": {},
   "outputs": [],
   "source": [
    "# 매개변수의 "
   ]
  },
  {
   "cell_type": "code",
   "execution_count": 4,
   "id": "62f6f4dd",
   "metadata": {},
   "outputs": [],
   "source": [
    "# 이름, 나, 성별 받아서 출력 함수\n",
    "def say_hi(name, age, gender = True): # Gender=True => 여성\n",
    "    print(f'안녕하세요. 저는 {name} 입니다. 나이는 {age} 입니다.')\n",
    "    if gender:\n",
    "        print('여성입니다.')\n",
    "    else:\n",
    "        print('남성입니다.')\n"
   ]
  },
  {
   "cell_type": "code",
   "execution_count": 8,
   "id": "580fb0c3",
   "metadata": {},
   "outputs": [
    {
     "name": "stdout",
     "output_type": "stream",
     "text": [
      "안녕하세요. 저는 손흥민 입니다. 나이는 30 입니다.\n",
      "남성입니다.\n"
     ]
    }
   ],
   "source": [
    "say_hi('손흥민', 30, False)"
   ]
  },
  {
   "cell_type": "code",
   "execution_count": null,
   "id": "a1da2d44",
   "metadata": {},
   "outputs": [],
   "source": [
    "# 변수의 사용 범위\n",
    "\n",
    "a = 1\n",
    "\n",
    "def var_test(a):    # 지역변수가 우선!\n",
    "    print('함수 내부의 a:', a)"
   ]
  },
  {
   "cell_type": "code",
   "execution_count": 21,
   "id": "31da2e6d",
   "metadata": {},
   "outputs": [
    {
     "name": "stdout",
     "output_type": "stream",
     "text": [
      "함수 내부의 a: 10\n"
     ]
    }
   ],
   "source": [
    "var_test(10)"
   ]
  },
  {
   "cell_type": "code",
   "execution_count": 22,
   "id": "e81bb6e4",
   "metadata": {},
   "outputs": [
    {
     "name": "stdout",
     "output_type": "stream",
     "text": [
      "1\n"
     ]
    }
   ],
   "source": [
    "print(a)"
   ]
  },
  {
   "cell_type": "code",
   "execution_count": 29,
   "id": "4b6b5dc5",
   "metadata": {},
   "outputs": [],
   "source": [
    "# 같은 이름이면 외부 a로 실행됨 \n",
    "def var_test2():\n",
    "    global a    # 전역변수를 사용할 때\n",
    "    a = a + 1\n",
    "    print(a)"
   ]
  },
  {
   "cell_type": "code",
   "execution_count": 30,
   "id": "257724d3",
   "metadata": {},
   "outputs": [
    {
     "name": "stdout",
     "output_type": "stream",
     "text": [
      "3\n"
     ]
    }
   ],
   "source": [
    "var_test2()"
   ]
  },
  {
   "cell_type": "code",
   "execution_count": 31,
   "id": "799ab1b2",
   "metadata": {},
   "outputs": [
    {
     "name": "stdout",
     "output_type": "stream",
     "text": [
      "3\n"
     ]
    }
   ],
   "source": [
    "print(a)"
   ]
  },
  {
   "cell_type": "code",
   "execution_count": 32,
   "id": "9118f55b",
   "metadata": {},
   "outputs": [
    {
     "data": {
      "text/plain": [
       "110"
      ]
     },
     "execution_count": 32,
     "metadata": {},
     "output_type": "execute_result"
    }
   ],
   "source": [
    "# lambda 함수 => 한줄로 간단하게 표현하는 함수 표현식\n",
    "# 함수이름 = lambda arg1, arg2 ... : 연산\n",
    "# 숫자 두개를 전달받아 덧셈한 결과를 반환하는 함수\n",
    "\n",
    "add3 = lambda n1, n2 : n1+n2\n",
    "add3(100,10)"
   ]
  },
  {
   "cell_type": "code",
   "execution_count": 33,
   "id": "6d010eca",
   "metadata": {},
   "outputs": [],
   "source": [
    "# 내장함수: 파이썬 설치 -> 기본으로 제공하는 함수\n",
    "\n",
    "st_names = ['king', 'cool', 'hot', 'scott']"
   ]
  },
  {
   "cell_type": "code",
   "execution_count": 36,
   "id": "f84ecf01",
   "metadata": {},
   "outputs": [
    {
     "name": "stdout",
     "output_type": "stream",
     "text": [
      "0 king\n",
      "1 cool\n",
      "2 hot\n",
      "3 scott\n"
     ]
    }
   ],
   "source": [
    "# 학생들의 index 값을 함께 출력\n",
    "\n",
    "num = 0\n",
    "\n",
    "for name in st_names:\n",
    "    print(num, name)\n",
    "    num += 1"
   ]
  },
  {
   "cell_type": "code",
   "execution_count": 38,
   "id": "7ce5de06",
   "metadata": {},
   "outputs": [
    {
     "name": "stdout",
     "output_type": "stream",
     "text": [
      "1 king\n",
      "2 cool\n",
      "3 hot\n",
      "4 scott\n"
     ]
    }
   ],
   "source": [
    "for index, name in enumerate(st_names, start=1):\n",
    "    print(index, name)"
   ]
  },
  {
   "cell_type": "code",
   "execution_count": 40,
   "id": "56cc4fe2",
   "metadata": {},
   "outputs": [],
   "source": [
    "# filter: 필터링(매개변수로 전달되는 함수: 요소 값을 판단해서 논리값 반환)을 통해 새로운 리스트를 생성 반환\n",
    "# filter(fn, itr)\n",
    "def positive(l):\n",
    "    result = []\n",
    "    for n in l:\n",
    "        if n > 0:\n",
    "            result.append(n)\n",
    "    return result"
   ]
  },
  {
   "cell_type": "code",
   "execution_count": 41,
   "id": "8ec1366d",
   "metadata": {},
   "outputs": [
    {
     "name": "stdout",
     "output_type": "stream",
     "text": [
      "[3, 1, 9, 10, 4]\n"
     ]
    }
   ],
   "source": [
    "print(positive([3,1,-1,-3,0,9,10,4]))"
   ]
  },
  {
   "cell_type": "code",
   "execution_count": 42,
   "id": "2c8f7fe9",
   "metadata": {},
   "outputs": [],
   "source": [
    "# filter\n",
    "# 판별함수\n",
    "def positive_fn(x):\n",
    "    return x > 0"
   ]
  },
  {
   "cell_type": "code",
   "execution_count": 47,
   "id": "f2f66a25",
   "metadata": {},
   "outputs": [
    {
     "data": {
      "text/plain": [
       "[3, 1, 9, 10, 4]"
      ]
     },
     "execution_count": 47,
     "metadata": {},
     "output_type": "execute_result"
    }
   ],
   "source": [
    "list(filter(positive_fn, [3,1,-1,-3,0,9,10,4]))"
   ]
  },
  {
   "cell_type": "code",
   "execution_count": 51,
   "id": "4b6c9d0d",
   "metadata": {},
   "outputs": [],
   "source": [
    "# 홀수만 출력\n",
    "def pos_fn2(x):\n",
    "    return x % 2 == 1"
   ]
  },
  {
   "cell_type": "code",
   "execution_count": 52,
   "id": "28c7bcf0",
   "metadata": {},
   "outputs": [
    {
     "data": {
      "text/plain": [
       "[3, 1, -1, -3, 9]"
      ]
     },
     "execution_count": 52,
     "metadata": {},
     "output_type": "execute_result"
    }
   ],
   "source": [
    "list(filter(pos_fn2, [3,1,-1,-3,0,9,10,4]))"
   ]
  },
  {
   "cell_type": "code",
   "execution_count": 53,
   "id": "08ce6f4f",
   "metadata": {},
   "outputs": [
    {
     "data": {
      "text/plain": [
       "[3, 1, 9, 10, 4]"
      ]
     },
     "execution_count": 53,
     "metadata": {},
     "output_type": "execute_result"
    }
   ],
   "source": [
    "list(filter(lambda x : x > 0, [3,1,-1,-3,0,9,10,4]))"
   ]
  },
  {
   "cell_type": "code",
   "execution_count": 56,
   "id": "a4468d45",
   "metadata": {},
   "outputs": [
    {
     "data": {
      "text/plain": [
       "[2, 4, 6, 8, 10]"
      ]
     },
     "execution_count": 56,
     "metadata": {},
     "output_type": "execute_result"
    }
   ],
   "source": [
    "# map이 새로운 값을 만듬\n",
    "list(map(lambda x: x*2, [1,2,3,4,5]))"
   ]
  },
  {
   "cell_type": "code",
   "execution_count": 66,
   "id": "8c2a1140",
   "metadata": {},
   "outputs": [],
   "source": [
    "# 파이썬의 입출력(자원)\n",
    "# 표준 입출력 => input, print\n",
    "# 텍스트 파일(자원): 입출력 I/O\n",
    "# 파일 단위 입출력: Open(자원의 경로, 모드) 모드 => r(read), w(write), a(append)\n",
    "\n",
    "f = open('new_text.txt', 'w')\n",
    "f.close()"
   ]
  },
  {
   "cell_type": "code",
   "execution_count": 77,
   "id": "ad38bafb",
   "metadata": {},
   "outputs": [],
   "source": [
    "f = open('new_text.txt', 'w')   # 1. 파일 오픈: w\n",
    "f.write('안녕하세요!')             # 2. 텍스트 쓰기\n",
    "f.close()"
   ]
  },
  {
   "cell_type": "code",
   "execution_count": 9,
   "id": "0536aea2",
   "metadata": {},
   "outputs": [],
   "source": [
    "f = open('new_text.txt', 'w')  \n",
    "for i in range(1, 11):\n",
    "    f.write(f'{i}번째 줄 입력\\n')\n",
    "f.close()"
   ]
  },
  {
   "cell_type": "code",
   "execution_count": 10,
   "id": "e0cd86f8",
   "metadata": {},
   "outputs": [
    {
     "name": "stdout",
     "output_type": "stream",
     "text": [
      "1번째 줄 입력\n",
      "\n",
      "2번째 줄 입력\n",
      "\n"
     ]
    }
   ],
   "source": [
    "# 파일 내용 읽어오기\n",
    "f = open('new_text.txt', 'r')\n",
    "line1 = f.readline()\n",
    "print(line1)\n",
    "line2 = f.readline()\n",
    "print(line2)\n",
    "f.close()"
   ]
  },
  {
   "cell_type": "code",
   "execution_count": 11,
   "id": "2d06d71c",
   "metadata": {},
   "outputs": [
    {
     "name": "stdout",
     "output_type": "stream",
     "text": [
      "1번째 줄 입력\n",
      "2번째 줄 입력\n",
      "3번째 줄 입력\n",
      "4번째 줄 입력\n",
      "5번째 줄 입력\n",
      "6번째 줄 입력\n",
      "7번째 줄 입력\n",
      "8번째 줄 입력\n",
      "9번째 줄 입력\n",
      "10번째 줄 입력\n"
     ]
    }
   ],
   "source": [
    "# 파일 내용 읽어오기\n",
    "f = open('new_text.txt', 'r')\n",
    "\n",
    "while 1:\n",
    "    line = f.readline()\n",
    "    if not line:\n",
    "        break\n",
    "    print(line, end='')\n",
    "f.close()"
   ]
  },
  {
   "cell_type": "code",
   "execution_count": 16,
   "id": "80c79dcc",
   "metadata": {},
   "outputs": [
    {
     "name": "stdout",
     "output_type": "stream",
     "text": [
      "['1번째 줄 입력\\n', '2번째 줄 입력\\n', '3번째 줄 입력\\n', '4번째 줄 입력\\n', '5번째 줄 입력\\n', '6번째 줄 입력\\n', '7번째 줄 입력\\n', '8번째 줄 입력\\n', '9번째 줄 입력\\n', '10번째 줄 입력\\n', '새로운 행이 추가 됩니다.새로운 행이 추가 됩니다.\\n', '새로운 행이 16가 추가 됩니다.\\n', '새로운 행이 17가 추가 됩니다.\\n', '새로운 행이 18가 추가 됩니다.\\n', '새로운 행이 19가 추가 됩니다.\\n', '새로운 행이 20가 추가 됩니다.\\n']\n",
      "1번째 줄 입력\n",
      "2번째 줄 입력\n",
      "3번째 줄 입력\n",
      "4번째 줄 입력\n",
      "5번째 줄 입력\n",
      "6번째 줄 입력\n",
      "7번째 줄 입력\n",
      "8번째 줄 입력\n",
      "9번째 줄 입력\n",
      "10번째 줄 입력\n",
      "새로운 행이 추가 됩니다.새로운 행이 추가 됩니다.\n",
      "새로운 행이 16가 추가 됩니다.\n",
      "새로운 행이 17가 추가 됩니다.\n",
      "새로운 행이 18가 추가 됩니다.\n",
      "새로운 행이 19가 추가 됩니다.\n",
      "새로운 행이 20가 추가 됩니다.\n"
     ]
    }
   ],
   "source": [
    "f = open('new_text.txt', 'r')\n",
    "lines = f.readlines()\n",
    "print(lines)\n",
    "for line in lines:\n",
    "    print(line, end = '')\n",
    "f.close()"
   ]
  },
  {
   "cell_type": "code",
   "execution_count": 14,
   "id": "117b9dfe",
   "metadata": {},
   "outputs": [],
   "source": [
    "# append: 데이터 추가\n",
    "f = open('new_text.txt', 'a')\n",
    "f.write(f'새로운 행이 추가 됩니다.\\n')\n",
    "f.close()"
   ]
  },
  {
   "cell_type": "code",
   "execution_count": 15,
   "id": "0cceb21d",
   "metadata": {},
   "outputs": [],
   "source": [
    "# append: 데이터 추가\n",
    "f = open('new_text.txt', 'a')\n",
    "for i in range(16, 21):\n",
    "    f.write(f'새로운 행이 {i}가 추가 됩니다.\\n')\n",
    "f.close()"
   ]
  },
  {
   "cell_type": "code",
   "execution_count": null,
   "id": "e79adef0",
   "metadata": {},
   "outputs": [
    {
     "name": "stdout",
     "output_type": "stream",
     "text": [
      "['1번째 줄 입력\\n', '2번째 줄 입력\\n', '3번째 줄 입력\\n', '4번째 줄 입력\\n', '5번째 줄 입력\\n', '6번째 줄 입력\\n', '7번째 줄 입력\\n', '8번째 줄 입력\\n', '9번째 줄 입력\\n', '10번째 줄 입력\\n', '새로운 행이 추가 됩니다.새로운 행이 추가 됩니다.\\n', '새로운 행이 16가 추가 됩니다.\\n', '새로운 행이 17가 추가 됩니다.\\n', '새로운 행이 18가 추가 됩니다.\\n', '새로운 행이 19가 추가 됩니다.\\n', '새로운 행이 20가 추가 됩니다.\\n']\n"
     ]
    }
   ],
   "source": [
    "# close 생략 가능한 구현 => with\n",
    "with open('new_text.txt', 'r') as file:\n",
    "    lines = file.readlines()\n",
    "    print(lines)"
   ]
  },
  {
   "cell_type": "code",
   "execution_count": 28,
   "id": "0b01ec46",
   "metadata": {},
   "outputs": [
    {
     "name": "stdout",
     "output_type": "stream",
     "text": [
      "2.0\n",
      "프로그램을 종료합니다.\n"
     ]
    }
   ],
   "source": [
    "# 예외처리: 에러 발생 시에 비정상적인 종료를 막기 위한 처리\n",
    "\n",
    "try:\n",
    "    print(10/5)\n",
    "except:\n",
    "    print('에러가 발생했습니다. 에러에 대한 처리를 합니다.')\n",
    "\n",
    "print('프로그램을 종료합니다.')\n"
   ]
  },
  {
   "cell_type": "code",
   "execution_count": 30,
   "id": "24f435a8",
   "metadata": {},
   "outputs": [],
   "source": [
    "list_t = [1,2,3,4,5]"
   ]
  },
  {
   "cell_type": "code",
   "execution_count": 32,
   "id": "c794af42",
   "metadata": {},
   "outputs": [
    {
     "name": "stdout",
     "output_type": "stream",
     "text": [
      "5.0\n",
      "리스트의 index 범위에서 벗어납니다.\n"
     ]
    }
   ],
   "source": [
    "try:\n",
    "    print(10/2)\n",
    "    print(list_t[10])   # <=====\n",
    "except ZeroDivisionError:\n",
    "    print('0으로 나누는 연산은 불가능합니다.')\n",
    "except NameError:\n",
    "    print('정의되지 않은 식별자 입니다.')\n",
    "except IndexError:\n",
    "    print('리스트의 index 범위에서 벗어납니다.')\n",
    "except:\n",
    "    print('에러발생!!!')"
   ]
  },
  {
   "cell_type": "code",
   "execution_count": 33,
   "id": "5851576a",
   "metadata": {},
   "outputs": [
    {
     "name": "stdout",
     "output_type": "stream",
     "text": [
      "hello\n",
      "error!!\n",
      "!!!!!\n"
     ]
    }
   ],
   "source": [
    "# try: except: finally: -> 에러 발생여부와 상관없이 실행되어야 하는 블록\n",
    "try:\n",
    "    print('hello')\n",
    "    print(10/0)\n",
    "except:\n",
    "    print('error!!')\n",
    "finally:\n",
    "    print('!!!!!')"
   ]
  },
  {
   "cell_type": "code",
   "execution_count": null,
   "id": "b148d690",
   "metadata": {},
   "outputs": [
    {
     "name": "stdout",
     "output_type": "stream",
     "text": [
      "입장\n"
     ]
    }
   ],
   "source": [
    "try:\n",
    "    age = int(input('나이를 입력하세요.'))\n",
    "except:\n",
    "    print('숫자 형식으로 입력해주세요!')\n",
    "else:\n",
    "    if age > 18:\n",
    "        print('입장')\n",
    "    else:\n",
    "        print('불가')\n",
    "        "
   ]
  },
  {
   "cell_type": "code",
   "execution_count": 36,
   "id": "8bf9cace",
   "metadata": {},
   "outputs": [],
   "source": [
    "# 사용자 정의 예외 타입 정의\n",
    "# 논리적인 오류 발생 -> 예외로 처리\n",
    "# age => 음수, 500: 논리적 오류\n",
    "\n",
    "class MyError(Exception):\n",
    "    pass"
   ]
  },
  {
   "cell_type": "code",
   "execution_count": 38,
   "id": "e55be6f2",
   "metadata": {},
   "outputs": [
    {
     "name": "stdout",
     "output_type": "stream",
     "text": [
      "13\n"
     ]
    }
   ],
   "source": [
    "try:\n",
    "    age = int(input('나이를 입력하세요.'))\n",
    "    if age < 1 or age > 200:\n",
    "        raise MyError()\n",
    "    \n",
    "except MyError:\n",
    "    print('나이의 입력 범위는 1 ~ 200 까지 입니다.\\n다시 입력하세요!')\n",
    "except:\n",
    "    print('다시 입력하세요!')\n",
    "else:\n",
    "    print(age)"
   ]
  },
  {
   "cell_type": "code",
   "execution_count": null,
   "id": "43cd114b",
   "metadata": {},
   "outputs": [],
   "source": []
  }
 ],
 "metadata": {
  "kernelspec": {
   "display_name": ".venv",
   "language": "python",
   "name": "python3"
  },
  "language_info": {
   "codemirror_mode": {
    "name": "ipython",
    "version": 3
   },
   "file_extension": ".py",
   "mimetype": "text/x-python",
   "name": "python",
   "nbconvert_exporter": "python",
   "pygments_lexer": "ipython3",
   "version": "3.13.4"
  }
 },
 "nbformat": 4,
 "nbformat_minor": 5
}
