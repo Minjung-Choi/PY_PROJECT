{
 "cells": [
  {
   "cell_type": "markdown",
   "id": "e1ec0813",
   "metadata": {},
   "source": [
    "### 2025.06.18."
   ]
  },
  {
   "cell_type": "code",
   "execution_count": 458,
   "id": "eed9cbe7",
   "metadata": {},
   "outputs": [],
   "source": [
    "import pandas as pd"
   ]
  },
  {
   "cell_type": "code",
   "execution_count": 459,
   "id": "cc6d3291",
   "metadata": {},
   "outputs": [],
   "source": [
    "data = pd.DataFrame({'Original': [1, 4, 16, 36, 100, 1000, 10000]})"
   ]
  },
  {
   "cell_type": "code",
   "execution_count": 460,
   "id": "804753de",
   "metadata": {},
   "outputs": [
    {
     "data": {
      "text/html": [
       "<div>\n",
       "<style scoped>\n",
       "    .dataframe tbody tr th:only-of-type {\n",
       "        vertical-align: middle;\n",
       "    }\n",
       "\n",
       "    .dataframe tbody tr th {\n",
       "        vertical-align: top;\n",
       "    }\n",
       "\n",
       "    .dataframe thead th {\n",
       "        text-align: right;\n",
       "    }\n",
       "</style>\n",
       "<table border=\"1\" class=\"dataframe\">\n",
       "  <thead>\n",
       "    <tr style=\"text-align: right;\">\n",
       "      <th></th>\n",
       "      <th>Original</th>\n",
       "    </tr>\n",
       "  </thead>\n",
       "  <tbody>\n",
       "    <tr>\n",
       "      <th>0</th>\n",
       "      <td>1</td>\n",
       "    </tr>\n",
       "    <tr>\n",
       "      <th>1</th>\n",
       "      <td>4</td>\n",
       "    </tr>\n",
       "    <tr>\n",
       "      <th>2</th>\n",
       "      <td>16</td>\n",
       "    </tr>\n",
       "    <tr>\n",
       "      <th>3</th>\n",
       "      <td>36</td>\n",
       "    </tr>\n",
       "    <tr>\n",
       "      <th>4</th>\n",
       "      <td>100</td>\n",
       "    </tr>\n",
       "    <tr>\n",
       "      <th>5</th>\n",
       "      <td>1000</td>\n",
       "    </tr>\n",
       "    <tr>\n",
       "      <th>6</th>\n",
       "      <td>10000</td>\n",
       "    </tr>\n",
       "  </tbody>\n",
       "</table>\n",
       "</div>"
      ],
      "text/plain": [
       "   Original\n",
       "0         1\n",
       "1         4\n",
       "2        16\n",
       "3        36\n",
       "4       100\n",
       "5      1000\n",
       "6     10000"
      ]
     },
     "execution_count": 460,
     "metadata": {},
     "output_type": "execute_result"
    }
   ],
   "source": [
    "data"
   ]
  },
  {
   "cell_type": "code",
   "execution_count": 461,
   "id": "be92cddf",
   "metadata": {},
   "outputs": [],
   "source": [
    "import numpy as np"
   ]
  },
  {
   "cell_type": "code",
   "execution_count": 462,
   "id": "610e638d",
   "metadata": {},
   "outputs": [],
   "source": [
    "data['Log Tans'] = np.log1p(data['Original'])"
   ]
  },
  {
   "cell_type": "code",
   "execution_count": 463,
   "id": "d533c910",
   "metadata": {},
   "outputs": [
    {
     "data": {
      "text/html": [
       "<div>\n",
       "<style scoped>\n",
       "    .dataframe tbody tr th:only-of-type {\n",
       "        vertical-align: middle;\n",
       "    }\n",
       "\n",
       "    .dataframe tbody tr th {\n",
       "        vertical-align: top;\n",
       "    }\n",
       "\n",
       "    .dataframe thead th {\n",
       "        text-align: right;\n",
       "    }\n",
       "</style>\n",
       "<table border=\"1\" class=\"dataframe\">\n",
       "  <thead>\n",
       "    <tr style=\"text-align: right;\">\n",
       "      <th></th>\n",
       "      <th>Original</th>\n",
       "      <th>Log Tans</th>\n",
       "    </tr>\n",
       "  </thead>\n",
       "  <tbody>\n",
       "    <tr>\n",
       "      <th>0</th>\n",
       "      <td>1</td>\n",
       "      <td>0.693147</td>\n",
       "    </tr>\n",
       "    <tr>\n",
       "      <th>1</th>\n",
       "      <td>4</td>\n",
       "      <td>1.609438</td>\n",
       "    </tr>\n",
       "    <tr>\n",
       "      <th>2</th>\n",
       "      <td>16</td>\n",
       "      <td>2.833213</td>\n",
       "    </tr>\n",
       "    <tr>\n",
       "      <th>3</th>\n",
       "      <td>36</td>\n",
       "      <td>3.610918</td>\n",
       "    </tr>\n",
       "    <tr>\n",
       "      <th>4</th>\n",
       "      <td>100</td>\n",
       "      <td>4.615121</td>\n",
       "    </tr>\n",
       "    <tr>\n",
       "      <th>5</th>\n",
       "      <td>1000</td>\n",
       "      <td>6.908755</td>\n",
       "    </tr>\n",
       "    <tr>\n",
       "      <th>6</th>\n",
       "      <td>10000</td>\n",
       "      <td>9.210440</td>\n",
       "    </tr>\n",
       "  </tbody>\n",
       "</table>\n",
       "</div>"
      ],
      "text/plain": [
       "   Original  Log Tans\n",
       "0         1  0.693147\n",
       "1         4  1.609438\n",
       "2        16  2.833213\n",
       "3        36  3.610918\n",
       "4       100  4.615121\n",
       "5      1000  6.908755\n",
       "6     10000  9.210440"
      ]
     },
     "execution_count": 463,
     "metadata": {},
     "output_type": "execute_result"
    }
   ],
   "source": [
    "data"
   ]
  },
  {
   "cell_type": "code",
   "execution_count": 464,
   "id": "93e61011",
   "metadata": {},
   "outputs": [],
   "source": [
    "data['sqr Trans'] = np.sqrt(data['Original'])"
   ]
  },
  {
   "cell_type": "code",
   "execution_count": 465,
   "id": "b8609681",
   "metadata": {},
   "outputs": [
    {
     "data": {
      "text/html": [
       "<div>\n",
       "<style scoped>\n",
       "    .dataframe tbody tr th:only-of-type {\n",
       "        vertical-align: middle;\n",
       "    }\n",
       "\n",
       "    .dataframe tbody tr th {\n",
       "        vertical-align: top;\n",
       "    }\n",
       "\n",
       "    .dataframe thead th {\n",
       "        text-align: right;\n",
       "    }\n",
       "</style>\n",
       "<table border=\"1\" class=\"dataframe\">\n",
       "  <thead>\n",
       "    <tr style=\"text-align: right;\">\n",
       "      <th></th>\n",
       "      <th>Original</th>\n",
       "      <th>Log Tans</th>\n",
       "      <th>sqr Trans</th>\n",
       "    </tr>\n",
       "  </thead>\n",
       "  <tbody>\n",
       "    <tr>\n",
       "      <th>0</th>\n",
       "      <td>1</td>\n",
       "      <td>0.693147</td>\n",
       "      <td>1.000000</td>\n",
       "    </tr>\n",
       "    <tr>\n",
       "      <th>1</th>\n",
       "      <td>4</td>\n",
       "      <td>1.609438</td>\n",
       "      <td>2.000000</td>\n",
       "    </tr>\n",
       "    <tr>\n",
       "      <th>2</th>\n",
       "      <td>16</td>\n",
       "      <td>2.833213</td>\n",
       "      <td>4.000000</td>\n",
       "    </tr>\n",
       "    <tr>\n",
       "      <th>3</th>\n",
       "      <td>36</td>\n",
       "      <td>3.610918</td>\n",
       "      <td>6.000000</td>\n",
       "    </tr>\n",
       "    <tr>\n",
       "      <th>4</th>\n",
       "      <td>100</td>\n",
       "      <td>4.615121</td>\n",
       "      <td>10.000000</td>\n",
       "    </tr>\n",
       "    <tr>\n",
       "      <th>5</th>\n",
       "      <td>1000</td>\n",
       "      <td>6.908755</td>\n",
       "      <td>31.622777</td>\n",
       "    </tr>\n",
       "    <tr>\n",
       "      <th>6</th>\n",
       "      <td>10000</td>\n",
       "      <td>9.210440</td>\n",
       "      <td>100.000000</td>\n",
       "    </tr>\n",
       "  </tbody>\n",
       "</table>\n",
       "</div>"
      ],
      "text/plain": [
       "   Original  Log Tans   sqr Trans\n",
       "0         1  0.693147    1.000000\n",
       "1         4  1.609438    2.000000\n",
       "2        16  2.833213    4.000000\n",
       "3        36  3.610918    6.000000\n",
       "4       100  4.615121   10.000000\n",
       "5      1000  6.908755   31.622777\n",
       "6     10000  9.210440  100.000000"
      ]
     },
     "execution_count": 465,
     "metadata": {},
     "output_type": "execute_result"
    }
   ],
   "source": [
    "data"
   ]
  },
  {
   "cell_type": "code",
   "execution_count": 466,
   "id": "b5acb7e3",
   "metadata": {},
   "outputs": [],
   "source": [
    "from sklearn.preprocessing import StandardScaler, MinMaxScaler, LabelEncoder, OneHotEncoder"
   ]
  },
  {
   "cell_type": "code",
   "execution_count": 467,
   "id": "fc1f5016",
   "metadata": {},
   "outputs": [],
   "source": [
    "data1 = pd.DataFrame({'Original': [50,80,90,100,160]})\n",
    "data2 = pd.DataFrame({'Fruits': ['사과', '배', '포도', '사과', '포도']})"
   ]
  },
  {
   "cell_type": "code",
   "execution_count": 468,
   "id": "eadda0de",
   "metadata": {},
   "outputs": [],
   "source": [
    "# 표준화 \n",
    "scaler_1 = StandardScaler()\n",
    "data1['scale_1'] = scaler_1.fit_transform(data1[['Original']])\n",
    "\n",
    "# 정규화\n",
    "scaler_2 = MinMaxScaler()\n",
    "data1['scale_2'] = scaler_2.fit_transform(data1[['Original']])"
   ]
  },
  {
   "cell_type": "code",
   "execution_count": 469,
   "id": "8809feee",
   "metadata": {},
   "outputs": [
    {
     "data": {
      "text/html": [
       "<div>\n",
       "<style scoped>\n",
       "    .dataframe tbody tr th:only-of-type {\n",
       "        vertical-align: middle;\n",
       "    }\n",
       "\n",
       "    .dataframe tbody tr th {\n",
       "        vertical-align: top;\n",
       "    }\n",
       "\n",
       "    .dataframe thead th {\n",
       "        text-align: right;\n",
       "    }\n",
       "</style>\n",
       "<table border=\"1\" class=\"dataframe\">\n",
       "  <thead>\n",
       "    <tr style=\"text-align: right;\">\n",
       "      <th></th>\n",
       "      <th>Original</th>\n",
       "      <th>scale_1</th>\n",
       "      <th>scale_2</th>\n",
       "    </tr>\n",
       "  </thead>\n",
       "  <tbody>\n",
       "    <tr>\n",
       "      <th>0</th>\n",
       "      <td>50</td>\n",
       "      <td>-1.273852</td>\n",
       "      <td>0.000000</td>\n",
       "    </tr>\n",
       "    <tr>\n",
       "      <th>1</th>\n",
       "      <td>80</td>\n",
       "      <td>-0.443079</td>\n",
       "      <td>0.272727</td>\n",
       "    </tr>\n",
       "    <tr>\n",
       "      <th>2</th>\n",
       "      <td>90</td>\n",
       "      <td>-0.166155</td>\n",
       "      <td>0.363636</td>\n",
       "    </tr>\n",
       "    <tr>\n",
       "      <th>3</th>\n",
       "      <td>100</td>\n",
       "      <td>0.110770</td>\n",
       "      <td>0.454545</td>\n",
       "    </tr>\n",
       "    <tr>\n",
       "      <th>4</th>\n",
       "      <td>160</td>\n",
       "      <td>1.772316</td>\n",
       "      <td>1.000000</td>\n",
       "    </tr>\n",
       "  </tbody>\n",
       "</table>\n",
       "</div>"
      ],
      "text/plain": [
       "   Original   scale_1   scale_2\n",
       "0        50 -1.273852  0.000000\n",
       "1        80 -0.443079  0.272727\n",
       "2        90 -0.166155  0.363636\n",
       "3       100  0.110770  0.454545\n",
       "4       160  1.772316  1.000000"
      ]
     },
     "execution_count": 469,
     "metadata": {},
     "output_type": "execute_result"
    }
   ],
   "source": [
    "data1"
   ]
  },
  {
   "cell_type": "code",
   "execution_count": 470,
   "id": "e5455c66",
   "metadata": {},
   "outputs": [
    {
     "name": "stdout",
     "output_type": "stream",
     "text": [
      "  Fruits  Label Encoding\n",
      "0     사과               1\n",
      "1      배               0\n",
      "2     포도               2\n",
      "3     사과               1\n",
      "4     포도               2\n"
     ]
    }
   ],
   "source": [
    "# 레이블의 인코딩\n",
    "encoder_1 = LabelEncoder()\n",
    "data2['Label Encoding'] = encoder_1.fit_transform(data2['Fruits'])\n",
    "\n",
    "print(data2)\n"
   ]
  },
  {
   "cell_type": "code",
   "execution_count": 471,
   "id": "a0827499",
   "metadata": {},
   "outputs": [],
   "source": [
    "encoder_2 = OneHotEncoder(sparse_output=False)\n",
    "onhot_encoded = encoder_2.fit_transform(data2[['Label Encoding']])"
   ]
  },
  {
   "cell_type": "code",
   "execution_count": 472,
   "id": "d6afcdb1",
   "metadata": {},
   "outputs": [
    {
     "name": "stdout",
     "output_type": "stream",
     "text": [
      "['Label Encoding_0' 'Label Encoding_1' 'Label Encoding_2']\n"
     ]
    }
   ],
   "source": [
    "onehot_col = encoder_2.get_feature_names_out()\n",
    "print(onehot_col)"
   ]
  },
  {
   "cell_type": "code",
   "execution_count": 473,
   "id": "cc3d81a8",
   "metadata": {},
   "outputs": [],
   "source": [
    "onehot_df = pd.DataFrame(onhot_encoded, columns=onehot_col)"
   ]
  },
  {
   "cell_type": "code",
   "execution_count": 474,
   "id": "7470fa04",
   "metadata": {},
   "outputs": [
    {
     "data": {
      "text/html": [
       "<div>\n",
       "<style scoped>\n",
       "    .dataframe tbody tr th:only-of-type {\n",
       "        vertical-align: middle;\n",
       "    }\n",
       "\n",
       "    .dataframe tbody tr th {\n",
       "        vertical-align: top;\n",
       "    }\n",
       "\n",
       "    .dataframe thead th {\n",
       "        text-align: right;\n",
       "    }\n",
       "</style>\n",
       "<table border=\"1\" class=\"dataframe\">\n",
       "  <thead>\n",
       "    <tr style=\"text-align: right;\">\n",
       "      <th></th>\n",
       "      <th>Label Encoding_0</th>\n",
       "      <th>Label Encoding_1</th>\n",
       "      <th>Label Encoding_2</th>\n",
       "    </tr>\n",
       "  </thead>\n",
       "  <tbody>\n",
       "    <tr>\n",
       "      <th>0</th>\n",
       "      <td>0.0</td>\n",
       "      <td>1.0</td>\n",
       "      <td>0.0</td>\n",
       "    </tr>\n",
       "    <tr>\n",
       "      <th>1</th>\n",
       "      <td>1.0</td>\n",
       "      <td>0.0</td>\n",
       "      <td>0.0</td>\n",
       "    </tr>\n",
       "    <tr>\n",
       "      <th>2</th>\n",
       "      <td>0.0</td>\n",
       "      <td>0.0</td>\n",
       "      <td>1.0</td>\n",
       "    </tr>\n",
       "    <tr>\n",
       "      <th>3</th>\n",
       "      <td>0.0</td>\n",
       "      <td>1.0</td>\n",
       "      <td>0.0</td>\n",
       "    </tr>\n",
       "    <tr>\n",
       "      <th>4</th>\n",
       "      <td>0.0</td>\n",
       "      <td>0.0</td>\n",
       "      <td>1.0</td>\n",
       "    </tr>\n",
       "  </tbody>\n",
       "</table>\n",
       "</div>"
      ],
      "text/plain": [
       "   Label Encoding_0  Label Encoding_1  Label Encoding_2\n",
       "0               0.0               1.0               0.0\n",
       "1               1.0               0.0               0.0\n",
       "2               0.0               0.0               1.0\n",
       "3               0.0               1.0               0.0\n",
       "4               0.0               0.0               1.0"
      ]
     },
     "execution_count": 474,
     "metadata": {},
     "output_type": "execute_result"
    }
   ],
   "source": [
    "onehot_df"
   ]
  },
  {
   "cell_type": "code",
   "execution_count": 475,
   "id": "8414abeb",
   "metadata": {},
   "outputs": [],
   "source": [
    "data2 = pd.concat([data2, onehot_df], axis=1)"
   ]
  },
  {
   "cell_type": "code",
   "execution_count": 476,
   "id": "950f617d",
   "metadata": {},
   "outputs": [
    {
     "data": {
      "text/html": [
       "<div>\n",
       "<style scoped>\n",
       "    .dataframe tbody tr th:only-of-type {\n",
       "        vertical-align: middle;\n",
       "    }\n",
       "\n",
       "    .dataframe tbody tr th {\n",
       "        vertical-align: top;\n",
       "    }\n",
       "\n",
       "    .dataframe thead th {\n",
       "        text-align: right;\n",
       "    }\n",
       "</style>\n",
       "<table border=\"1\" class=\"dataframe\">\n",
       "  <thead>\n",
       "    <tr style=\"text-align: right;\">\n",
       "      <th></th>\n",
       "      <th>Fruits</th>\n",
       "      <th>Label Encoding</th>\n",
       "      <th>Label Encoding_0</th>\n",
       "      <th>Label Encoding_1</th>\n",
       "      <th>Label Encoding_2</th>\n",
       "    </tr>\n",
       "  </thead>\n",
       "  <tbody>\n",
       "    <tr>\n",
       "      <th>0</th>\n",
       "      <td>사과</td>\n",
       "      <td>1</td>\n",
       "      <td>0.0</td>\n",
       "      <td>1.0</td>\n",
       "      <td>0.0</td>\n",
       "    </tr>\n",
       "    <tr>\n",
       "      <th>1</th>\n",
       "      <td>배</td>\n",
       "      <td>0</td>\n",
       "      <td>1.0</td>\n",
       "      <td>0.0</td>\n",
       "      <td>0.0</td>\n",
       "    </tr>\n",
       "    <tr>\n",
       "      <th>2</th>\n",
       "      <td>포도</td>\n",
       "      <td>2</td>\n",
       "      <td>0.0</td>\n",
       "      <td>0.0</td>\n",
       "      <td>1.0</td>\n",
       "    </tr>\n",
       "    <tr>\n",
       "      <th>3</th>\n",
       "      <td>사과</td>\n",
       "      <td>1</td>\n",
       "      <td>0.0</td>\n",
       "      <td>1.0</td>\n",
       "      <td>0.0</td>\n",
       "    </tr>\n",
       "    <tr>\n",
       "      <th>4</th>\n",
       "      <td>포도</td>\n",
       "      <td>2</td>\n",
       "      <td>0.0</td>\n",
       "      <td>0.0</td>\n",
       "      <td>1.0</td>\n",
       "    </tr>\n",
       "  </tbody>\n",
       "</table>\n",
       "</div>"
      ],
      "text/plain": [
       "  Fruits  Label Encoding  Label Encoding_0  Label Encoding_1  Label Encoding_2\n",
       "0     사과               1               0.0               1.0               0.0\n",
       "1      배               0               1.0               0.0               0.0\n",
       "2     포도               2               0.0               0.0               1.0\n",
       "3     사과               1               0.0               1.0               0.0\n",
       "4     포도               2               0.0               0.0               1.0"
      ]
     },
     "execution_count": 476,
     "metadata": {},
     "output_type": "execute_result"
    }
   ],
   "source": [
    "data2"
   ]
  },
  {
   "cell_type": "markdown",
   "id": "fd0b40a5",
   "metadata": {},
   "source": [
    "--------------"
   ]
  },
  {
   "cell_type": "code",
   "execution_count": 477,
   "id": "7fba8bc4",
   "metadata": {},
   "outputs": [],
   "source": [
    "# 데이터의 병합\n",
    "# 고객 정보 데이터프레임\n",
    "customers = pd.DataFrame({\n",
    "    'customer_id': [1, 2, 3],\n",
    "    'name': ['Alice', 'Bob', 'Charlie']\n",
    "})\n",
    "\n",
    "# 주문 정보 데이터프레임\n",
    "orders = pd.DataFrame({\n",
    "    'order_id': [101, 102, 103],\n",
    "    'customer_id': [1, 2, 4],\n",
    "    'product': ['Laptop', 'Tablet', 'Smartphone']\n",
    "})\n"
   ]
  },
  {
   "cell_type": "code",
   "execution_count": 478,
   "id": "c790d459",
   "metadata": {},
   "outputs": [],
   "source": [
    "import pandas as pd\n",
    "import matplotlib.pyplot as plt\n",
    "import seaborn as sns"
   ]
  },
  {
   "cell_type": "code",
   "execution_count": 479,
   "id": "7f87d9e0",
   "metadata": {},
   "outputs": [],
   "source": [
    "# Mac OS 한글 폰트 설정\n",
    "plt.rcParams['font.family'] = 'AppleGothic'\n",
    "plt.rcParams['axes.unicode_minus'] = False  # 마이너스 기호 깨짐 방지"
   ]
  },
  {
   "cell_type": "code",
   "execution_count": 480,
   "id": "6ad4fa33",
   "metadata": {},
   "outputs": [
    {
     "name": "stdout",
     "output_type": "stream",
     "text": [
      "평균: 19.285714285714285\n",
      "중앙값: 15\n",
      "최빈값: 10\n",
      "여러 최빈값: [2, 3]\n"
     ]
    }
   ],
   "source": [
    "import statistics\n",
    "\n",
    "data = [10, 15, 10, 20, 30, 10, 40]\n",
    "\n",
    "# 평균값 구하기\n",
    "mean_value = statistics.mean(data)\n",
    "print(\"평균:\", mean_value)\n",
    "\n",
    "# 중앙값 구하기\n",
    "median_value = statistics.median(data)  \n",
    "print(\"중앙값:\", median_value)\n",
    "\n",
    "# 최빈값 구하기\n",
    "mode_value = statistics.mode(data)\n",
    "print(\"최빈값:\", mode_value)\n",
    "\n",
    "# 여러 최빈값 구하기\n",
    "from statistics import multimode    \n",
    "modes = multimode([1, 2, 2, 3, 3])\n",
    "print(\"여러 최빈값:\", modes)  # 결과: [2, 3]"
   ]
  },
  {
   "cell_type": "code",
   "execution_count": 481,
   "id": "0e666bac",
   "metadata": {},
   "outputs": [
    {
     "name": "stdout",
     "output_type": "stream",
     "text": [
      "pandas 평균: 19.285714285714285\n",
      "pandas 중앙값: 15.0\n",
      "pandas 최빈값: 10\n"
     ]
    }
   ],
   "source": [
    "# pandas를 이용해서 평균, 중앙값, 최빈값 구하기\n",
    "import pandas as pd\n",
    "\n",
    "data = [10, 15, 10, 20, 30, 10, 40]\n",
    "\n",
    "data_series = pd.Series(data)\n",
    "\n",
    "mean_value_pd = data_series.mean()\n",
    "median_value_pd = data_series.median()\n",
    "mode_value_pd = data_series.mode()[0]  # 최빈값은 Series로 반환되므로 첫 번째 값을 선택\n",
    "\n",
    "print(\"pandas 평균:\", mean_value_pd)\n",
    "print(\"pandas 중앙값:\", median_value_pd)\n",
    "print(\"pandas 최빈값:\", mode_value_pd)"
   ]
  },
  {
   "cell_type": "code",
   "execution_count": 482,
   "id": "084e1ea5",
   "metadata": {},
   "outputs": [
    {
     "name": "stdout",
     "output_type": "stream",
     "text": [
      "numpy 평균: 19.285714285714285\n",
      "numpy 중앙값: 15.0\n",
      "numpy 최빈값: 10\n"
     ]
    }
   ],
   "source": [
    "# numpy를 이용해서 평균, 중앙값, 최빈값 구하기, 수업에서 제외\n",
    "import numpy as np\n",
    "\n",
    "data = [10, 15, 10, 20, 30, 10, 40]\n",
    "\n",
    "mean_value_np = np.mean(data)\n",
    "median_value_np = np.median(data)\n",
    "mode_value_np = statistics.mode(data)  # numpy는 최빈값을 직접 지원하지 않음\n",
    "\n",
    "print(\"numpy 평균:\", mean_value_np)\n",
    "print(\"numpy 중앙값:\", median_value_np)\n",
    "print(\"numpy 최빈값:\", mode_value_np)  # numpy는 최빈값을 직접 지원하지 않음"
   ]
  },
  {
   "cell_type": "code",
   "execution_count": 483,
   "id": "c01ea707",
   "metadata": {},
   "outputs": [
    {
     "name": "stdout",
     "output_type": "stream",
     "text": [
      "분산: 136.9047619047619\n",
      "표준편차: 11.700630833624395\n",
      "1사분위수: 10.0\n",
      "2사분위수 (중앙값): 15.0\n",
      "3사분위수: 30.0\n",
      "4사분위수: 40\n",
      "IQR(사분위 범위): 20.0\n"
     ]
    }
   ],
   "source": [
    "import statistics\n",
    "\n",
    "data = [10, 15, 10, 20, 30, 10, 40]\n",
    "\n",
    "# 분산 구하기\n",
    "var_value = statistics.variance(data)\n",
    "print(\"분산:\", var_value)\n",
    "\n",
    "# 표준편차 구하기\n",
    "std_dev_value = statistics.stdev(data)\n",
    "print(\"표준편차:\", std_dev_value)\n",
    "\n",
    "# 사분위수 구하기\n",
    "q1_value = statistics.quantiles(data, n=4)[0]  # 1사분위수\n",
    "q2_value = statistics.quantiles(data, n=4)[1]  # 2사분위수\n",
    "q3_value = statistics.quantiles(data, n=4)[2]  # 3사분위수\n",
    "q4_value = max(data)  # 4사분위수는 최대값\n",
    "\n",
    "print(\"1사분위수:\", q1_value)\n",
    "print(\"2사분위수 (중앙값):\", q2_value)\n",
    "print(\"3사분위수:\", q3_value)\n",
    "print(\"4사분위수:\", q4_value)\n",
    "\n",
    "# IQR (Interquartile Range) 사분위 범위 구하기\n",
    "iqr_value = q3_value - q1_value\n",
    "print(\"IQR(사분위 범위):\", iqr_value)"
   ]
  },
  {
   "cell_type": "code",
   "execution_count": 484,
   "id": "562354e9",
   "metadata": {},
   "outputs": [
    {
     "name": "stdout",
     "output_type": "stream",
     "text": [
      "pandas 분산: 187.5\n",
      "pandas 표준편차: 13.693063937629153\n",
      "pandas 1사분위수: 65.0\n",
      "pandas 2사분위수 (중앙값): 75.0\n",
      "pandas 3사분위수: 85.0\n",
      "pandas 4사분위수: 95\n",
      "pandas IQR(사분위 범위): 20.0\n"
     ]
    }
   ],
   "source": [
    "# pandas를 이용한 분산, 표준편차, 사분위수\n",
    "import pandas as pd\n",
    "\n",
    "data = {\n",
    "    '점수': [55, 60, 65, 70, 75, 80, 85, 90, 95]\n",
    "}\n",
    "\n",
    "df = pd.DataFrame(data)\n",
    "\n",
    "# 분산 구하기\n",
    "var_value_pd = df['점수'].var()\n",
    "print(\"pandas 분산:\", var_value_pd)\n",
    "\n",
    "# 표준편차 구하기\n",
    "std_dev_value_pd = df['점수'].std()\n",
    "print(\"pandas 표준편차:\", std_dev_value_pd)\n",
    "\n",
    "# 사분위수 구하기\n",
    "q1_value_pd = df['점수'].quantile(0.25)  # 1사분위수\n",
    "q2_value_pd = df['점수'].quantile(0.5)   # 2사분위수 (중앙값)\n",
    "q3_value_pd = df['점수'].quantile(0.75)  # 3사분위수\n",
    "q4_value_pd = df['점수'].max()  # 4사분위수는 최대값\n",
    "\n",
    "print(\"pandas 1사분위수:\", q1_value_pd)\n",
    "print(\"pandas 2사분위수 (중앙값):\", q2_value_pd)\n",
    "print(\"pandas 3사분위수:\", q3_value_pd)\n",
    "print(\"pandas 4사분위수:\", q4_value_pd)\n",
    "\n",
    "# IQR (Interquartile Range) 사분위 범위 구하기\n",
    "iqr_value_pd = q3_value_pd - q1_value_pd\n",
    "print(\"pandas IQR(사분위 범위):\", iqr_value_pd)\n"
   ]
  },
  {
   "cell_type": "code",
   "execution_count": 485,
   "id": "fe0396c3",
   "metadata": {},
   "outputs": [
    {
     "data": {
      "image/png": "[encoded data removed]",
      "text/plain": [
       "<Figure size 640x480 with 1 Axes>"
      ]
     },
     "metadata": {},
     "output_type": "display_data"
    },
    {
     "name": "stdout",
     "output_type": "stream",
     "text": [
      "왜도 (Skewness): -0.0491\n",
      "첨도 (Kurtosis): -0.2745\n"
     ]
    }
   ],
   "source": [
    "import numpy as np\n",
    "import pandas as pd\n",
    "import matplotlib.pyplot as plt\n",
    "import matplotlib as mpl\n",
    "from scipy.stats import skew, kurtosis\n",
    "\n",
    "# 정규분포 데이터 생성 (평균=0, 표준편차=1, 1000개 샘플)\n",
    "data = np.random.normal(loc=0, scale=1, size=1000)\n",
    "\n",
    "# 데이터프레임으로 변환 (선택사항)\n",
    "df = pd.DataFrame(data, columns=['Value'])\n",
    "\n",
    "\n",
    "# 마이너스 기호 깨짐 방지\n",
    "mpl.rcParams['axes.unicode_minus'] = False\n",
    "\n",
    "# 정규분포 히스토그램 시각화\n",
    "plt.hist(df['Value'], bins=30, edgecolor='black', alpha=0.7)\n",
    "plt.title('정규분포 히스토그램')\n",
    "plt.xlabel('값')\n",
    "plt.ylabel('빈도수')\n",
    "plt.grid(True)\n",
    "plt.show()\n",
    "\n",
    "# 왜도(Skewness) 계산\n",
    "skewness = skew(df['Value'])\n",
    "print(f\"왜도 (Skewness): {skewness:.4f}\")\n",
    "\n",
    "# 첨도(Kurtosis) 계산\n",
    "kurt = kurtosis(df['Value'])  # Fisher 방식 (정규분포면 0이 나옴)\n",
    "print(f\"첨도 (Kurtosis): {kurt:.4f}\")\n"
   ]
  },
  {
   "cell_type": "code",
   "execution_count": 486,
   "id": "e68d397b",
   "metadata": {},
   "outputs": [
    {
     "name": "stdout",
     "output_type": "stream",
     "text": [
      "Inner Join:\n",
      "    customer_id   name  order_id product\n",
      "0            1  Alice       101  Laptop\n",
      "1            2    Bob       102  Tablet\n",
      "\n",
      "Left Join:\n",
      "    customer_id     name  order_id product\n",
      "0            1    Alice     101.0  Laptop\n",
      "1            2      Bob     102.0  Tablet\n",
      "2            3  Charlie       NaN     NaN\n"
     ]
    }
   ],
   "source": [
    "import pandas as pd\n",
    "\n",
    "# 고객 정보 데이터프레임\n",
    "customers = pd.DataFrame({\n",
    "    'customer_id': [1, 2, 3],\n",
    "    'name': ['Alice', 'Bob', 'Charlie']\n",
    "})\n",
    "\n",
    "# 주문 정보 데이터프레임\n",
    "orders = pd.DataFrame({\n",
    "    'order_id': [101, 102, 103],\n",
    "    'customer_id': [1, 2, 4],\n",
    "    'product': ['Laptop', 'Tablet', 'Smartphone']\n",
    "})\n",
    "\n",
    "# Inner Join (공통된 customer_id로만 합침)\n",
    "result_inner = pd.merge(customers, orders, on='customer_id', how='inner')\n",
    "\n",
    "# Left Join (customers 데이터프레임의 모든 값 유지)\n",
    "result_left = pd.merge(customers, orders, on='customer_id', how='left')\n",
    "\n",
    "# 결과 출력\n",
    "print(\"Inner Join:\\n\", result_inner)\n",
    "print(\"\\nLeft Join:\\n\", result_left)\n"
   ]
  },
  {
   "cell_type": "code",
   "execution_count": 487,
   "id": "b3431216",
   "metadata": {},
   "outputs": [
    {
     "name": "stdout",
     "output_type": "stream",
     "text": [
      "      month     product  sales\n",
      "0   January      Laptop    100\n",
      "1   January      Tablet    150\n",
      "2   January  Smartphone    200\n",
      "0  February      Laptop    120\n",
      "1  February      Tablet    160\n",
      "2  February  Smartphone    220\n"
     ]
    }
   ],
   "source": [
    "import pandas as pd\n",
    "\n",
    "# 1월 매출 데이터\n",
    "sales_jan = pd.DataFrame({\n",
    "    'month': ['January', 'January', 'January'],\n",
    "    'product': ['Laptop', 'Tablet', 'Smartphone'],\n",
    "    'sales': [100, 150, 200]\n",
    "})\n",
    "\n",
    "# 2월 매출 데이터\n",
    "sales_feb = pd.DataFrame({\n",
    "    'month': ['February', 'February', 'February'],\n",
    "    'product': ['Laptop', 'Tablet', 'Smartphone'],\n",
    "    'sales': [120, 160, 220]\n",
    "})\n",
    "\n",
    "# Row-wise Concatenation (1월과 2월 데이터를 이어붙임)\n",
    "sales_combined = pd.concat([sales_jan, sales_feb], axis=0)\n",
    "\n",
    "# 결과 출력\n",
    "print(sales_combined)"
   ]
  },
  {
   "cell_type": "code",
   "execution_count": 488,
   "id": "4eb28351",
   "metadata": {},
   "outputs": [
    {
     "data": {
      "image/png": "[encoded data removed]",
      "text/plain": [
       "<Figure size 640x480 with 1 Axes>"
      ]
     },
     "metadata": {},
     "output_type": "display_data"
    }
   ],
   "source": [
    "import seaborn as sns\n",
    "import matplotlib.pyplot as plt\n",
    "\n",
    "# 학생 점수 데이터\n",
    "scores = [56, 67, 45, 89, 90, 77, 68, 88, 92, 76, 58, 70, 73, 85, 62]\n",
    "\n",
    "# Seaborn 히스토그램 생성\n",
    "sns.histplot(scores, bins=5, kde=True, color='blue', edgecolor='black')\n",
    "\n",
    "\n",
    "# kde=True는 밀도곡선 추가\n",
    "# bins=5 5개 구간으로 구분\n",
    "\n",
    "plt.title(\"학생 점수 분포\")\n",
    "plt.xlabel(\"점수 구간\")\n",
    "plt.ylabel(\"학생 수\")\n",
    "plt.show()\n"
   ]
  },
  {
   "cell_type": "code",
   "execution_count": 489,
   "id": "8720fab0",
   "metadata": {},
   "outputs": [
    {
     "data": {
      "image/png": "[encoded data removed]",
      "text/plain": [
       "<Figure size 640x480 with 1 Axes>"
      ]
     },
     "metadata": {},
     "output_type": "display_data"
    }
   ],
   "source": [
    "import matplotlib.pyplot as plt\n",
    "\n",
    "# 데이터 변환: Seaborn은 Long Format 데이터가 필요\n",
    "# 부서별 월급 데이터\n",
    "departments = ['HR', 'IT', 'Finance']\n",
    "salaries = [\n",
    "    [3000, 3200, 3100, 2800, 2700], # HR\n",
    "    [4500, 4600, 4700, 4400, 4800], # IT\n",
    "    [5200, 5300, 5000, 4900, 5400]  # Finance\n",
    "]\n",
    "\n",
    "# 박스플롯 생성\n",
    "plt.boxplot(salaries, tick_labels=departments)\n",
    "plt.title(\"부서별 월급 분포\")\n",
    "plt.ylabel(\"월급\")\n",
    "plt.show()\n"
   ]
  },
  {
   "cell_type": "code",
   "execution_count": 490,
   "id": "31018687",
   "metadata": {},
   "outputs": [
    {
     "data": {
      "image/png": "[encoded data removed]",
      "text/plain": [
       "<Figure size 640x480 with 1 Axes>"
      ]
     },
     "metadata": {},
     "output_type": "display_data"
    }
   ],
   "source": [
    "import seaborn as sns\n",
    "import matplotlib.pyplot as plt\n",
    "\n",
    "# 데이터\n",
    "import pandas as pd\n",
    "data = pd.DataFrame({\n",
    "    'Ad_Spend': [100, 200, 300, 400, 500],\n",
    "    'Sales': [10, 15, 20, 25, 30]\n",
    "})\n",
    "\n",
    "\n",
    "# 산점도 생성\n",
    "sns.scatterplot(x='Ad_Spend', y='Sales', data=data)\n",
    "plt.title(\"광고비와 판매량 간의 관계\")\n",
    "plt.xlabel(\"광고비 (단위: $)\")\n",
    "plt.ylabel(\"판매량 (단위: 개)\")\n",
    "plt.show()\n"
   ]
  },
  {
   "cell_type": "code",
   "execution_count": 491,
   "id": "2a8f67fe",
   "metadata": {},
   "outputs": [
    {
     "data": {
      "image/png": "[encoded data removed]",
      "text/plain": [
       "<Figure size 640x480 with 2 Axes>"
      ]
     },
     "metadata": {},
     "output_type": "display_data"
    }
   ],
   "source": [
    "import seaborn as sns\n",
    "import matplotlib.pyplot as plt\n",
    "import pandas as pd\n",
    "\n",
    "# 데이터 생성\n",
    "data = pd.DataFrame({\n",
    "    'Math': [90, 80, 70, 60, 85],\n",
    "    'English': [85, 75, 65, 55, 10],\n",
    "    'Science': [88, 78, 68, 58, 23]\n",
    "})\n",
    "\n",
    "# 상관계수 계산\n",
    "correlation = data.corr()\n",
    "\n",
    "# 히트맵 생성\n",
    "sns.heatmap(correlation, annot=True, cmap='coolwarm')\n",
    "plt.title(\"과목 간 상관관계 히트맵\")\n",
    "plt.show()\n"
   ]
  },
  {
   "cell_type": "code",
   "execution_count": 492,
   "id": "40cc2cae",
   "metadata": {},
   "outputs": [
    {
     "data": {
      "image/png": "[encoded data removed]",
      "text/plain": [
       "<Figure size 750x750 with 12 Axes>"
      ]
     },
     "metadata": {},
     "output_type": "display_data"
    }
   ],
   "source": [
    "import seaborn as sns\n",
    "import matplotlib.pyplot as plt\n",
    "import pandas as pd\n",
    "\n",
    "# 데이터\n",
    "data = pd.DataFrame({\n",
    "    'Area': [50, 60, 70, 80, 90],\n",
    "    'Rooms': [1, 2, 3, 3, 4],\n",
    "    'Price': [200, 250, 300, 350, 400]\n",
    "})\n",
    "\n",
    "# 페어플롯 생성\n",
    "sns.pairplot(data)\n",
    "plt.suptitle(\"주택 데이터 변수 간 관계\", y=1.02)\n",
    "plt.show()\n"
   ]
  },
  {
   "cell_type": "code",
   "execution_count": 493,
   "id": "6b2ff495",
   "metadata": {},
   "outputs": [
    {
     "data": {
      "image/png": "[encoded data removed]",
      "text/plain": [
       "<Figure size 750x750 with 12 Axes>"
      ]
     },
     "metadata": {},
     "output_type": "display_data"
    }
   ],
   "source": [
    "import seaborn as sns\n",
    "import matplotlib.pyplot as plt\n",
    "import pandas as pd\n",
    "\n",
    "# 데이터\n",
    "data = pd.DataFrame({\n",
    "    'Area': [50, 60, 70, 80, 90],\n",
    "    'Rooms': [1, 2, 3, 3, 4],\n",
    "    'Price': [200, 250, 300, 350, 400]\n",
    "})\n",
    "\n",
    "# 페어플롯 생성\n",
    "sns.pairplot(data)\n",
    "plt.suptitle(\"주택 데이터 변수 간 관계\", y=1.02)\n",
    "plt.show()\n"
   ]
  },
  {
   "cell_type": "code",
   "execution_count": 494,
   "id": "830d4d67",
   "metadata": {},
   "outputs": [
    {
     "data": {
      "image/png": "[encoded data removed]",
      "text/plain": [
       "<Figure size 640x480 with 1 Axes>"
      ]
     },
     "metadata": {},
     "output_type": "display_data"
    }
   ],
   "source": [
    "import seaborn as sns\n",
    "import matplotlib.pyplot as plt\n",
    "import pandas as pd\n",
    "\n",
    "# data set\n",
    "data = pd.DataFrame({\n",
    "    'Product' : ['A', 'B', 'A', 'C', 'B', 'A', 'B', 'C', 'A', 'A', 'D', 'D', 'D', 'D', 'D', 'D']\n",
    "})\n",
    "\n",
    "sns.countplot(x='Product', data=data)\n",
    "plt.title('제품선호도')\n",
    "plt.xlabel('제품')\n",
    "plt.ylabel('선호도 수')\n",
    "plt.show()"
   ]
  },
  {
   "cell_type": "markdown",
   "id": "7791b739",
   "metadata": {},
   "source": [
    "### EDA 단계"
   ]
  },
  {
   "cell_type": "code",
   "execution_count": 495,
   "id": "993e4be3",
   "metadata": {},
   "outputs": [
    {
     "name": "stdout",
     "output_type": "stream",
     "text": [
      "      Name  Age         City\n",
      "0    Alice   30     New York\n",
      "1      Bob   25  Los Angeles\n",
      "2  Charlie   35      Chicago\n",
      "<class 'pandas.core.frame.DataFrame'>\n",
      "RangeIndex: 3 entries, 0 to 2\n",
      "Data columns (total 3 columns):\n",
      " #   Column  Non-Null Count  Dtype \n",
      "---  ------  --------------  ----- \n",
      " 0   Name    3 non-null      object\n",
      " 1   Age     3 non-null      int64 \n",
      " 2   City    3 non-null      object\n",
      "dtypes: int64(1), object(2)\n",
      "memory usage: 204.0+ bytes\n",
      "None\n",
      "        Age\n",
      "count   3.0\n",
      "mean   30.0\n",
      "std     5.0\n",
      "min    25.0\n",
      "25%    27.5\n",
      "50%    30.0\n",
      "75%    32.5\n",
      "max    35.0\n"
     ]
    }
   ],
   "source": [
    "import pandas as pd\n",
    "\n",
    "# 데이터 불러오기\n",
    "df = pd.read_csv('data1.csv')\n",
    "\n",
    "# 기본 정보 확인\n",
    "print(df.head())         # 데이터 상위 5행 확인\n",
    "print(df.info())         # 데이터 타입과 결측치 확인\n",
    "print(df.describe())     # 수치형 데이터의 요약 통계량"
   ]
  },
  {
   "cell_type": "code",
   "execution_count": 496,
   "id": "e3f23439",
   "metadata": {},
   "outputs": [
    {
     "name": "stdout",
     "output_type": "stream",
     "text": [
      "Name    0\n",
      "Age     0\n",
      "City    0\n",
      "dtype: int64\n"
     ]
    },
    {
     "data": {
      "image/png": "[encoded data removed]",
      "text/plain": [
       "<Figure size 640x480 with 1 Axes>"
      ]
     },
     "metadata": {},
     "output_type": "display_data"
    }
   ],
   "source": [
    "# 결측값 확인\n",
    "print(df.isnull().sum())\n",
    "\n",
    "# 이상치 시각화 예제\n",
    "import matplotlib.pyplot as plt\n",
    "import seaborn as sns\n",
    "\n",
    "sns.boxplot(x=df['Age'])\n",
    "plt.show()\n"
   ]
  },
  {
   "cell_type": "code",
   "execution_count": 497,
   "id": "2ea8e687",
   "metadata": {},
   "outputs": [
    {
     "data": {
      "image/png": "[encoded data removed]",
      "text/plain": [
       "<Figure size 640x480 with 1 Axes>"
      ]
     },
     "metadata": {},
     "output_type": "display_data"
    }
   ],
   "source": [
    "# 데이터 분포 확인\n",
    "# 히스토그램\n",
    "df['Age'].hist(bins=30)\n",
    "plt.show()"
   ]
  },
  {
   "cell_type": "markdown",
   "id": "0dcfc5d8",
   "metadata": {},
   "source": [
    "### EDA 활용 예시"
   ]
  },
  {
   "cell_type": "code",
   "execution_count": 498,
   "id": "b5498a46",
   "metadata": {},
   "outputs": [
    {
     "name": "stdout",
     "output_type": "stream",
     "text": [
      "      Name   Age   Salary Department\n",
      "0    Alice  25.0  50000.0         HR\n",
      "1      Bob  30.0  60000.0         IT\n",
      "2  Charlie   NaN  75000.0    Finance\n",
      "3    David  35.0  80000.0         IT\n",
      "4     Emma  29.0      NaN         HR\n",
      "5    Alice  25.0  50000.0         HR\n"
     ]
    }
   ],
   "source": [
    "import pandas as pd\n",
    "# 샘플 데이터\n",
    "data = {\n",
    "    'Name': ['Alice', 'Bob', 'Charlie', 'David', 'Emma','Alice'],\n",
    "    'Age': [25, 30, None, 35, 29, 25],\n",
    "    'Salary': [50000, 60000, 75000, 80000, None, 50000],\n",
    "    'Department': ['HR', 'IT', 'Finance', 'IT', 'HR', 'HR']\n",
    "}\n",
    "df = pd.DataFrame(data)\n",
    "print(df)"
   ]
  },
  {
   "cell_type": "code",
   "execution_count": 499,
   "id": "98cd954c",
   "metadata": {},
   "outputs": [
    {
     "name": "stdout",
     "output_type": "stream",
     "text": [
      "(6, 4)\n"
     ]
    }
   ],
   "source": [
    "\n",
    "# 데이터 크기 확인\n",
    "print(df.shape)\n"
   ]
  },
  {
   "cell_type": "code",
   "execution_count": 500,
   "id": "f1e48593",
   "metadata": {},
   "outputs": [
    {
     "name": "stdout",
     "output_type": "stream",
     "text": [
      "<class 'pandas.core.frame.DataFrame'>\n",
      "RangeIndex: 6 entries, 0 to 5\n",
      "Data columns (total 4 columns):\n",
      " #   Column      Non-Null Count  Dtype  \n",
      "---  ------      --------------  -----  \n",
      " 0   Name        6 non-null      object \n",
      " 1   Age         5 non-null      float64\n",
      " 2   Salary      5 non-null      float64\n",
      " 3   Department  6 non-null      object \n",
      "dtypes: float64(2), object(2)\n",
      "memory usage: 324.0+ bytes\n",
      "None\n"
     ]
    }
   ],
   "source": [
    "\n",
    "# 데이터 타입 및 결측값 확인\n",
    "print(df.info())\n"
   ]
  },
  {
   "cell_type": "code",
   "execution_count": 501,
   "id": "bb15a59b",
   "metadata": {},
   "outputs": [
    {
     "name": "stdout",
     "output_type": "stream",
     "text": [
      "             Age        Salary\n",
      "count   5.000000      5.000000\n",
      "mean   28.800000  63000.000000\n",
      "std     4.147288  13964.240044\n",
      "min    25.000000  50000.000000\n",
      "25%    25.000000  50000.000000\n",
      "50%    29.000000  60000.000000\n",
      "75%    30.000000  75000.000000\n",
      "max    35.000000  80000.000000\n"
     ]
    }
   ],
   "source": [
    "# 수치형 데이터 통계 요약\n",
    "print(df.describe())\n"
   ]
  },
  {
   "cell_type": "code",
   "execution_count": 502,
   "id": "78df8d28",
   "metadata": {},
   "outputs": [
    {
     "name": "stdout",
     "output_type": "stream",
     "text": [
      "Name          0\n",
      "Age           1\n",
      "Salary        1\n",
      "Department    0\n",
      "dtype: int64\n"
     ]
    }
   ],
   "source": [
    "\n",
    "# 결측값 확인\n",
    "print(df.isnull().sum())\n"
   ]
  },
  {
   "cell_type": "code",
   "execution_count": 503,
   "id": "86795e24",
   "metadata": {},
   "outputs": [
    {
     "name": "stdout",
     "output_type": "stream",
     "text": [
      "Name           object\n",
      "Age           float64\n",
      "Salary        float64\n",
      "Department     object\n",
      "dtype: object\n"
     ]
    }
   ],
   "source": [
    "\n",
    "# 데이터 타입 확인\n",
    "print(df.dtypes)\n"
   ]
  },
  {
   "cell_type": "code",
   "execution_count": 504,
   "id": "87b9e08e",
   "metadata": {},
   "outputs": [
    {
     "name": "stdout",
     "output_type": "stream",
     "text": [
      "1\n",
      "0    False\n",
      "1    False\n",
      "2    False\n",
      "3    False\n",
      "4    False\n",
      "5     True\n",
      "dtype: bool\n"
     ]
    }
   ],
   "source": [
    "# 중복값 => 행의 모든 컴럼값이 동일한 값\n",
    "print(df.duplicated().sum())\n",
    "print(df.duplicated())"
   ]
  },
  {
   "cell_type": "code",
   "execution_count": 505,
   "id": "3dc3c4dd",
   "metadata": {},
   "outputs": [
    {
     "name": "stdout",
     "output_type": "stream",
     "text": [
      "   scores\n",
      "0      85\n",
      "1      90\n",
      "2      78\n",
      "3      92\n",
      "4      88\n",
      "5      76\n",
      "6      95\n",
      "7      89\n",
      "8      77\n",
      "9      85\n"
     ]
    }
   ],
   "source": [
    "import pandas as pd\n",
    "# 예제 데이터\n",
    "data = {\n",
    "    'scores': [85, 90, 78, 92, 88, 76, 95, 89, 77, 85]\n",
    "}\n",
    "df = pd.DataFrame(data)\n",
    "print(df)"
   ]
  },
  {
   "cell_type": "code",
   "execution_count": 506,
   "id": "0a478119",
   "metadata": {},
   "outputs": [
    {
     "name": "stdout",
     "output_type": "stream",
     "text": [
      "평균 :  85.5\n",
      "중앙값 :  86.5\n",
      "최빈값 :  85\n",
      "분산 값 :  43.388888888888886\n",
      "표준편차 :  6.587024281789835\n",
      "최고값 : 95, 최소값 : 76\n"
     ]
    }
   ],
   "source": [
    "# 평균\n",
    "print('평균 : ',df['scores'].mean())\n",
    "# 중앙값\n",
    "print('중앙값 : ', df['scores'].median())\n",
    "# 최빈값\n",
    "print('최빈값 : ', df['scores'].mode()[0])\n",
    "# 분산값\n",
    "print('분산 값 : ', df['scores'].var())\n",
    "# 표준편차\n",
    "print('표준편차 : ', df['scores'].std())\n",
    "# 최고값,최소값\n",
    "print(f'최고값 : {df['scores'].max()}, 최소값 : {df['scores'].min()}')"
   ]
  },
  {
   "cell_type": "code",
   "execution_count": 507,
   "id": "609294da",
   "metadata": {},
   "outputs": [
    {
     "name": "stdout",
     "output_type": "stream",
     "text": [
      "왜도 :  -0.2507955722436133\n",
      "첨도 :  -1.225550486014679\n"
     ]
    }
   ],
   "source": [
    "from scipy.stats import skew, kurtosis\n",
    "\n",
    "print('왜도 : ', skew(df['scores']))\n",
    "print('첨도 : ', kurtosis(df['scores']))\n"
   ]
  },
  {
   "cell_type": "markdown",
   "id": "df45bd4a",
   "metadata": {},
   "source": [
    "### 그룹화와 집계"
   ]
  },
  {
   "cell_type": "code",
   "execution_count": 508,
   "id": "fc3e397f",
   "metadata": {},
   "outputs": [
    {
     "name": "stdout",
     "output_type": "stream",
     "text": [
      "      Name Department  Salary\n",
      "0    Alice         HR   50000\n",
      "1      Bob         IT   60000\n",
      "2  Charlie         HR   55000\n",
      "3    David         IT   70000\n",
      "4      Eva    Finance   65000\n"
     ]
    }
   ],
   "source": [
    "#데이터의 그룹화\n",
    "# 샘플 데이터\n",
    "data = {\n",
    "    'Name': ['Alice', 'Bob', 'Charlie', 'David', 'Eva'],\n",
    "    'Department': ['HR', 'IT', 'HR', 'IT', 'Finance'],\n",
    "    'Salary': [50000, 60000, 55000, 70000, 65000]\n",
    "}\n",
    "\n",
    "df = pd.DataFrame(data)\n",
    "print(df)"
   ]
  },
  {
   "cell_type": "code",
   "execution_count": 509,
   "id": "eb2341d0",
   "metadata": {},
   "outputs": [
    {
     "name": "stdout",
     "output_type": "stream",
     "text": [
      "Department\n",
      "Finance    65000.0\n",
      "HR         52500.0\n",
      "IT         65000.0\n",
      "Name: Salary, dtype: float64\n"
     ]
    }
   ],
   "source": [
    "# 그룹화 및 집계 : 부서별(groupby) 집계\n",
    "grouped = df.groupby('Department')['Salary'].mean()\n",
    "print(grouped)"
   ]
  },
  {
   "cell_type": "code",
   "execution_count": 510,
   "id": "f3436e6e",
   "metadata": {},
   "outputs": [
    {
     "data": {
      "text/plain": [
       "Department\n",
       "Finance    65000.0\n",
       "HR         52500.0\n",
       "IT         65000.0\n",
       "Name: Salary, dtype: float64"
      ]
     },
     "execution_count": 510,
     "metadata": {},
     "output_type": "execute_result"
    }
   ],
   "source": [
    "grouped"
   ]
  },
  {
   "cell_type": "code",
   "execution_count": 511,
   "id": "b0d15134",
   "metadata": {},
   "outputs": [
    {
     "name": "stdout",
     "output_type": "stream",
     "text": [
      "             Salary\n",
      "Department         \n",
      "Finance     65000.0\n",
      "HR          52500.0\n",
      "IT          65000.0\n"
     ]
    }
   ],
   "source": [
    "# 피봇 테이블\n",
    "pivot_table = pd.pivot_table(df, values='Salary', index='Department', aggfunc='mean')\n",
    "print(pivot_table)"
   ]
  },
  {
   "cell_type": "code",
   "execution_count": 512,
   "id": "b245090e",
   "metadata": {},
   "outputs": [
    {
     "name": "stdout",
     "output_type": "stream",
     "text": [
      "               sum     mean\n",
      "            Salary   Salary\n",
      "Department                 \n",
      "Finance      65000  65000.0\n",
      "HR          105000  52500.0\n",
      "IT          130000  65000.0\n"
     ]
    }
   ],
   "source": [
    "p_table = pd.pivot_table(df, values='Salary', index='Department', aggfunc=['sum', 'mean'])\n",
    "print(p_table)"
   ]
  },
  {
   "cell_type": "code",
   "execution_count": 513,
   "id": "94f87346",
   "metadata": {},
   "outputs": [
    {
     "name": "stdout",
     "output_type": "stream",
     "text": [
      "    City  Year  Sales\n",
      "0  Seoul  2021    500\n",
      "1  Seoul  2022    700\n",
      "2  Busan  2021    200\n",
      "3  Busan  2022    300\n",
      "4  Daegu  2021    400\n"
     ]
    }
   ],
   "source": [
    "data = {\n",
    "    'City': ['Seoul', 'Seoul', 'Busan', 'Busan',\n",
    "    'Daegu'],\n",
    "    'Year': [2021, 2022, 2021, 2022, 2021],\n",
    "    'Sales': [500, 700, 200, 300, 400]\n",
    "}\n",
    "df = pd.DataFrame(data)\n",
    "print(df)"
   ]
  },
  {
   "cell_type": "code",
   "execution_count": 514,
   "id": "1f71ae34",
   "metadata": {},
   "outputs": [
    {
     "name": "stdout",
     "output_type": "stream",
     "text": [
      "Year\n",
      "2021    3\n",
      "2022    2\n",
      "Name: Sales, dtype: int64\n",
      "Year\n",
      "2021    366.666667\n",
      "2022    500.000000\n",
      "Name: Sales, dtype: float64\n"
     ]
    }
   ],
   "source": [
    "gr_table1 = df.groupby('Year')['Sales'].count()\n",
    "gr_table2 = df.groupby('Year')['Sales'].mean()\n",
    "print(gr_table1)\n",
    "print(gr_table2)"
   ]
  },
  {
   "cell_type": "code",
   "execution_count": 515,
   "id": "0530ddd5",
   "metadata": {},
   "outputs": [
    {
     "name": "stdout",
     "output_type": "stream",
     "text": [
      "      count   sum   mean   max   min\n",
      "      Sales Sales  Sales Sales Sales\n",
      "City                                \n",
      "Busan     2   500  250.0   300   200\n",
      "Daegu     1   400  400.0   400   400\n",
      "Seoul     2  1200  600.0   700   500\n"
     ]
    }
   ],
   "source": [
    "p_table1 = pd.pivot_table(df, values='Sales', index='City', aggfunc=['count', 'sum', 'mean', 'max', 'min'])\n",
    "print(p_table1)"
   ]
  },
  {
   "cell_type": "code",
   "execution_count": 516,
   "id": "db5b8db4",
   "metadata": {},
   "outputs": [
    {
     "name": "stdout",
     "output_type": "stream",
     "text": [
      "Dataset 1:\n",
      "             Sales\n",
      "count    4.000000\n",
      "mean   187.500000\n",
      "std     85.391256\n",
      "min    100.000000\n",
      "25%    137.500000\n",
      "50%    175.000000\n",
      "75%    225.000000\n",
      "max    300.000000\n",
      "--------------------------------------------------\n",
      "Dataset 2:\n",
      "             Sales\n",
      "count    4.000000\n",
      "mean   195.000000\n",
      "std     59.721576\n",
      "min    120.000000\n",
      "25%    165.000000\n",
      "50%    200.000000\n",
      "75%    230.000000\n",
      "max    260.000000\n"
     ]
    }
   ],
   "source": [
    "import pandas as pd\n",
    "\n",
    "# 샘플 데이터\n",
    "data1 = {'Sales': [100, 200, 150, 300]}\n",
    "data2 = {'Sales': [120, 220, 180, 260]}\n",
    "\n",
    "df1 = pd.DataFrame(data1, columns=['Sales'])\n",
    "df2 = pd.DataFrame(data2, columns=['Sales'])\n",
    "\n",
    "# 기술 통계 계산\n",
    "print(\"Dataset 1:\\n\", df1.describe())\n",
    "print('-' * 50)\n",
    "print(\"Dataset 2:\\n\", df2.describe())\n"
   ]
  },
  {
   "cell_type": "code",
   "execution_count": 517,
   "id": "f6f09194",
   "metadata": {},
   "outputs": [
    {
     "data": {
      "image/png": "[encoded data removed]",
      "text/plain": [
       "<Figure size 640x480 with 1 Axes>"
      ]
     },
     "metadata": {},
     "output_type": "display_data"
    }
   ],
   "source": [
    "import matplotlib.pyplot as plt\n",
    "# 데이터\n",
    "x = ['Q1', 'Q2', 'Q3', 'Q4']\n",
    "y1 = [100, 200, 150, 300]\n",
    "y2 = [120, 220, 180, 260]\n",
    "\n",
    "# 그래프 생성\n",
    "plt.plot(x, y1, label='Dataset 1', marker='o')\n",
    "plt.plot(x, y2, label='Dataset 2', marker='o')\n",
    "plt.title('Quarterly Sales Comparison')\n",
    "plt.xlabel('Quarter')\n",
    "plt.ylabel('Sales')\n",
    "plt.legend()\n",
    "plt.show()"
   ]
  },
  {
   "cell_type": "code",
   "execution_count": 518,
   "id": "cd266c45",
   "metadata": {},
   "outputs": [
    {
     "name": "stdout",
     "output_type": "stream",
     "text": [
      "[20, 20, 30, -40]\n"
     ]
    }
   ],
   "source": [
    "import numpy as np\n",
    "\n",
    "dataset1 = [100, 200, 150, 300]\n",
    "dataset2 = [120, 220, 180, 260]\n",
    "\n",
    "# 두 데이터 센의 차\n",
    "diff = [b - a for a, b in zip(dataset1, dataset2)]\n",
    "print(diff)"
   ]
  },
  {
   "cell_type": "code",
   "execution_count": 519,
   "id": "5758d4d3",
   "metadata": {},
   "outputs": [
    {
     "name": "stdout",
     "output_type": "stream",
     "text": [
      "Correlation Coefficient: 0.9641089191635356\n"
     ]
    }
   ],
   "source": [
    "# 상관 계수 계산, \n",
    "# 양의 상관 관계: 키가 커질수록 몸무게가 증가하는 경우.\n",
    "correlation = np.corrcoef(dataset1, dataset2)[0, 1]\n",
    "print(f\"Correlation Coefficient: {correlation}\")\n"
   ]
  },
  {
   "cell_type": "code",
   "execution_count": 520,
   "id": "0a4d8342",
   "metadata": {},
   "outputs": [
    {
     "name": "stdout",
     "output_type": "stream",
     "text": [
      "Year    2021  2022\n",
      "Region            \n",
      "East    1100   700\n",
      "West     200   300\n"
     ]
    }
   ],
   "source": [
    "import pandas as pd\n",
    "\n",
    "# 데이터\n",
    "data = {\n",
    "    'Region': ['East', 'East', 'West', 'West', 'East'],\n",
    "    'Year': [2021, 2022, 2021, 2022, 2021],\n",
    "    'Sales': [500, 700, 200, 300, 600]\n",
    "}\n",
    "df = pd.DataFrame(data)\n",
    "\n",
    "pivot = pd.pivot_table(df, values='Sales', index='Region', columns='Year', aggfunc='sum')\n",
    "print(pivot)\n"
   ]
  },
  {
   "cell_type": "code",
   "execution_count": 521,
   "id": "a777a443",
   "metadata": {},
   "outputs": [
    {
     "name": "stdout",
     "output_type": "stream",
     "text": [
      "            날짜    매출\n",
      "0   2024-01-01  6787\n",
      "1   2024-01-02  4325\n",
      "2   2024-01-03  8409\n",
      "3   2024-01-04  4714\n",
      "4   2024-01-05  1278\n",
      "..         ...   ...\n",
      "361 2024-12-27  9107\n",
      "362 2024-12-28  5620\n",
      "363 2024-12-29  9500\n",
      "364 2024-12-30  2796\n",
      "365 2024-12-31  7694\n",
      "\n",
      "[366 rows x 2 columns]\n"
     ]
    }
   ],
   "source": [
    "import numpy as np\n",
    "import pandas as pd\n",
    "import matplotlib.pyplot as plt\n",
    "\n",
    "# 무작위 데이터 생성을 위한 시드 고정 (결과 재현 가능하게 함)\n",
    "np.random.seed(12)\n",
    "\n",
    "# 2024년 1월 1일부터 12월 31일까지 하루 단위로 날짜 생성\n",
    "dates = pd.date_range('2024-01-01', '2024-12-31', freq='D')\n",
    "\n",
    "# 각 날짜마다 매출 데이터를 1000~9999 사이의 정수로 무작위 생성\n",
    "sales = np.random.randint(1000, 10000, len(dates))\n",
    "\n",
    "# 날짜와 매출 데이터를 데이터프레임으로 생성\n",
    "__df = pd.DataFrame({'날짜': dates, '매출': sales})\n",
    "\n",
    "# 생성된 전체 데이터프레임 출력\n",
    "print(__df)\n"
   ]
  },
  {
   "cell_type": "code",
   "execution_count": 522,
   "id": "e0f4ec3e",
   "metadata": {},
   "outputs": [
    {
     "data": {
      "text/plain": [
       "0       1\n",
       "1       2\n",
       "2       3\n",
       "3       4\n",
       "4       5\n",
       "       ..\n",
       "361    27\n",
       "362    28\n",
       "363    29\n",
       "364    30\n",
       "365    31\n",
       "Name: 날짜, Length: 366, dtype: int32"
      ]
     },
     "execution_count": 522,
     "metadata": {},
     "output_type": "execute_result"
    }
   ],
   "source": [
    "# 날짜에서 '일(day), month, year'만 추출 (단순 확인용, 저장하지는 않음)\n",
    "__df['날짜'].dt.day"
   ]
  },
  {
   "cell_type": "code",
   "execution_count": 523,
   "id": "62300cea",
   "metadata": {},
   "outputs": [
    {
     "name": "stdout",
     "output_type": "stream",
     "text": [
      "            날짜    매출   월\n",
      "0   2024-01-01  6787   1\n",
      "1   2024-01-02  4325   1\n",
      "2   2024-01-03  8409   1\n",
      "3   2024-01-04  4714   1\n",
      "4   2024-01-05  1278   1\n",
      "..         ...   ...  ..\n",
      "361 2024-12-27  9107  12\n",
      "362 2024-12-28  5620  12\n",
      "363 2024-12-29  9500  12\n",
      "364 2024-12-30  2796  12\n",
      "365 2024-12-31  7694  12\n",
      "\n",
      "[366 rows x 3 columns]\n"
     ]
    }
   ],
   "source": [
    "# 날짜에서 '월(month)'만 추출하여 새로운 '월' 열로 추가\n",
    "__df['월'] = __df['날짜'].dt.month\n",
    "\n",
    "# 월 컬럼이 추가된 데이터프레임 출력\n",
    "print(__df)\n",
    "\n",
    "# 월별로 그룹화하여 매출 합계를 계산 (월별 총 매출)\n",
    "monthly_sales = __df.groupby('월')['매출'].sum()"
   ]
  },
  {
   "cell_type": "code",
   "execution_count": 524,
   "id": "bbc929dc",
   "metadata": {},
   "outputs": [
    {
     "data": {
      "text/plain": [
       "월\n",
       "1     177351\n",
       "2     155754\n",
       "3     134309\n",
       "4     154242\n",
       "5     177665\n",
       "6     188410\n",
       "7     162175\n",
       "8     162376\n",
       "9     152112\n",
       "10    177079\n",
       "11    163711\n",
       "12    159493\n",
       "Name: 매출, dtype: int64"
      ]
     },
     "execution_count": 524,
     "metadata": {},
     "output_type": "execute_result"
    }
   ],
   "source": [
    "# 동일한 내용: 월별 매출 합계를 바로 출력\n",
    "__df.groupby('월')['매출'].sum()"
   ]
  },
  {
   "cell_type": "code",
   "execution_count": 525,
   "id": "7bb912e5",
   "metadata": {},
   "outputs": [
    {
     "data": {
      "image/png": "[encoded data removed]",
      "text/plain": [
       "<Figure size 800x500 with 1 Axes>"
      ]
     },
     "metadata": {},
     "output_type": "display_data"
    }
   ],
   "source": [
    "# 그래프 사이즈 설정 (가로 8인치, 세로 5인치)\n",
    "plt.figure(figsize=(8, 5))\n",
    "\n",
    "# 월별 매출 합계 라인 그래프 그리기 (각 점 표시)\n",
    "plt.plot(monthly_sales.index, monthly_sales.values, marker='o')\n",
    "\n",
    "# 그래프 제목과 축 라벨 설정\n",
    "plt.title('month sum')     # 그래프 제목\n",
    "plt.xlabel('month')        # x축: 월\n",
    "plt.ylabel('sales')        # y축: 매출합\n",
    "\n",
    "# 그래프 출력\n",
    "plt.show()\n"
   ]
  },
  {
   "cell_type": "code",
   "execution_count": null,
   "id": "7d6ffcfa",
   "metadata": {},
   "outputs": [],
   "source": []
  },
  {
   "cell_type": "code",
   "execution_count": null,
   "id": "80f196d0",
   "metadata": {},
   "outputs": [],
   "source": []
  },
  {
   "cell_type": "code",
   "execution_count": null,
   "id": "27804a59",
   "metadata": {},
   "outputs": [],
   "source": []
  },
  {
   "cell_type": "code",
   "execution_count": null,
   "id": "2b3c514b",
   "metadata": {},
   "outputs": [],
   "source": []
  }
 ],
 "metadata": {
  "kernelspec": {
   "display_name": ".venv",
   "language": "python",
   "name": "python3"
  },
  "language_info": {
   "codemirror_mode": {
    "name": "ipython",
    "version": 3
   },
   "file_extension": ".py",
   "mimetype": "text/x-python",
   "name": "python",
   "nbconvert_exporter": "python",
   "pygments_lexer": "ipython3",
   "version": "3.13.4"
  }
 },
 "nbformat": 4,
 "nbformat_minor": 5
}
